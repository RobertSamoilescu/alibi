{
 "cells": [
  {
   "cell_type": "code",
   "execution_count": null,
   "metadata": {},
   "outputs": [],
   "source": [
    "import glob\n",
    "import wandb\n",
    "import numpy as np\n",
    "import pandas as pd\n",
    "from functools import partial\n",
    "from typing import List, Tuple, Dict, Callable\n",
    "\n",
    "import tensorflow as tf\n",
    "import tensorflow.keras as keras\n",
    "\n",
    "from sklearn.compose import ColumnTransformer\n",
    "from sklearn.impute import SimpleImputer\n",
    "from sklearn.preprocessing import StandardScaler, OneHotEncoder\n",
    "from sklearn.model_selection import train_test_split\n",
    "from sklearn.metrics import accuracy_score\n",
    "from sklearn.ensemble import RandomForestClassifier\n",
    "\n",
    "\n",
    "from alibi.datasets import fetch_adult\n",
    "from alibi.models.tensorflow.autoencoder import HeAE\n",
    "from alibi.models.tensorflow.actor_critic import Actor, Critic\n",
    "from alibi.models.tensorflow.cfrl_models import ADULTEncoder, ADULTDecoder\n",
    "from alibi.explainers.cfrl_tabular import CounterfactualRLTabular\n",
    "from alibi.explainers.backends.cfrl_tabular import he_preprocessor, statistics, conditional_vector, category_mapping\n",
    "from alibi.explainers.cfrl_base import CounterfactualRLBase, ExperienceCallback, TrainingCallback\n",
    "\n",
    "%load_ext autoreload\n",
    "%autoreload 2"
   ]
  },
  {
   "cell_type": "markdown",
   "metadata": {},
   "source": [
    "### Train black-box classifier"
   ]
  },
  {
   "cell_type": "code",
   "execution_count": null,
   "metadata": {},
   "outputs": [],
   "source": [
    "# fetch adult dataset\n",
    "adult = fetch_adult()\n",
    "\n",
    "# separate columns in numerical and categorical\n",
    "categorical_names = [adult.feature_names[i] for i in adult.category_map.keys()]\n",
    "categorical_ids = list(adult.category_map.keys())\n",
    "\n",
    "numerical_names = [name for i, name in enumerate(adult.feature_names) if i not in adult.category_map.keys()]\n",
    "numerical_ids = [i for i in range(len(adult.feature_names)) if i not in adult.category_map.keys()]\n",
    "\n",
    "# split data into train and test\n",
    "x, y = adult.data, adult.target\n",
    "x_train, x_test, y_train, y_test = train_test_split(x, y, test_size=0.2, random_state=13)"
   ]
  },
  {
   "cell_type": "code",
   "execution_count": null,
   "metadata": {},
   "outputs": [],
   "source": [
    "# data preprocessor\n",
    "num_transf = StandardScaler()\n",
    "cat_transf = OneHotEncoder(\n",
    "    categories=[range(len(x)) for x in adult.category_map.values()],\n",
    "    handle_unknown=\"ignore\"\n",
    ")\n",
    "preprocessor = ColumnTransformer(\n",
    "    transformers=[\n",
    "        (\"num\", num_transf, numerical_ids),\n",
    "        (\"cat\", cat_transf, categorical_ids)\n",
    "    ],\n",
    "    sparse_threshold=0\n",
    ")"
   ]
  },
  {
   "cell_type": "code",
   "execution_count": null,
   "metadata": {},
   "outputs": [],
   "source": [
    "preprocessor.fit(x_train)\n",
    "x_train_ohe = preprocessor.transform(x_train)\n",
    "x_test_ohe = preprocessor.transform(x_test)"
   ]
  },
  {
   "cell_type": "code",
   "execution_count": null,
   "metadata": {},
   "outputs": [],
   "source": [
    "clf = RandomForestClassifier(max_depth=15, min_samples_split=10, n_estimators=50)\n",
    "clf.fit(x_train_ohe, y_train)"
   ]
  },
  {
   "cell_type": "code",
   "execution_count": null,
   "metadata": {},
   "outputs": [],
   "source": [
    "# define prediction function\n",
    "predict_func = lambda x: clf.predict(preprocessor.transform(x))\n",
    "\n",
    "# compute accuracy\n",
    "acc = accuracy_score(y_true=y_test, y_pred=predict_func(x_test))\n",
    "print(\"Accuracy: %.3f\" % acc)"
   ]
  },
  {
   "cell_type": "markdown",
   "metadata": {},
   "source": [
    "### Train autoencoder"
   ]
  },
  {
   "cell_type": "code",
   "execution_count": null,
   "metadata": {},
   "outputs": [],
   "source": [
    "# define input dimension\n",
    "input_dim = 57\n",
    "\n",
    "# define hidden dim\n",
    "hidden_dim = 128\n",
    "\n",
    "# define latent dimension\n",
    "latent_dim = 15\n",
    "\n",
    "# output dims\n",
    "output_dims = [len(numerical_ids)]\n",
    "output_dims += [len(adult.category_map[cat_id]) for cat_id in categorical_ids]"
   ]
  },
  {
   "cell_type": "code",
   "execution_count": null,
   "metadata": {},
   "outputs": [],
   "source": [
    "# define the heterogeneous auto-encoder\n",
    "he_ae = HeAE(encoder=ADULTEncoder(hidden_dim=hidden_dim, latent_dim=latent_dim),\n",
    "             decoder=ADULTDecoder(hidden_dim=hidden_dim, output_dims=output_dims))"
   ]
  },
  {
   "cell_type": "code",
   "execution_count": null,
   "metadata": {},
   "outputs": [],
   "source": [
    "# define loss functions\n",
    "he_loss = [keras.losses.MeanSquaredError()]\n",
    "he_loss_weights = [1.]\n",
    "\n",
    "# add categorical losses\n",
    "for i in range(len(categorical_names)):\n",
    "    he_loss.append(keras.losses.SparseCategoricalCrossentropy(from_logits=True))\n",
    "    he_loss_weights.append(1./len(categorical_names))\n",
    "\n",
    "# define metrics\n",
    "metrics = {}\n",
    "for i, cat_name in enumerate(categorical_names):\n",
    "    name = f\"output_{i+2}\"\n",
    "    metrics.update({name: keras.metrics.SparseCategoricalAccuracy()})"
   ]
  },
  {
   "cell_type": "code",
   "execution_count": null,
   "metadata": {},
   "outputs": [],
   "source": [
    "# compile model\n",
    "he_ae.compile(optimizer=keras.optimizers.Adam(learning_rate=1e-3),\n",
    "              loss=he_loss,\n",
    "              loss_weights=he_loss_weights,\n",
    "              metrics=metrics)"
   ]
  },
  {
   "cell_type": "code",
   "execution_count": null,
   "metadata": {},
   "outputs": [],
   "source": [
    "# define attribute types\n",
    "feature_types = {0: int, 8: int, 9: int, 10: int}\n",
    "\n",
    "# define data preprocessor and inverse preprocessor\n",
    "ae_preprocessor, ae_inv_preprocessor = he_preprocessor(x=x_train,\n",
    "                                                       feature_names=adult.feature_names,\n",
    "                                                       category_map=adult.category_map,\n",
    "                                                       feature_types=feature_types)\n",
    "\n",
    "# define trainset\n",
    "trainset_input = ae_preprocessor(x_train)\n",
    "trainset_outputs = [x_train_ohe[:, :len(numerical_ids)]]\n",
    "\n",
    "for cat_id in categorical_ids:\n",
    "    trainset_outputs.append(x_train[:, cat_id].reshape(-1, 1))"
   ]
  },
  {
   "cell_type": "code",
   "execution_count": null,
   "metadata": {
    "scrolled": true
   },
   "outputs": [],
   "source": [
    "# fit model and then save, or if checkpoint already exists, just load the model\n",
    "he_ae_path = \"tensorflow/he_autoencoder/autencoder_adult.tf\"\n",
    "\n",
    "if len(glob.glob(he_ae_path + \"*\")) == 0:\n",
    "    he_ae.fit(trainset_input, trainset_outputs, epochs=500)\n",
    "    he_ae.save_weights(he_ae_path)\n",
    "else:\n",
    "    he_ae.load_weights(he_ae_path).expect_partial()"
   ]
  },
  {
   "cell_type": "markdown",
   "metadata": {},
   "source": [
    "### Counterfactual RL"
   ]
  },
  {
   "cell_type": "markdown",
   "metadata": {},
   "source": [
    "#### Define dataset specifi attributes and constraints"
   ]
  },
  {
   "cell_type": "code",
   "execution_count": null,
   "metadata": {},
   "outputs": [],
   "source": [
    "num_classes = 2\n",
    "\n",
    "# define immutable features\n",
    "immutable_features = ['Marital Status', 'Relationship', 'Race', 'Sex']\n",
    "\n",
    "# define ranges\n",
    "ranges = {'Age': [-0.0, 1.0]}\n",
    "\n",
    "\n",
    "# compute statistic for clamping\n",
    "stats = statistics(x=x_train, \n",
    "                   preprocessor=ae_preprocessor, \n",
    "                   category_map=adult.category_map)"
   ]
  },
  {
   "cell_type": "markdown",
   "metadata": {},
   "source": [
    "#### Define experience callbacks"
   ]
  },
  {
   "cell_type": "code",
   "execution_count": null,
   "metadata": {},
   "outputs": [],
   "source": [
    "class RewardCallback(ExperienceCallback):\n",
    "    def __call__(self,\n",
    "                 step: int, \n",
    "                 model: CounterfactualRLBase, \n",
    "                 sample: Dict[str, np.ndarray]):\n",
    "        if step % 100 != 0:\n",
    "            return\n",
    "        \n",
    "        # get the counterfactual and target\n",
    "        x_cf = model.params[\"ae_inv_preprocessor\"](sample[\"x_cf\"])\n",
    "        y_t = sample[\"y_t\"]\n",
    "        \n",
    "        # get prediction label\n",
    "        y_m_cf = predict_func(x_cf)\n",
    "        \n",
    "        # compute reward\n",
    "        reward = np.mean(model.params[\"reward_func\"](y_m_cf, y_t))\n",
    "        wandb.log({\"reward\": reward})"
   ]
  },
  {
   "cell_type": "markdown",
   "metadata": {},
   "source": [
    "#### Define training callbacks"
   ]
  },
  {
   "cell_type": "code",
   "execution_count": null,
   "metadata": {},
   "outputs": [],
   "source": [
    "class DisplayLossCallback(TrainingCallback):\n",
    "    def __call__(self,\n",
    "                 step: int, \n",
    "                 update: int, \n",
    "                 model: CounterfactualRLBase,\n",
    "                 sample: Dict[str, np.ndarray],\n",
    "                 losses: Dict[str, float]):\n",
    "        # log training losses\n",
    "        if (step + update) % 100 == 0:\n",
    "            wandb.log(losses)"
   ]
  },
  {
   "cell_type": "markdown",
   "metadata": {},
   "source": [
    "#### Define explainer"
   ]
  },
  {
   "cell_type": "code",
   "execution_count": null,
   "metadata": {},
   "outputs": [],
   "source": [
    "# define ddpg\n",
    "explainer = CounterfactualRLTabular(ae=he_ae,\n",
    "                                    latent_dim=latent_dim,\n",
    "                                    ae_preprocessor=ae_preprocessor,\n",
    "                                    ae_inv_preprocessor=ae_inv_preprocessor,\n",
    "                                    predict_func=predict_func,\n",
    "                                    coeff_sparsity=0.5,\n",
    "                                    coeff_consistency=0.5,\n",
    "                                    num_classes=2,\n",
    "                                    category_map=adult.category_map,\n",
    "                                    feature_names=adult.feature_names,\n",
    "                                    ranges=ranges,\n",
    "                                    immutable_features=immutable_features,\n",
    "                                    experience_callbacks=[RewardCallback()],\n",
    "                                    train_callbacks=[DisplayLossCallback()],\n",
    "                                    weight_cat=1.0,\n",
    "                                    weight_num=0.2,\n",
    "                                    backend=\"tensorflow\",\n",
    "                                    train_steps=10000)"
   ]
  },
  {
   "cell_type": "markdown",
   "metadata": {},
   "source": [
    "#### Fit explainer"
   ]
  },
  {
   "cell_type": "code",
   "execution_count": null,
   "metadata": {},
   "outputs": [],
   "source": [
    "#initialize wandb\n",
    "wandb_project = \"ADULT CounterfactualRL\"\n",
    "wandb.init(project=wandb_project)\n",
    "\n",
    "# fit the explainers\n",
    "explainer = explainer.fit(x=x_train)\n",
    "\n",
    "# close wandb\n",
    "wandb.finish()"
   ]
  },
  {
   "cell_type": "markdown",
   "metadata": {},
   "source": [
    "#### Test explainer"
   ]
  },
  {
   "cell_type": "code",
   "execution_count": null,
   "metadata": {},
   "outputs": [],
   "source": [
    "# select some positive examples\n",
    "x_positive = x_train[predict_func(x_train) == 1]\n",
    "\n",
    "\n",
    "x = x_positive[:2]\n",
    "y_t = np.array([0])\n",
    "c = [{\"Age\": [0, 20], \"Workclass\": [\"State-gov\", \"?\", \"Local-gov\"]}]"
   ]
  },
  {
   "cell_type": "code",
   "execution_count": null,
   "metadata": {},
   "outputs": [],
   "source": [
    "# generate counterfactual instances\n",
    "x_cf = explainer.explain(x, y_t, c)"
   ]
  },
  {
   "cell_type": "code",
   "execution_count": null,
   "metadata": {},
   "outputs": [],
   "source": [
    "print(\"Input labels:\", predict_func(x))\n",
    "print(\"Couterfactual labels:\",  predict_func(x_cf))"
   ]
  },
  {
   "cell_type": "code",
   "execution_count": null,
   "metadata": {},
   "outputs": [],
   "source": [
    "pd.DataFrame(category_mapping(x, adult.category_map), columns=adult.feature_names)"
   ]
  },
  {
   "cell_type": "code",
   "execution_count": null,
   "metadata": {},
   "outputs": [],
   "source": [
    "pd.DataFrame(category_mapping(x_cf, adult.category_map),\n",
    "             columns=adult.feature_names)"
   ]
  },
  {
   "cell_type": "markdown",
   "metadata": {},
   "source": [
    "#### Diversity"
   ]
  },
  {
   "cell_type": "code",
   "execution_count": null,
   "metadata": {},
   "outputs": [],
   "source": [
    "# generate counterfactual instances\n",
    "x = x_positive[1].reshape(1, -1)\n",
    "x_cf = explainer.explain(x, y_t, c, diversity=True, num_samples=5)"
   ]
  },
  {
   "cell_type": "code",
   "execution_count": null,
   "metadata": {},
   "outputs": [],
   "source": [
    "predict_func(x)"
   ]
  },
  {
   "cell_type": "code",
   "execution_count": null,
   "metadata": {},
   "outputs": [],
   "source": [
    "pd.DataFrame(category_mapping(x, adult.category_map), columns=adult.feature_names)"
   ]
  },
  {
   "cell_type": "code",
   "execution_count": null,
   "metadata": {},
   "outputs": [],
   "source": [
    "pd.DataFrame(category_mapping(x_cf, adult.category_map), columns=adult.feature_names)"
   ]
  }
 ],
 "metadata": {
  "kernelspec": {
   "display_name": "alibi",
   "language": "python",
   "name": "alibi"
  },
  "language_info": {
   "codemirror_mode": {
    "name": "ipython",
    "version": 3
   },
   "file_extension": ".py",
   "mimetype": "text/x-python",
   "name": "python",
   "nbconvert_exporter": "python",
   "pygments_lexer": "ipython3",
   "version": "3.8.10"
  }
 },
 "nbformat": 4,
 "nbformat_minor": 2
}
