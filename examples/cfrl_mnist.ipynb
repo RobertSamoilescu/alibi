{
 "cells": [
  {
   "cell_type": "code",
   "execution_count": 1,
   "metadata": {},
   "outputs": [
    {
     "name": "stderr",
     "output_type": "stream",
     "text": [
      "/home/robert/anaconda3/envs/dl/lib/python3.8/site-packages/ray/autoscaler/_private/cli_logger.py:57: FutureWarning: Not all Ray CLI dependencies were found. In Ray 1.4+, the Ray CLI, autoscaler, and dashboard will only be usable via `pip install 'ray[default]'`. Please update your install command.\n",
      "  warnings.warn(\n"
     ]
    }
   ],
   "source": [
    "import os\n",
    "import glob\n",
    "import wandb\n",
    "import numpy as np\n",
    "import matplotlib.pyplot as plt\n",
    "from typing import Callable, Dict\n",
    "\n",
    "import tensorflow as tf\n",
    "import tensorflow.keras as keras\n",
    "from alibi.models.tensorflow.autoencoder import AE\n",
    "from alibi.models.tensorflow.actor_critic import Actor, Critic\n",
    "from alibi.models.tensorflow.cfrl_models import MNISTEncoder, MNISTDecoder, MNISTClassifier\n",
    "from alibi.explainers.cfrl_base import CounterfactualRLBase, ExperienceCallback, TrainingCallback\n",
    "\n",
    "%load_ext autoreload\n",
    "%autoreload 2"
   ]
  },
  {
   "cell_type": "markdown",
   "metadata": {},
   "source": [
    "## Load MNIST dataset"
   ]
  },
  {
   "cell_type": "code",
   "execution_count": 2,
   "metadata": {},
   "outputs": [],
   "source": [
    "# load mnist dataset\n",
    "(X_train, Y_train), (X_test, Y_test) = tf.keras.datasets.mnist.load_data()\n",
    "BATCH_SIZE = 64\n",
    "\n",
    "# define trainset\n",
    "trainset_classifier = tf.data.Dataset.from_tensor_slices((\n",
    "    np.expand_dims(X_train, axis=-1).astype(np.float) / 255., Y_train))\n",
    "trainset_classifier = trainset_classifier.shuffle(buffer_size=1024).batch(BATCH_SIZE)\n",
    "\n",
    "# define testset\n",
    "testset_classifier = tf.data.Dataset.from_tensor_slices(\n",
    "    (np.expand_dims(X_test, axis=-1).astype(np.float) / 255., Y_test))\n",
    "testset_classifier = testset_classifier.shuffle(buffer_size=1024).batch(BATCH_SIZE)"
   ]
  },
  {
   "cell_type": "markdown",
   "metadata": {},
   "source": [
    "### Define and train classifier"
   ]
  },
  {
   "cell_type": "code",
   "execution_count": 3,
   "metadata": {},
   "outputs": [],
   "source": [
    "# number of classes\n",
    "num_classes = 10\n",
    "\n",
    "# define classifier path\n",
    "classifier_path = \"tensorflow/classifier/\"\n",
    "if not os.path.exists(classifier_path):\n",
    "    os.makedirs(classifier_path)\n",
    "\n",
    "\n",
    "# define classifier\n",
    "classifier = MNISTClassifier(output_dim=num_classes)\n",
    "\n",
    "# define optimizer and loss\n",
    "optimizer = keras.optimizers.Adam(learning_rate=1e-3)\n",
    "loss = keras.losses.SparseCategoricalCrossentropy(from_logits=True)\n",
    "\n",
    "# fit and compile\n",
    "classifier.compile(optimizer=optimizer, \n",
    "                   loss=loss,\n",
    "                   metrics=[tf.keras.metrics.SparseCategoricalAccuracy()])\n",
    "\n",
    "\n",
    "if len(os.listdir(classifier_path)) == 0:\n",
    "    # fit and save the classifier\n",
    "    classifier.fit(trainset_classifier, epochs=5)\n",
    "    classifier.save(classifier_path)\n",
    "else:\n",
    "    # load the classifier\n",
    "    classifier = keras.models.load_model(classifier_path)"
   ]
  },
  {
   "cell_type": "code",
   "execution_count": 4,
   "metadata": {},
   "outputs": [
    {
     "name": "stdout",
     "output_type": "stream",
     "text": [
      "157/157 [==============================] - 2s 7ms/step - loss: 0.0399 - sparse_categorical_accuracy: 0.9879\n"
     ]
    },
    {
     "data": {
      "text/plain": [
       "[0.030893918126821518, 0.9901999831199646]"
      ]
     },
     "execution_count": 4,
     "metadata": {},
     "output_type": "execute_result"
    }
   ],
   "source": [
    "# evaluate the classifier\n",
    "classifier.evaluate(testset_classifier)"
   ]
  },
  {
   "cell_type": "markdown",
   "metadata": {},
   "source": [
    "### Define and train AE"
   ]
  },
  {
   "cell_type": "code",
   "execution_count": 5,
   "metadata": {},
   "outputs": [],
   "source": [
    "# define trainset\n",
    "trainset_ae = tf.data.Dataset.from_tensor_slices(\n",
    "    np.expand_dims(X_train, axis=-1).astype(np.float) / 255.\n",
    ")\n",
    "trainset_ae = trainset_ae.map(lambda x: (x, x))\n",
    "trainset_ae = trainset_ae.shuffle(buffer_size=1024).batch(BATCH_SIZE)\n",
    "\n",
    "# define testset\n",
    "testset_ae = tf.data.Dataset.from_tensor_slices(\n",
    "    np.expand_dims(X_test, axis=-1).astype(np.float) / 255.\n",
    ")\n",
    "testset_ae = testset_ae.map(lambda x: (x, x))\n",
    "testset_ae = testset_ae.shuffle(buffer_size=1024).batch(BATCH_SIZE)"
   ]
  },
  {
   "cell_type": "code",
   "execution_count": 6,
   "metadata": {
    "scrolled": true
   },
   "outputs": [],
   "source": [
    "# define autoencoder path\n",
    "ae_path = \"tensorflow/autoencoder\"\n",
    "if not os.path.exists(ae_path):\n",
    "    os.makedirs(ae_path)\n",
    "\n",
    "# define autoencoder\n",
    "latent_dim = 64\n",
    "ae = AE(encoder=MNISTEncoder(latent_dim=latent_dim),\n",
    "        decoder=MNISTDecoder())\n",
    "\n",
    "# define optimizer and loss\n",
    "optimizer = keras.optimizers.Adam(learning_rate=1e-3)\n",
    "loss = keras.losses.BinaryCrossentropy(from_logits=False)\n",
    "\n",
    "# compile autoencoder\n",
    "ae.compile(optimizer=optimizer, loss=loss)\n",
    "\n",
    "if len(os.listdir(ae_path)) == 0:\n",
    "    # fit and save autoencoder\n",
    "    ae.fit(trainset_ae, epochs=50)\n",
    "    ae.save(ae_path)\n",
    "else:\n",
    "    # load the model\n",
    "    ae = keras.models.load_model(ae_path)"
   ]
  },
  {
   "cell_type": "markdown",
   "metadata": {},
   "source": [
    "### Test the autoencoder"
   ]
  },
  {
   "cell_type": "code",
   "execution_count": 7,
   "metadata": {},
   "outputs": [],
   "source": [
    "# get some random samples from test\n",
    "num_samples = 5\n",
    "np.random.seed(0)\n",
    "indices = np.random.choice(X_test.shape[0], num_samples)\n",
    "inputs = [X_test[i].reshape(1, 28, 28, 1) for i in indices]\n",
    "inputs = np.concatenate(inputs, axis=0) / 255.\n",
    "\n",
    "# pass samples through the autoencoder\n",
    "inputs_hat = ae(inputs).numpy()"
   ]
  },
  {
   "cell_type": "code",
   "execution_count": 8,
   "metadata": {},
   "outputs": [
    {
     "data": {
      "image/png": "[encoded data removed]",
      "text/plain": [
       "<Figure size 1800x720 with 10 Axes>"
      ]
     },
     "metadata": {
      "needs_background": "light"
     },
     "output_type": "display_data"
    }
   ],
   "source": [
    "# plot inputs and reconstructions\n",
    "plt.rcParams.update({'font.size': 22})\n",
    "fig, ax = plt.subplots(2, num_samples, figsize=(25, 10))\n",
    "\n",
    "for i in range(num_samples):\n",
    "    ax[0][i].imshow(inputs[i])\n",
    "    ax[1][i].imshow(inputs_hat[i])\n",
    "    \n",
    "\n",
    "text1 = ax[0][0].set_ylabel(\"x\")\n",
    "text2 = ax[1][0].set_ylabel(\"x_hat\")        "
   ]
  },
  {
   "cell_type": "markdown",
   "metadata": {},
   "source": [
    "### Counterfactual RL"
   ]
  },
  {
   "cell_type": "code",
   "execution_count": 9,
   "metadata": {},
   "outputs": [],
   "source": [
    "# define prediction function\n",
    "def predictor(X: np.ndarray):\n",
    "    Y = tf.argmax(classifier(X), axis=1).numpy()\n",
    "    return Y"
   ]
  },
  {
   "cell_type": "code",
   "execution_count": 10,
   "metadata": {},
   "outputs": [],
   "source": [
    "class RewardCallback(ExperienceCallback):\n",
    "    def __call__(self,\n",
    "                 step: int, \n",
    "                 model: CounterfactualRLBase, \n",
    "                 sample: Dict[str, np.ndarray]):\n",
    "        if step % 100 != 0:\n",
    "            return\n",
    "        \n",
    "        # get the counterfactual and target\n",
    "        X_cf = sample[\"X_cf\"]\n",
    "        Y_t = sample[\"Y_t\"]\n",
    "        \n",
    "        # get prediction label\n",
    "        Y_m_cf = predictor(X_cf)\n",
    "        \n",
    "        # compute reward\n",
    "        reward = np.mean(model.params[\"reward_func\"](Y_m_cf, Y_t))\n",
    "        wandb.log({\"reward\": reward})\n",
    "        \n",
    "class DisplayImgsCallback(ExperienceCallback):\n",
    "    def __call__(self,\n",
    "                 step:int,\n",
    "                 model: CounterfactualRLBase,\n",
    "                 sample: Dict[str, np.ndarray]):\n",
    "        if step % 100 != 0:\n",
    "            return\n",
    "        \n",
    "        # defie number of samples to be displayed\n",
    "        num_sample = 5\n",
    "        \n",
    "        X = sample[\"X\"][:num_samples]        # input instance\n",
    "        X_cf = sample[\"X_cf\"][:num_samples]  # counterfactual\n",
    "        diff = np.abs(X - X_cf)              # differences\n",
    "        \n",
    "        Y_m = sample[\"Y_m\"][:num_samples].astype(int)   # input labels\n",
    "        Y_t = sample[\"Y_t\"][:num_samples].astype(int)   # target labels\n",
    "        Y_m_cf = predictor(X_cf).astype(int)         # counterfactual labels\n",
    "        \n",
    "        # concatentate images\n",
    "        X = np.concatenate(X, axis=1)\n",
    "        X_cf = np.concatenate(X_cf, axis=1)\n",
    "        diff = np.concatenate(diff, axis=1)\n",
    "        \n",
    "        # construct image\n",
    "        img = np.concatenate([X, X_cf, diff], axis=0)\n",
    "            \n",
    "        # construct caption\n",
    "        caption = \"\"\n",
    "        caption += \"Input:\\t%s\\n\" % str(list(Y_m))\n",
    "        caption += \"Target:\\t%s\\n\" % str(list(Y_t))\n",
    "        caption += \"Predicted:\\t%s\\n\" % str(list(Y_m_cf))\n",
    "        \n",
    "        # log image\n",
    "        wandb.log({\"samples\": wandb.Image(img, caption=caption)})\n",
    "\n",
    "\n",
    "class DisplayLossCallback(TrainingCallback):\n",
    "    def __call__(self,\n",
    "                 step: int, \n",
    "                 update: int, \n",
    "                 model: CounterfactualRLBase,\n",
    "                 sample: Dict[str, np.ndarray],\n",
    "                 losses: Dict[str, float]):\n",
    "        # log training losses\n",
    "        if (step + update) % 100 == 0:\n",
    "            wandb.log(losses)"
   ]
  },
  {
   "cell_type": "code",
   "execution_count": 11,
   "metadata": {},
   "outputs": [],
   "source": [
    "# define ddpg\n",
    "explainer = CounterfactualRLBase(predictor=predictor,\n",
    "                                 ae=ae,\n",
    "                                 latent_dim=latent_dim,\n",
    "                                 coeff_sparsity=7.5,\n",
    "                                 coeff_consistency=0,\n",
    "                                 num_classes=10,\n",
    "                                 backend=\"tensorflow\",\n",
    "                                 experience_callbacks=[RewardCallback(), DisplayImgsCallback()],\n",
    "                                 train_callbacks=[DisplayLossCallback()],\n",
    "                                 train_steps=1000,\n",
    "                                 batch_size=100)"
   ]
  },
  {
   "cell_type": "code",
   "execution_count": 12,
   "metadata": {},
   "outputs": [],
   "source": [
    "# perpare data: add channel and normalize\n",
    "X = np.expand_dims(X_train, axis=-1) / 255."
   ]
  },
  {
   "cell_type": "code",
   "execution_count": 13,
   "metadata": {
    "scrolled": false
   },
   "outputs": [
    {
     "name": "stderr",
     "output_type": "stream",
     "text": [
      "\u001b[34m\u001b[1mwandb\u001b[0m: Currently logged in as: \u001b[33mrfs\u001b[0m (use `wandb login --relogin` to force relogin)\n",
      "\u001b[34m\u001b[1mwandb\u001b[0m: wandb version 0.11.1 is available!  To upgrade, please run:\n",
      "\u001b[34m\u001b[1mwandb\u001b[0m:  $ pip install wandb --upgrade\n"
     ]
    },
    {
     "data": {
      "text/html": [
       "\n",
       "                Tracking run with wandb version 0.10.18<br/>\n",
       "                Syncing run <strong style=\"color:#cdcd00\">visionary-energy-325</strong> to <a href=\"https://wandb.ai\" target=\"_blank\">Weights & Biases</a> <a href=\"https://docs.wandb.com/integrations/jupyter.html\" target=\"_blank\">(Documentation)</a>.<br/>\n",
       "                Project page: <a href=\"https://wandb.ai/rfs/MNIST%20CounterfactualRL\" target=\"_blank\">https://wandb.ai/rfs/MNIST%20CounterfactualRL</a><br/>\n",
       "                Run page: <a href=\"https://wandb.ai/rfs/MNIST%20CounterfactualRL/runs/3pdb81t2\" target=\"_blank\">https://wandb.ai/rfs/MNIST%20CounterfactualRL/runs/3pdb81t2</a><br/>\n",
       "                Run data is saved locally in <code>/home/robert/Desktop/seldon/cfrl/wandb/run-20210801_191440-3pdb81t2</code><br/><br/>\n",
       "            "
      ],
      "text/plain": [
       "<IPython.core.display.HTML object>"
      ]
     },
     "metadata": {},
     "output_type": "display_data"
    },
    {
     "name": "stderr",
     "output_type": "stream",
     "text": [
      "100%|██████████| 1000/1000 [00:25<00:00, 39.33it/s]\n"
     ]
    },
    {
     "data": {
      "text/html": [
       "<br/>Waiting for W&B process to finish, PID 12444<br/>Program ended successfully."
      ],
      "text/plain": [
       "<IPython.core.display.HTML object>"
      ]
     },
     "metadata": {},
     "output_type": "display_data"
    },
    {
     "data": {
      "application/vnd.jupyter.widget-view+json": {
       "model_id": "",
       "version_major": 2,
       "version_minor": 0
      },
      "text/plain": [
       "VBox(children=(Label(value=' 0.03MB of 0.03MB uploaded (0.00MB deduped)\\r'), FloatProgress(value=1.0, max=1.0)…"
      ]
     },
     "metadata": {},
     "output_type": "display_data"
    },
    {
     "data": {
      "text/html": [
       "Find user logs for this run at: <code>/home/robert/Desktop/seldon/cfrl/wandb/run-20210801_191440-3pdb81t2/logs/debug.log</code>"
      ],
      "text/plain": [
       "<IPython.core.display.HTML object>"
      ]
     },
     "metadata": {},
     "output_type": "display_data"
    },
    {
     "data": {
      "text/html": [
       "Find internal logs for this run at: <code>/home/robert/Desktop/seldon/cfrl/wandb/run-20210801_191440-3pdb81t2/logs/debug-internal.log</code>"
      ],
      "text/plain": [
       "<IPython.core.display.HTML object>"
      ]
     },
     "metadata": {},
     "output_type": "display_data"
    },
    {
     "data": {
      "text/html": [
       "<h3>Run summary:</h3><br/><style>\n",
       "    table.wandb td:nth-child(1) { padding: 0 10px; text-align: right }\n",
       "    </style><table class=\"wandb\">\n",
       "<tr><td>reward</td><td>0.07</td></tr><tr><td>_runtime</td><td>28</td></tr><tr><td>_timestamp</td><td>1627834508</td></tr><tr><td>_step</td><td>28</td></tr><tr><td>loss_critic</td><td>0.07893</td></tr><tr><td>loss_actor</td><td>-0.28912</td></tr><tr><td>sparsity_loss</td><td>0.04944</td></tr><tr><td>consistency_loss</td><td>0</td></tr></table>"
      ],
      "text/plain": [
       "<IPython.core.display.HTML object>"
      ]
     },
     "metadata": {},
     "output_type": "display_data"
    },
    {
     "data": {
      "text/html": [
       "<h3>Run history:</h3><br/><style>\n",
       "    table.wandb td:nth-child(1) { padding: 0 10px; text-align: right }\n",
       "    </style><table class=\"wandb\">\n",
       "<tr><td>reward</td><td>▁▅▇▄▆▃▅▂█▂</td></tr><tr><td>_runtime</td><td>▁▁▂▂▂▃▃▃▄▄▄▄▄▄▅▅▅▆▆▆▇▇▇▇▇▇███</td></tr><tr><td>_timestamp</td><td>▁▁▂▂▂▃▃▃▄▄▄▄▄▄▅▅▅▆▆▆▇▇▇▇▇▇███</td></tr><tr><td>_step</td><td>▁▁▁▂▂▂▃▃▃▃▃▄▄▄▅▅▅▅▅▆▆▆▇▇▇▇▇██</td></tr><tr><td>loss_critic</td><td>▄▂▆█▅▃▁▄▄</td></tr><tr><td>loss_actor</td><td>▁▇▆▆█▇█▇▇</td></tr><tr><td>sparsity_loss</td><td>█▆▆▇▆▅▃▂▁</td></tr><tr><td>consistency_loss</td><td>▁▁▁▁▁▁▁▁▁</td></tr></table><br/>"
      ],
      "text/plain": [
       "<IPython.core.display.HTML object>"
      ]
     },
     "metadata": {},
     "output_type": "display_data"
    },
    {
     "data": {
      "text/html": [
       "Synced 5 W&B file(s), 10 media file(s), 0 artifact file(s) and 0 other file(s)"
      ],
      "text/plain": [
       "<IPython.core.display.HTML object>"
      ]
     },
     "metadata": {},
     "output_type": "display_data"
    },
    {
     "data": {
      "text/html": [
       "\n",
       "                    <br/>Synced <strong style=\"color:#cdcd00\">visionary-energy-325</strong>: <a href=\"https://wandb.ai/rfs/MNIST%20CounterfactualRL/runs/3pdb81t2\" target=\"_blank\">https://wandb.ai/rfs/MNIST%20CounterfactualRL/runs/3pdb81t2</a><br/>\n",
       "                "
      ],
      "text/plain": [
       "<IPython.core.display.HTML object>"
      ]
     },
     "metadata": {},
     "output_type": "display_data"
    }
   ],
   "source": [
    "# initialize wandb\n",
    "wandb_project = \"MNIST CounterfactualRL\"\n",
    "wandb.init(project=wandb_project)\n",
    "\n",
    "# fit the explainer\n",
    "explainer.fit(X=X)\n",
    "\n",
    "# close wandb\n",
    "wandb.finish()"
   ]
  },
  {
   "cell_type": "markdown",
   "metadata": {},
   "source": [
    "### Save explainer"
   ]
  },
  {
   "cell_type": "code",
   "execution_count": 14,
   "metadata": {},
   "outputs": [
    {
     "name": "stderr",
     "output_type": "stream",
     "text": [
      "WARNING:absl:Found untraced functions such as conv2d_2_layer_call_fn, conv2d_2_layer_call_and_return_conditional_losses, conv2d_3_layer_call_fn, conv2d_3_layer_call_and_return_conditional_losses, conv2d_4_layer_call_fn while saving (showing 5 of 55). These functions will not be directly callable after loading.\n",
      "WARNING:absl:Found untraced functions such as conv2d_2_layer_call_fn, conv2d_2_layer_call_and_return_conditional_losses, conv2d_3_layer_call_fn, conv2d_3_layer_call_and_return_conditional_losses, conv2d_4_layer_call_fn while saving (showing 5 of 55). These functions will not be directly callable after loading.\n"
     ]
    },
    {
     "name": "stdout",
     "output_type": "stream",
     "text": [
      "INFO:tensorflow:Assets written to: cfrl_base/ae.tf/assets\n"
     ]
    },
    {
     "name": "stderr",
     "output_type": "stream",
     "text": [
      "INFO:tensorflow:Assets written to: cfrl_base/ae.tf/assets\n"
     ]
    },
    {
     "name": "stdout",
     "output_type": "stream",
     "text": [
      "INFO:tensorflow:Assets written to: cfrl_base/actor.tf/assets\n"
     ]
    },
    {
     "name": "stderr",
     "output_type": "stream",
     "text": [
      "INFO:tensorflow:Assets written to: cfrl_base/actor.tf/assets\n"
     ]
    },
    {
     "name": "stdout",
     "output_type": "stream",
     "text": [
      "INFO:tensorflow:Assets written to: cfrl_base/critic.tf/assets\n"
     ]
    },
    {
     "name": "stderr",
     "output_type": "stream",
     "text": [
      "INFO:tensorflow:Assets written to: cfrl_base/critic.tf/assets\n"
     ]
    }
   ],
   "source": [
    "explainer.save(\"cfrl_base\")"
   ]
  },
  {
   "cell_type": "markdown",
   "metadata": {},
   "source": [
    "### Load explainer"
   ]
  },
  {
   "cell_type": "code",
   "execution_count": 15,
   "metadata": {
    "scrolled": false
   },
   "outputs": [],
   "source": [
    "explainer = CounterfactualRLBase.load(\"cfrl_base\", predictor=predictor)"
   ]
  },
  {
   "cell_type": "markdown",
   "metadata": {},
   "source": [
    "### Test loaded explainer"
   ]
  },
  {
   "cell_type": "code",
   "execution_count": 16,
   "metadata": {},
   "outputs": [],
   "source": [
    "# explain instances\n",
    "explanation = explainer.explain(X[0:200], Y_t=np.array([1]), batch_size=100)"
   ]
  },
  {
   "cell_type": "code",
   "execution_count": 17,
   "metadata": {},
   "outputs": [
    {
     "data": {
      "image/png": "[encoded data removed]",
      "text/plain": [
       "<Figure size 1800x720 with 10 Axes>"
      ]
     },
     "metadata": {
      "needs_background": "light"
     },
     "output_type": "display_data"
    }
   ],
   "source": [
    "fig, ax = plt.subplots(2, num_samples, figsize=(25, 10))\n",
    "\n",
    "for i in range(num_samples):\n",
    "    ax[0][i].imshow(explanation.data['orig']['X'][i])\n",
    "    ax[1][i].imshow(explanation.data['cf']['X'][i])\n",
    "    \n",
    "    ax[0][i].set_xlabel(\"Label: \" + str(explanation.data['orig']['class'][i]))\n",
    "    ax[1][i].set_xlabel(\"Label: \" + str(explanation.data['cf']['class'][i]))\n",
    "    \n",
    "\n",
    "text1 = ax[0][0].set_ylabel(\"X\")\n",
    "text2 = ax[1][0].set_ylabel(\"X_hat\")    "
   ]
  }
 ],
 "metadata": {
  "kernelspec": {
   "display_name": "dl",
   "language": "python",
   "name": "dl"
  },
  "language_info": {
   "codemirror_mode": {
    "name": "ipython",
    "version": 3
   },
   "file_extension": ".py",
   "mimetype": "text/x-python",
   "name": "python",
   "nbconvert_exporter": "python",
   "pygments_lexer": "ipython3",
   "version": "3.8.5"
  }
 },
 "nbformat": 4,
 "nbformat_minor": 2
}
