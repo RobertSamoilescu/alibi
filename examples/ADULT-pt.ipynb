{
 "cells": [
  {
   "cell_type": "code",
   "execution_count": 1,
   "metadata": {},
   "outputs": [
    {
     "name": "stderr",
     "output_type": "stream",
     "text": [
      "/home/robert/anaconda3/envs/dl/lib/python3.8/site-packages/ray/autoscaler/_private/cli_logger.py:57: FutureWarning: Not all Ray CLI dependencies were found. In Ray 1.4+, the Ray CLI, autoscaler, and dashboard will only be usable via `pip install 'ray[default]'`. Please update your install command.\n",
      "  warnings.warn(\n"
     ]
    }
   ],
   "source": [
    "import os\n",
    "import wandb\n",
    "import numpy as np\n",
    "import pandas as pd\n",
    "from copy import deepcopy\n",
    "from typing import List, Tuple, Dict, Callable\n",
    "from functools import partial\n",
    "\n",
    "import torch\n",
    "import torch.nn as nn\n",
    "import torch.nn.functional as F\n",
    "from torch.utils.data import Dataset, DataLoader, TensorDataset\n",
    "\n",
    "from sklearn.compose import ColumnTransformer\n",
    "from sklearn.impute import SimpleImputer\n",
    "from sklearn.preprocessing import StandardScaler, OneHotEncoder\n",
    "from sklearn.model_selection import train_test_split\n",
    "from sklearn.ensemble import RandomForestClassifier\n",
    "from sklearn.metrics import accuracy_score\n",
    "\n",
    "from alibi.datasets import fetch_adult\n",
    "from alibi.models.pytorch.autoencoder import HeAE\n",
    "from alibi.models.pytorch.actor_critic import Actor, Critic\n",
    "from alibi.models.pytorch.cfrl_models import ADULTEncoder, ADULTDecoder\n",
    "from alibi.models.pytorch.metrics import AccuracyMetric\n",
    "\n",
    "from alibi.explainers.cfrl_tabular import CounterfactualRLTabular\n",
    "from alibi.explainers.cfrl_base import CounterfactualRLBase, Callback\n",
    "from alibi.explainers.backends.cfrl_tabular import get_he_preprocessor, get_statistics, \\\n",
    "    get_conditional_vector, apply_category_mapping\n",
    "\n",
    "\n",
    "%load_ext autoreload\n",
    "%autoreload 2"
   ]
  },
  {
   "cell_type": "markdown",
   "metadata": {},
   "source": [
    "### Train black-box classifier"
   ]
  },
  {
   "cell_type": "code",
   "execution_count": 2,
   "metadata": {},
   "outputs": [],
   "source": [
    "# fetch adult dataset\n",
    "adult = fetch_adult()\n",
    "\n",
    "# separate columns in numerical and categorical\n",
    "categorical_names = [adult.feature_names[i] for i in adult.category_map.keys()]\n",
    "categorical_ids = list(adult.category_map.keys())\n",
    "\n",
    "numerical_names = [name for i, name in enumerate(adult.feature_names) if i not in adult.category_map.keys()]\n",
    "numerical_ids = [i for i in range(len(adult.feature_names)) if i not in adult.category_map.keys()]\n",
    "\n",
    "# split data into train and test\n",
    "X, Y = adult.data, adult.target\n",
    "X_train, X_test, Y_train, Y_test = train_test_split(X, Y, test_size=0.2, random_state=13)"
   ]
  },
  {
   "cell_type": "code",
   "execution_count": 3,
   "metadata": {},
   "outputs": [],
   "source": [
    "# data preprocessor\n",
    "num_transf = StandardScaler()\n",
    "cat_transf = OneHotEncoder(\n",
    "    categories=[range(len(x)) for x in adult.category_map.values()],\n",
    "    handle_unknown=\"ignore\"\n",
    ")\n",
    "preprocessor = ColumnTransformer(\n",
    "    transformers=[\n",
    "        (\"num\", num_transf, numerical_ids),\n",
    "        (\"cat\", cat_transf, categorical_ids)\n",
    "    ],\n",
    "    sparse_threshold=0\n",
    ")"
   ]
  },
  {
   "cell_type": "code",
   "execution_count": 4,
   "metadata": {},
   "outputs": [],
   "source": [
    "preprocessor.fit(X_train)\n",
    "X_train_ohe = preprocessor.transform(X_train)\n",
    "X_test_ohe = preprocessor.transform(X_test)"
   ]
  },
  {
   "cell_type": "code",
   "execution_count": 5,
   "metadata": {},
   "outputs": [
    {
     "data": {
      "text/plain": [
       "RandomForestClassifier(max_depth=15, min_samples_split=10, n_estimators=50,\n",
       "                       random_state=0)"
      ]
     },
     "execution_count": 5,
     "metadata": {},
     "output_type": "execute_result"
    }
   ],
   "source": [
    "clf = RandomForestClassifier(max_depth=15, min_samples_split=10, n_estimators=50, random_state=0)\n",
    "clf.fit(X_train_ohe, Y_train)"
   ]
  },
  {
   "cell_type": "code",
   "execution_count": 6,
   "metadata": {},
   "outputs": [
    {
     "name": "stdout",
     "output_type": "stream",
     "text": [
      "Accuracy: 0.862\n"
     ]
    }
   ],
   "source": [
    "# define prediction function\n",
    "predictor = lambda x: clf.predict_proba(preprocessor.transform(x))\n",
    "\n",
    "# compute accuracy\n",
    "acc = accuracy_score(y_true=Y_test, y_pred=np.argmax(predictor(X_test), axis=1))\n",
    "print(\"Accuracy: %.3f\" % acc)"
   ]
  },
  {
   "cell_type": "markdown",
   "metadata": {},
   "source": [
    "### Train autoencoder"
   ]
  },
  {
   "cell_type": "code",
   "execution_count": 7,
   "metadata": {},
   "outputs": [],
   "source": [
    "# define input dimension\n",
    "input_dim = 57\n",
    "\n",
    "# define hidden dim\n",
    "hidden_dim = 128\n",
    "\n",
    "# define latent dimension\n",
    "latent_dim = 15\n",
    "\n",
    "# output dims\n",
    "output_dims = [len(numerical_ids)]\n",
    "output_dims += [len(adult.category_map[cat_id]) for cat_id in categorical_ids]"
   ]
  },
  {
   "cell_type": "code",
   "execution_count": 8,
   "metadata": {},
   "outputs": [
    {
     "name": "stderr",
     "output_type": "stream",
     "text": [
      "Lazy modules are a new feature under heavy development so changes to the API or functionality can happen at any moment.\n"
     ]
    }
   ],
   "source": [
    "# define autoencoder\n",
    "he_ae = HeAE(encoder=ADULTEncoder(hidden_dim=hidden_dim, latent_dim=latent_dim), \n",
    "             decoder=ADULTDecoder(hidden_dim=hidden_dim, output_dims=output_dims))"
   ]
  },
  {
   "cell_type": "code",
   "execution_count": 9,
   "metadata": {},
   "outputs": [],
   "source": [
    "# add numerical loss\n",
    "he_loss = [nn.MSELoss()]\n",
    "he_loss_weights = [1.]\n",
    "\n",
    "# add categorical losses\n",
    "for i in range(len(categorical_names)):\n",
    "    he_loss.append(nn.CrossEntropyLoss())\n",
    "    he_loss_weights.append(1./len(categorical_names))\n",
    "    \n",
    "# add metrics\n",
    "metrics = {}\n",
    "for i, cat_name in enumerate(categorical_names):\n",
    "    metrics.update({f\"output_{i+2}\": AccuracyMetric()})"
   ]
  },
  {
   "cell_type": "code",
   "execution_count": 10,
   "metadata": {},
   "outputs": [],
   "source": [
    "# compile model\n",
    "he_ae.compile(optimizer=torch.optim.Adam(he_ae.parameters(), lr=1e-3), \n",
    "              loss=he_loss, \n",
    "              loss_weights=he_loss_weights,\n",
    "              metrics=metrics)"
   ]
  },
  {
   "cell_type": "code",
   "execution_count": 11,
   "metadata": {},
   "outputs": [],
   "source": [
    "BATCH_SIZE = 128\n",
    "NUM_WORKERS = 4\n",
    "\n",
    "# Define attribute types, required for datatype conversion.\n",
    "feature_types = {\"Age\": int, \"Capital Gain\": int, \"Capital Loss\": int, \"Hours per week\": int}\n",
    "\n",
    "# define data preprocessor and inverse preprocessor\n",
    "ae_preprocessor, ae_inv_preprocessor = get_he_preprocessor(X=X_train,\n",
    "                                                           feature_names=adult.feature_names,\n",
    "                                                           category_map=adult.category_map,\n",
    "                                                           feature_types=feature_types)\n",
    "\n",
    "# transform to ohe\n",
    "X_trian_ohe = ae_preprocessor(X_train)\n",
    "X_test_ohe = ae_preprocessor(X_test)\n",
    "\n",
    "# define train loader\n",
    "trainset_input = torch.tensor(X_train_ohe).float()\n",
    "trainset_outputs = [torch.tensor(X_train_ohe).float()[:, :len(numerical_ids)]]\n",
    "\n",
    "for cat_id in categorical_ids:\n",
    "    trainset_outputs.append(torch.tensor(X_train[:, cat_id]).long())       \n",
    "\n",
    "trainset = TensorDataset(trainset_input, *trainset_outputs)\n",
    "trainloader = DataLoader(trainset,\n",
    "                         batch_size=BATCH_SIZE,\n",
    "                         num_workers=NUM_WORKERS,\n",
    "                         shuffle=True,\n",
    "                         drop_last=True)\n"
   ]
  },
  {
   "cell_type": "code",
   "execution_count": 12,
   "metadata": {
    "scrolled": true
   },
   "outputs": [
    {
     "name": "stderr",
     "output_type": "stream",
     "text": [
      "\r",
      "  0%|          | 0/203 [00:00<?, ?it/s]"
     ]
    },
    {
     "name": "stdout",
     "output_type": "stream",
     "text": [
      "Epoch 0/50\n"
     ]
    },
    {
     "name": "stderr",
     "output_type": "stream",
     "text": [
      "100%|██████████| 203/203 [00:03<00:00, 63.97it/s]\n",
      "  0%|          | 0/203 [00:00<?, ?it/s]"
     ]
    },
    {
     "name": "stdout",
     "output_type": "stream",
     "text": [
      "output_1_loss: 0.2761\toutput_2_loss: 0.1410\toutput_3_loss: 0.1558\toutput_4_loss: 0.0872\toutput_5_loss: 0.2140\toutput_6_loss: 0.1232\toutput_7_loss: 0.0723\toutput_8_loss: 0.0448\toutput_9_loss: 0.0911\tloss: 1.2055\toutput_2_accuracy: 0.6984\toutput_3_accuracy: 0.5750\toutput_4_accuracy: 0.7407\toutput_5_accuracy: 0.3784\toutput_6_accuracy: 0.6338\toutput_7_accuracy: 0.8545\toutput_8_accuracy: 0.8372\toutput_9_accuracy: 0.8583\t\n",
      "Epoch 1/50\n"
     ]
    },
    {
     "name": "stderr",
     "output_type": "stream",
     "text": [
      "100%|██████████| 203/203 [00:02<00:00, 81.67it/s] \n",
      "  0%|          | 0/203 [00:00<?, ?it/s]"
     ]
    },
    {
     "name": "stdout",
     "output_type": "stream",
     "text": [
      "output_1_loss: 0.0363\toutput_2_loss: 0.0800\toutput_3_loss: 0.0687\toutput_4_loss: 0.0306\toutput_5_loss: 0.0964\toutput_6_loss: 0.0414\toutput_7_loss: 0.0358\toutput_8_loss: 0.0099\toutput_9_loss: 0.0451\tloss: 0.4443\toutput_2_accuracy: 0.7845\toutput_3_accuracy: 0.8194\toutput_4_accuracy: 0.9185\toutput_5_accuracy: 0.7511\toutput_6_accuracy: 0.9093\toutput_7_accuracy: 0.9012\toutput_8_accuracy: 0.9806\toutput_9_accuracy: 0.9019\t\n",
      "Epoch 2/50\n"
     ]
    },
    {
     "name": "stderr",
     "output_type": "stream",
     "text": [
      "100%|██████████| 203/203 [00:02<00:00, 96.65it/s] \n",
      "  0%|          | 0/203 [00:00<?, ?it/s]"
     ]
    },
    {
     "name": "stdout",
     "output_type": "stream",
     "text": [
      "output_1_loss: 0.0277\toutput_2_loss: 0.0416\toutput_3_loss: 0.0388\toutput_4_loss: 0.0165\toutput_5_loss: 0.0424\toutput_6_loss: 0.0276\toutput_7_loss: 0.0210\toutput_8_loss: 0.0061\toutput_9_loss: 0.0324\tloss: 0.2542\toutput_2_accuracy: 0.9021\toutput_3_accuracy: 0.9112\toutput_4_accuracy: 0.9617\toutput_5_accuracy: 0.9039\toutput_6_accuracy: 0.9388\toutput_7_accuracy: 0.9510\toutput_8_accuracy: 0.9883\toutput_9_accuracy: 0.9232\t\n",
      "Epoch 3/50\n"
     ]
    },
    {
     "name": "stderr",
     "output_type": "stream",
     "text": [
      "100%|██████████| 203/203 [00:02<00:00, 96.42it/s] \n",
      "  0%|          | 0/203 [00:00<?, ?it/s]"
     ]
    },
    {
     "name": "stdout",
     "output_type": "stream",
     "text": [
      "output_1_loss: 0.0214\toutput_2_loss: 0.0254\toutput_3_loss: 0.0238\toutput_4_loss: 0.0104\toutput_5_loss: 0.0247\toutput_6_loss: 0.0193\toutput_7_loss: 0.0149\toutput_8_loss: 0.0044\toutput_9_loss: 0.0270\tloss: 0.1714\toutput_2_accuracy: 0.9436\toutput_3_accuracy: 0.9513\toutput_4_accuracy: 0.9781\toutput_5_accuracy: 0.9520\toutput_6_accuracy: 0.9567\toutput_7_accuracy: 0.9646\toutput_8_accuracy: 0.9914\toutput_9_accuracy: 0.9320\t\n",
      "Epoch 4/50\n"
     ]
    },
    {
     "name": "stderr",
     "output_type": "stream",
     "text": [
      "100%|██████████| 203/203 [00:02<00:00, 80.77it/s]\n",
      "  0%|          | 0/203 [00:00<?, ?it/s]"
     ]
    },
    {
     "name": "stdout",
     "output_type": "stream",
     "text": [
      "output_1_loss: 0.0166\toutput_2_loss: 0.0187\toutput_3_loss: 0.0179\toutput_4_loss: 0.0083\toutput_5_loss: 0.0180\toutput_6_loss: 0.0150\toutput_7_loss: 0.0117\toutput_8_loss: 0.0032\toutput_9_loss: 0.0234\tloss: 0.1327\toutput_2_accuracy: 0.9597\toutput_3_accuracy: 0.9630\toutput_4_accuracy: 0.9809\toutput_5_accuracy: 0.9656\toutput_6_accuracy: 0.9667\toutput_7_accuracy: 0.9715\toutput_8_accuracy: 0.9942\toutput_9_accuracy: 0.9410\t\n",
      "Epoch 5/50\n"
     ]
    },
    {
     "name": "stderr",
     "output_type": "stream",
     "text": [
      "100%|██████████| 203/203 [00:02<00:00, 73.39it/s]\n",
      "  0%|          | 0/203 [00:00<?, ?it/s]"
     ]
    },
    {
     "name": "stdout",
     "output_type": "stream",
     "text": [
      "output_1_loss: 0.0140\toutput_2_loss: 0.0147\toutput_3_loss: 0.0141\toutput_4_loss: 0.0068\toutput_5_loss: 0.0142\toutput_6_loss: 0.0121\toutput_7_loss: 0.0094\toutput_8_loss: 0.0025\toutput_9_loss: 0.0205\tloss: 0.1083\toutput_2_accuracy: 0.9698\toutput_3_accuracy: 0.9713\toutput_4_accuracy: 0.9852\toutput_5_accuracy: 0.9730\toutput_6_accuracy: 0.9733\toutput_7_accuracy: 0.9771\toutput_8_accuracy: 0.9955\toutput_9_accuracy: 0.9493\t\n",
      "Epoch 6/50\n"
     ]
    },
    {
     "name": "stderr",
     "output_type": "stream",
     "text": [
      "100%|██████████| 203/203 [00:02<00:00, 72.11it/s]\n",
      "  0%|          | 0/203 [00:00<?, ?it/s]"
     ]
    },
    {
     "name": "stdout",
     "output_type": "stream",
     "text": [
      "output_1_loss: 0.0121\toutput_2_loss: 0.0122\toutput_3_loss: 0.0116\toutput_4_loss: 0.0057\toutput_5_loss: 0.0122\toutput_6_loss: 0.0097\toutput_7_loss: 0.0078\toutput_8_loss: 0.0021\toutput_9_loss: 0.0176\tloss: 0.0911\toutput_2_accuracy: 0.9746\toutput_3_accuracy: 0.9777\toutput_4_accuracy: 0.9880\toutput_5_accuracy: 0.9768\toutput_6_accuracy: 0.9789\toutput_7_accuracy: 0.9816\toutput_8_accuracy: 0.9964\toutput_9_accuracy: 0.9578\t\n",
      "Epoch 7/50\n"
     ]
    },
    {
     "name": "stderr",
     "output_type": "stream",
     "text": [
      "100%|██████████| 203/203 [00:02<00:00, 77.98it/s] \n",
      "  0%|          | 0/203 [00:00<?, ?it/s]"
     ]
    },
    {
     "name": "stdout",
     "output_type": "stream",
     "text": [
      "output_1_loss: 0.0108\toutput_2_loss: 0.0106\toutput_3_loss: 0.0098\toutput_4_loss: 0.0049\toutput_5_loss: 0.0108\toutput_6_loss: 0.0082\toutput_7_loss: 0.0068\toutput_8_loss: 0.0017\toutput_9_loss: 0.0155\tloss: 0.0790\toutput_2_accuracy: 0.9787\toutput_3_accuracy: 0.9821\toutput_4_accuracy: 0.9898\toutput_5_accuracy: 0.9788\toutput_6_accuracy: 0.9821\toutput_7_accuracy: 0.9837\toutput_8_accuracy: 0.9971\toutput_9_accuracy: 0.9628\t\n",
      "Epoch 8/50\n"
     ]
    },
    {
     "name": "stderr",
     "output_type": "stream",
     "text": [
      "100%|██████████| 203/203 [00:02<00:00, 85.82it/s] \n",
      "  0%|          | 0/203 [00:00<?, ?it/s]"
     ]
    },
    {
     "name": "stdout",
     "output_type": "stream",
     "text": [
      "output_1_loss: 0.0095\toutput_2_loss: 0.0094\toutput_3_loss: 0.0086\toutput_4_loss: 0.0043\toutput_5_loss: 0.0098\toutput_6_loss: 0.0073\toutput_7_loss: 0.0061\toutput_8_loss: 0.0015\toutput_9_loss: 0.0138\tloss: 0.0703\toutput_2_accuracy: 0.9805\toutput_3_accuracy: 0.9844\toutput_4_accuracy: 0.9903\toutput_5_accuracy: 0.9803\toutput_6_accuracy: 0.9836\toutput_7_accuracy: 0.9860\toutput_8_accuracy: 0.9972\toutput_9_accuracy: 0.9672\t\n",
      "Epoch 9/50\n"
     ]
    },
    {
     "name": "stderr",
     "output_type": "stream",
     "text": [
      "100%|██████████| 203/203 [00:02<00:00, 88.42it/s] \n",
      "  0%|          | 0/203 [00:00<?, ?it/s]"
     ]
    },
    {
     "name": "stdout",
     "output_type": "stream",
     "text": [
      "output_1_loss: 0.0088\toutput_2_loss: 0.0084\toutput_3_loss: 0.0076\toutput_4_loss: 0.0040\toutput_5_loss: 0.0090\toutput_6_loss: 0.0065\toutput_7_loss: 0.0055\toutput_8_loss: 0.0013\toutput_9_loss: 0.0126\tloss: 0.0636\toutput_2_accuracy: 0.9832\toutput_3_accuracy: 0.9860\toutput_4_accuracy: 0.9910\toutput_5_accuracy: 0.9825\toutput_6_accuracy: 0.9858\toutput_7_accuracy: 0.9870\toutput_8_accuracy: 0.9978\toutput_9_accuracy: 0.9706\t\n",
      "Epoch 10/50\n"
     ]
    },
    {
     "name": "stderr",
     "output_type": "stream",
     "text": [
      "100%|██████████| 203/203 [00:02<00:00, 87.49it/s] \n",
      "  0%|          | 0/203 [00:00<?, ?it/s]"
     ]
    },
    {
     "name": "stdout",
     "output_type": "stream",
     "text": [
      "output_1_loss: 0.0081\toutput_2_loss: 0.0075\toutput_3_loss: 0.0069\toutput_4_loss: 0.0037\toutput_5_loss: 0.0081\toutput_6_loss: 0.0060\toutput_7_loss: 0.0051\toutput_8_loss: 0.0011\toutput_9_loss: 0.0114\tloss: 0.0579\toutput_2_accuracy: 0.9851\toutput_3_accuracy: 0.9873\toutput_4_accuracy: 0.9915\toutput_5_accuracy: 0.9842\toutput_6_accuracy: 0.9868\toutput_7_accuracy: 0.9885\toutput_8_accuracy: 0.9983\toutput_9_accuracy: 0.9737\t\n",
      "Epoch 11/50\n"
     ]
    },
    {
     "name": "stderr",
     "output_type": "stream",
     "text": [
      "100%|██████████| 203/203 [00:02<00:00, 85.97it/s] \n",
      "  0%|          | 0/203 [00:00<?, ?it/s]"
     ]
    },
    {
     "name": "stdout",
     "output_type": "stream",
     "text": [
      "output_1_loss: 0.0075\toutput_2_loss: 0.0069\toutput_3_loss: 0.0063\toutput_4_loss: 0.0034\toutput_5_loss: 0.0075\toutput_6_loss: 0.0056\toutput_7_loss: 0.0046\toutput_8_loss: 0.0010\toutput_9_loss: 0.0106\tloss: 0.0533\toutput_2_accuracy: 0.9862\toutput_3_accuracy: 0.9881\toutput_4_accuracy: 0.9925\toutput_5_accuracy: 0.9853\toutput_6_accuracy: 0.9879\toutput_7_accuracy: 0.9894\toutput_8_accuracy: 0.9981\toutput_9_accuracy: 0.9759\t\n",
      "Epoch 12/50\n"
     ]
    },
    {
     "name": "stderr",
     "output_type": "stream",
     "text": [
      "100%|██████████| 203/203 [00:02<00:00, 77.70it/s]\n",
      "  0%|          | 0/203 [00:00<?, ?it/s]"
     ]
    },
    {
     "name": "stdout",
     "output_type": "stream",
     "text": [
      "output_1_loss: 0.0070\toutput_2_loss: 0.0063\toutput_3_loss: 0.0058\toutput_4_loss: 0.0031\toutput_5_loss: 0.0069\toutput_6_loss: 0.0052\toutput_7_loss: 0.0042\toutput_8_loss: 0.0009\toutput_9_loss: 0.0097\tloss: 0.0490\toutput_2_accuracy: 0.9873\toutput_3_accuracy: 0.9890\toutput_4_accuracy: 0.9928\toutput_5_accuracy: 0.9864\toutput_6_accuracy: 0.9883\toutput_7_accuracy: 0.9903\toutput_8_accuracy: 0.9983\toutput_9_accuracy: 0.9784\t\n",
      "Epoch 13/50\n"
     ]
    },
    {
     "name": "stderr",
     "output_type": "stream",
     "text": [
      "100%|██████████| 203/203 [00:02<00:00, 71.33it/s]\n",
      "  0%|          | 0/203 [00:00<?, ?it/s]"
     ]
    },
    {
     "name": "stdout",
     "output_type": "stream",
     "text": [
      "output_1_loss: 0.0066\toutput_2_loss: 0.0057\toutput_3_loss: 0.0053\toutput_4_loss: 0.0029\toutput_5_loss: 0.0064\toutput_6_loss: 0.0048\toutput_7_loss: 0.0037\toutput_8_loss: 0.0008\toutput_9_loss: 0.0090\tloss: 0.0452\toutput_2_accuracy: 0.9887\toutput_3_accuracy: 0.9895\toutput_4_accuracy: 0.9933\toutput_5_accuracy: 0.9880\toutput_6_accuracy: 0.9894\toutput_7_accuracy: 0.9920\toutput_8_accuracy: 0.9987\toutput_9_accuracy: 0.9796\t\n",
      "Epoch 14/50\n"
     ]
    },
    {
     "name": "stderr",
     "output_type": "stream",
     "text": [
      "100%|██████████| 203/203 [00:02<00:00, 71.47it/s]\n",
      "  0%|          | 0/203 [00:00<?, ?it/s]"
     ]
    },
    {
     "name": "stdout",
     "output_type": "stream",
     "text": [
      "output_1_loss: 0.0064\toutput_2_loss: 0.0053\toutput_3_loss: 0.0048\toutput_4_loss: 0.0028\toutput_5_loss: 0.0059\toutput_6_loss: 0.0045\toutput_7_loss: 0.0034\toutput_8_loss: 0.0007\toutput_9_loss: 0.0084\tloss: 0.0422\toutput_2_accuracy: 0.9891\toutput_3_accuracy: 0.9909\toutput_4_accuracy: 0.9938\toutput_5_accuracy: 0.9885\toutput_6_accuracy: 0.9900\toutput_7_accuracy: 0.9932\toutput_8_accuracy: 0.9987\toutput_9_accuracy: 0.9809\t\n",
      "Epoch 15/50\n"
     ]
    },
    {
     "name": "stderr",
     "output_type": "stream",
     "text": [
      "100%|██████████| 203/203 [00:02<00:00, 77.68it/s]\n",
      "  0%|          | 0/203 [00:00<?, ?it/s]"
     ]
    },
    {
     "name": "stdout",
     "output_type": "stream",
     "text": [
      "output_1_loss: 0.0060\toutput_2_loss: 0.0048\toutput_3_loss: 0.0045\toutput_4_loss: 0.0027\toutput_5_loss: 0.0054\toutput_6_loss: 0.0042\toutput_7_loss: 0.0030\toutput_8_loss: 0.0007\toutput_9_loss: 0.0078\tloss: 0.0391\toutput_2_accuracy: 0.9905\toutput_3_accuracy: 0.9914\toutput_4_accuracy: 0.9943\toutput_5_accuracy: 0.9905\toutput_6_accuracy: 0.9907\toutput_7_accuracy: 0.9940\toutput_8_accuracy: 0.9990\toutput_9_accuracy: 0.9818\t\n",
      "Epoch 16/50\n"
     ]
    },
    {
     "name": "stderr",
     "output_type": "stream",
     "text": [
      "100%|██████████| 203/203 [00:02<00:00, 85.37it/s] \n",
      "  0%|          | 0/203 [00:00<?, ?it/s]"
     ]
    },
    {
     "name": "stdout",
     "output_type": "stream",
     "text": [
      "output_1_loss: 0.0056\toutput_2_loss: 0.0045\toutput_3_loss: 0.0041\toutput_4_loss: 0.0024\toutput_5_loss: 0.0050\toutput_6_loss: 0.0040\toutput_7_loss: 0.0028\toutput_8_loss: 0.0006\toutput_9_loss: 0.0073\tloss: 0.0363\toutput_2_accuracy: 0.9910\toutput_3_accuracy: 0.9920\toutput_4_accuracy: 0.9947\toutput_5_accuracy: 0.9905\toutput_6_accuracy: 0.9910\toutput_7_accuracy: 0.9943\toutput_8_accuracy: 0.9991\toutput_9_accuracy: 0.9830\t\n",
      "Epoch 17/50\n"
     ]
    },
    {
     "name": "stderr",
     "output_type": "stream",
     "text": [
      "100%|██████████| 203/203 [00:02<00:00, 85.29it/s] \n",
      "  0%|          | 0/203 [00:00<?, ?it/s]"
     ]
    },
    {
     "name": "stdout",
     "output_type": "stream",
     "text": [
      "output_1_loss: 0.0055\toutput_2_loss: 0.0042\toutput_3_loss: 0.0037\toutput_4_loss: 0.0023\toutput_5_loss: 0.0045\toutput_6_loss: 0.0037\toutput_7_loss: 0.0026\toutput_8_loss: 0.0005\toutput_9_loss: 0.0069\tloss: 0.0339\toutput_2_accuracy: 0.9922\toutput_3_accuracy: 0.9928\toutput_4_accuracy: 0.9948\toutput_5_accuracy: 0.9916\toutput_6_accuracy: 0.9916\toutput_7_accuracy: 0.9950\toutput_8_accuracy: 0.9992\toutput_9_accuracy: 0.9849\t\n",
      "Epoch 18/50\n"
     ]
    },
    {
     "name": "stderr",
     "output_type": "stream",
     "text": [
      "100%|██████████| 203/203 [00:02<00:00, 86.50it/s] \n",
      "  0%|          | 0/203 [00:00<?, ?it/s]"
     ]
    },
    {
     "name": "stdout",
     "output_type": "stream",
     "text": [
      "output_1_loss: 0.0052\toutput_2_loss: 0.0038\toutput_3_loss: 0.0035\toutput_4_loss: 0.0022\toutput_5_loss: 0.0042\toutput_6_loss: 0.0035\toutput_7_loss: 0.0024\toutput_8_loss: 0.0005\toutput_9_loss: 0.0064\tloss: 0.0317\toutput_2_accuracy: 0.9925\toutput_3_accuracy: 0.9933\toutput_4_accuracy: 0.9955\toutput_5_accuracy: 0.9926\toutput_6_accuracy: 0.9923\toutput_7_accuracy: 0.9949\toutput_8_accuracy: 0.9993\toutput_9_accuracy: 0.9859\t\n",
      "Epoch 19/50\n"
     ]
    },
    {
     "name": "stderr",
     "output_type": "stream",
     "text": [
      "100%|██████████| 203/203 [00:02<00:00, 85.47it/s] \n",
      "  0%|          | 0/203 [00:00<?, ?it/s]"
     ]
    },
    {
     "name": "stdout",
     "output_type": "stream",
     "text": [
      "output_1_loss: 0.0049\toutput_2_loss: 0.0036\toutput_3_loss: 0.0032\toutput_4_loss: 0.0021\toutput_5_loss: 0.0037\toutput_6_loss: 0.0032\toutput_7_loss: 0.0022\toutput_8_loss: 0.0005\toutput_9_loss: 0.0061\tloss: 0.0296\toutput_2_accuracy: 0.9933\toutput_3_accuracy: 0.9942\toutput_4_accuracy: 0.9957\toutput_5_accuracy: 0.9935\toutput_6_accuracy: 0.9933\toutput_7_accuracy: 0.9954\toutput_8_accuracy: 0.9994\toutput_9_accuracy: 0.9861\t\n",
      "Epoch 20/50\n"
     ]
    },
    {
     "name": "stderr",
     "output_type": "stream",
     "text": [
      "100%|██████████| 203/203 [00:02<00:00, 92.33it/s] \n",
      "  0%|          | 0/203 [00:00<?, ?it/s]"
     ]
    },
    {
     "name": "stdout",
     "output_type": "stream",
     "text": [
      "output_1_loss: 0.0049\toutput_2_loss: 0.0033\toutput_3_loss: 0.0030\toutput_4_loss: 0.0020\toutput_5_loss: 0.0035\toutput_6_loss: 0.0031\toutput_7_loss: 0.0021\toutput_8_loss: 0.0004\toutput_9_loss: 0.0057\tloss: 0.0281\toutput_2_accuracy: 0.9939\toutput_3_accuracy: 0.9942\toutput_4_accuracy: 0.9960\toutput_5_accuracy: 0.9938\toutput_6_accuracy: 0.9931\toutput_7_accuracy: 0.9955\toutput_8_accuracy: 0.9995\toutput_9_accuracy: 0.9876\t\n",
      "Epoch 21/50\n"
     ]
    },
    {
     "name": "stderr",
     "output_type": "stream",
     "text": [
      "100%|██████████| 203/203 [00:02<00:00, 95.75it/s] \n",
      "  0%|          | 0/203 [00:00<?, ?it/s]"
     ]
    },
    {
     "name": "stdout",
     "output_type": "stream",
     "text": [
      "output_1_loss: 0.0047\toutput_2_loss: 0.0031\toutput_3_loss: 0.0028\toutput_4_loss: 0.0019\toutput_5_loss: 0.0031\toutput_6_loss: 0.0030\toutput_7_loss: 0.0020\toutput_8_loss: 0.0004\toutput_9_loss: 0.0053\tloss: 0.0263\toutput_2_accuracy: 0.9939\toutput_3_accuracy: 0.9950\toutput_4_accuracy: 0.9964\toutput_5_accuracy: 0.9945\toutput_6_accuracy: 0.9938\toutput_7_accuracy: 0.9963\toutput_8_accuracy: 0.9996\toutput_9_accuracy: 0.9885\t\n",
      "Epoch 22/50\n"
     ]
    },
    {
     "name": "stderr",
     "output_type": "stream",
     "text": [
      "100%|██████████| 203/203 [00:02<00:00, 94.91it/s] \n",
      "  0%|          | 0/203 [00:00<?, ?it/s]"
     ]
    },
    {
     "name": "stdout",
     "output_type": "stream",
     "text": [
      "output_1_loss: 0.0048\toutput_2_loss: 0.0028\toutput_3_loss: 0.0026\toutput_4_loss: 0.0018\toutput_5_loss: 0.0029\toutput_6_loss: 0.0027\toutput_7_loss: 0.0018\toutput_8_loss: 0.0004\toutput_9_loss: 0.0051\tloss: 0.0249\toutput_2_accuracy: 0.9950\toutput_3_accuracy: 0.9952\toutput_4_accuracy: 0.9964\toutput_5_accuracy: 0.9943\toutput_6_accuracy: 0.9943\toutput_7_accuracy: 0.9963\toutput_8_accuracy: 0.9997\toutput_9_accuracy: 0.9887\t\n",
      "Epoch 23/50\n"
     ]
    },
    {
     "name": "stderr",
     "output_type": "stream",
     "text": [
      "100%|██████████| 203/203 [00:02<00:00, 84.21it/s]\n",
      "  0%|          | 0/203 [00:00<?, ?it/s]"
     ]
    },
    {
     "name": "stdout",
     "output_type": "stream",
     "text": [
      "output_1_loss: 0.0044\toutput_2_loss: 0.0026\toutput_3_loss: 0.0024\toutput_4_loss: 0.0017\toutput_5_loss: 0.0027\toutput_6_loss: 0.0025\toutput_7_loss: 0.0017\toutput_8_loss: 0.0004\toutput_9_loss: 0.0048\tloss: 0.0232\toutput_2_accuracy: 0.9954\toutput_3_accuracy: 0.9957\toutput_4_accuracy: 0.9967\toutput_5_accuracy: 0.9951\toutput_6_accuracy: 0.9946\toutput_7_accuracy: 0.9969\toutput_8_accuracy: 0.9995\toutput_9_accuracy: 0.9897\t\n",
      "Epoch 24/50\n"
     ]
    },
    {
     "name": "stderr",
     "output_type": "stream",
     "text": [
      "100%|██████████| 203/203 [00:02<00:00, 78.87it/s]\n",
      "  0%|          | 0/203 [00:00<?, ?it/s]"
     ]
    },
    {
     "name": "stdout",
     "output_type": "stream",
     "text": [
      "output_1_loss: 0.0042\toutput_2_loss: 0.0025\toutput_3_loss: 0.0022\toutput_4_loss: 0.0016\toutput_5_loss: 0.0025\toutput_6_loss: 0.0024\toutput_7_loss: 0.0017\toutput_8_loss: 0.0004\toutput_9_loss: 0.0046\tloss: 0.0219\toutput_2_accuracy: 0.9959\toutput_3_accuracy: 0.9964\toutput_4_accuracy: 0.9971\toutput_5_accuracy: 0.9956\toutput_6_accuracy: 0.9953\toutput_7_accuracy: 0.9972\toutput_8_accuracy: 0.9994\toutput_9_accuracy: 0.9897\t\n",
      "Epoch 25/50\n"
     ]
    },
    {
     "name": "stderr",
     "output_type": "stream",
     "text": [
      "100%|██████████| 203/203 [00:02<00:00, 94.84it/s] \n",
      "  0%|          | 0/203 [00:00<?, ?it/s]"
     ]
    },
    {
     "name": "stdout",
     "output_type": "stream",
     "text": [
      "output_1_loss: 0.0042\toutput_2_loss: 0.0023\toutput_3_loss: 0.0021\toutput_4_loss: 0.0015\toutput_5_loss: 0.0023\toutput_6_loss: 0.0022\toutput_7_loss: 0.0015\toutput_8_loss: 0.0003\toutput_9_loss: 0.0042\tloss: 0.0206\toutput_2_accuracy: 0.9961\toutput_3_accuracy: 0.9964\toutput_4_accuracy: 0.9970\toutput_5_accuracy: 0.9957\toutput_6_accuracy: 0.9957\toutput_7_accuracy: 0.9978\toutput_8_accuracy: 0.9997\toutput_9_accuracy: 0.9910\t\n",
      "Epoch 26/50\n"
     ]
    },
    {
     "name": "stderr",
     "output_type": "stream",
     "text": [
      "100%|██████████| 203/203 [00:02<00:00, 93.28it/s] \n",
      "  0%|          | 0/203 [00:00<?, ?it/s]"
     ]
    },
    {
     "name": "stdout",
     "output_type": "stream",
     "text": [
      "output_1_loss: 0.0041\toutput_2_loss: 0.0021\toutput_3_loss: 0.0020\toutput_4_loss: 0.0015\toutput_5_loss: 0.0021\toutput_6_loss: 0.0020\toutput_7_loss: 0.0015\toutput_8_loss: 0.0003\toutput_9_loss: 0.0040\tloss: 0.0196\toutput_2_accuracy: 0.9963\toutput_3_accuracy: 0.9967\toutput_4_accuracy: 0.9976\toutput_5_accuracy: 0.9968\toutput_6_accuracy: 0.9962\toutput_7_accuracy: 0.9977\toutput_8_accuracy: 0.9997\toutput_9_accuracy: 0.9915\t\n",
      "Epoch 27/50\n"
     ]
    },
    {
     "name": "stderr",
     "output_type": "stream",
     "text": [
      "100%|██████████| 203/203 [00:02<00:00, 95.63it/s] \n",
      "  0%|          | 0/203 [00:00<?, ?it/s]"
     ]
    },
    {
     "name": "stdout",
     "output_type": "stream",
     "text": [
      "output_1_loss: 0.0038\toutput_2_loss: 0.0020\toutput_3_loss: 0.0019\toutput_4_loss: 0.0013\toutput_5_loss: 0.0020\toutput_6_loss: 0.0019\toutput_7_loss: 0.0013\toutput_8_loss: 0.0003\toutput_9_loss: 0.0036\tloss: 0.0182\toutput_2_accuracy: 0.9966\toutput_3_accuracy: 0.9968\toutput_4_accuracy: 0.9977\toutput_5_accuracy: 0.9965\toutput_6_accuracy: 0.9966\toutput_7_accuracy: 0.9977\toutput_8_accuracy: 0.9997\toutput_9_accuracy: 0.9920\t\n",
      "Epoch 28/50\n"
     ]
    },
    {
     "name": "stderr",
     "output_type": "stream",
     "text": [
      "100%|██████████| 203/203 [00:02<00:00, 95.08it/s] \n",
      "  0%|          | 0/203 [00:00<?, ?it/s]"
     ]
    },
    {
     "name": "stdout",
     "output_type": "stream",
     "text": [
      "output_1_loss: 0.0038\toutput_2_loss: 0.0019\toutput_3_loss: 0.0017\toutput_4_loss: 0.0012\toutput_5_loss: 0.0019\toutput_6_loss: 0.0017\toutput_7_loss: 0.0013\toutput_8_loss: 0.0003\toutput_9_loss: 0.0034\tloss: 0.0172\toutput_2_accuracy: 0.9967\toutput_3_accuracy: 0.9972\toutput_4_accuracy: 0.9980\toutput_5_accuracy: 0.9966\toutput_6_accuracy: 0.9970\toutput_7_accuracy: 0.9980\toutput_8_accuracy: 0.9998\toutput_9_accuracy: 0.9928\t\n",
      "Epoch 29/50\n"
     ]
    },
    {
     "name": "stderr",
     "output_type": "stream",
     "text": [
      "100%|██████████| 203/203 [00:02<00:00, 91.94it/s] \n",
      "  0%|          | 0/203 [00:00<?, ?it/s]"
     ]
    },
    {
     "name": "stdout",
     "output_type": "stream",
     "text": [
      "output_1_loss: 0.0037\toutput_2_loss: 0.0017\toutput_3_loss: 0.0016\toutput_4_loss: 0.0012\toutput_5_loss: 0.0017\toutput_6_loss: 0.0016\toutput_7_loss: 0.0012\toutput_8_loss: 0.0002\toutput_9_loss: 0.0032\tloss: 0.0163\toutput_2_accuracy: 0.9970\toutput_3_accuracy: 0.9975\toutput_4_accuracy: 0.9978\toutput_5_accuracy: 0.9970\toutput_6_accuracy: 0.9971\toutput_7_accuracy: 0.9982\toutput_8_accuracy: 0.9999\toutput_9_accuracy: 0.9931\t\n",
      "Epoch 30/50\n"
     ]
    },
    {
     "name": "stderr",
     "output_type": "stream",
     "text": [
      "100%|██████████| 203/203 [00:02<00:00, 73.12it/s]\n",
      "  0%|          | 0/203 [00:00<?, ?it/s]"
     ]
    },
    {
     "name": "stdout",
     "output_type": "stream",
     "text": [
      "output_1_loss: 0.0035\toutput_2_loss: 0.0016\toutput_3_loss: 0.0015\toutput_4_loss: 0.0012\toutput_5_loss: 0.0016\toutput_6_loss: 0.0015\toutput_7_loss: 0.0011\toutput_8_loss: 0.0002\toutput_9_loss: 0.0030\tloss: 0.0154\toutput_2_accuracy: 0.9976\toutput_3_accuracy: 0.9972\toutput_4_accuracy: 0.9977\toutput_5_accuracy: 0.9970\toutput_6_accuracy: 0.9973\toutput_7_accuracy: 0.9984\toutput_8_accuracy: 0.9998\toutput_9_accuracy: 0.9941\t\n",
      "Epoch 31/50\n"
     ]
    },
    {
     "name": "stderr",
     "output_type": "stream",
     "text": [
      "100%|██████████| 203/203 [00:02<00:00, 72.77it/s]\n",
      "  0%|          | 0/203 [00:00<?, ?it/s]"
     ]
    },
    {
     "name": "stdout",
     "output_type": "stream",
     "text": [
      "output_1_loss: 0.0036\toutput_2_loss: 0.0015\toutput_3_loss: 0.0014\toutput_4_loss: 0.0011\toutput_5_loss: 0.0015\toutput_6_loss: 0.0014\toutput_7_loss: 0.0011\toutput_8_loss: 0.0002\toutput_9_loss: 0.0028\tloss: 0.0146\toutput_2_accuracy: 0.9975\toutput_3_accuracy: 0.9976\toutput_4_accuracy: 0.9982\toutput_5_accuracy: 0.9975\toutput_6_accuracy: 0.9977\toutput_7_accuracy: 0.9984\toutput_8_accuracy: 0.9999\toutput_9_accuracy: 0.9948\t\n",
      "Epoch 32/50\n"
     ]
    },
    {
     "name": "stderr",
     "output_type": "stream",
     "text": [
      "100%|██████████| 203/203 [00:02<00:00, 72.25it/s] \n",
      "  0%|          | 0/203 [00:00<?, ?it/s]"
     ]
    },
    {
     "name": "stdout",
     "output_type": "stream",
     "text": [
      "output_1_loss: 0.0035\toutput_2_loss: 0.0015\toutput_3_loss: 0.0014\toutput_4_loss: 0.0011\toutput_5_loss: 0.0015\toutput_6_loss: 0.0014\toutput_7_loss: 0.0010\toutput_8_loss: 0.0002\toutput_9_loss: 0.0026\tloss: 0.0141\toutput_2_accuracy: 0.9976\toutput_3_accuracy: 0.9974\toutput_4_accuracy: 0.9982\toutput_5_accuracy: 0.9977\toutput_6_accuracy: 0.9975\toutput_7_accuracy: 0.9984\toutput_8_accuracy: 0.9998\toutput_9_accuracy: 0.9952\t\n",
      "Epoch 33/50\n"
     ]
    },
    {
     "name": "stderr",
     "output_type": "stream",
     "text": [
      "100%|██████████| 203/203 [00:03<00:00, 57.62it/s]\n",
      "  0%|          | 0/203 [00:00<?, ?it/s]"
     ]
    },
    {
     "name": "stdout",
     "output_type": "stream",
     "text": [
      "output_1_loss: 0.0034\toutput_2_loss: 0.0014\toutput_3_loss: 0.0013\toutput_4_loss: 0.0010\toutput_5_loss: 0.0014\toutput_6_loss: 0.0013\toutput_7_loss: 0.0010\toutput_8_loss: 0.0002\toutput_9_loss: 0.0025\tloss: 0.0134\toutput_2_accuracy: 0.9976\toutput_3_accuracy: 0.9973\toutput_4_accuracy: 0.9983\toutput_5_accuracy: 0.9981\toutput_6_accuracy: 0.9980\toutput_7_accuracy: 0.9986\toutput_8_accuracy: 0.9999\toutput_9_accuracy: 0.9954\t\n",
      "Epoch 34/50\n"
     ]
    },
    {
     "name": "stderr",
     "output_type": "stream",
     "text": [
      "100%|██████████| 203/203 [00:02<00:00, 81.06it/s] \n",
      "  0%|          | 0/203 [00:00<?, ?it/s]"
     ]
    },
    {
     "name": "stdout",
     "output_type": "stream",
     "text": [
      "output_1_loss: 0.0032\toutput_2_loss: 0.0013\toutput_3_loss: 0.0013\toutput_4_loss: 0.0009\toutput_5_loss: 0.0013\toutput_6_loss: 0.0012\toutput_7_loss: 0.0010\toutput_8_loss: 0.0002\toutput_9_loss: 0.0023\tloss: 0.0125\toutput_2_accuracy: 0.9982\toutput_3_accuracy: 0.9979\toutput_4_accuracy: 0.9984\toutput_5_accuracy: 0.9980\toutput_6_accuracy: 0.9980\toutput_7_accuracy: 0.9988\toutput_8_accuracy: 0.9997\toutput_9_accuracy: 0.9963\t\n",
      "Epoch 35/50\n"
     ]
    },
    {
     "name": "stderr",
     "output_type": "stream",
     "text": [
      "100%|██████████| 203/203 [00:02<00:00, 70.60it/s]\n",
      "  0%|          | 0/203 [00:00<?, ?it/s]"
     ]
    },
    {
     "name": "stdout",
     "output_type": "stream",
     "text": [
      "output_1_loss: 0.0031\toutput_2_loss: 0.0012\toutput_3_loss: 0.0012\toutput_4_loss: 0.0009\toutput_5_loss: 0.0012\toutput_6_loss: 0.0011\toutput_7_loss: 0.0009\toutput_8_loss: 0.0002\toutput_9_loss: 0.0022\tloss: 0.0119\toutput_2_accuracy: 0.9979\toutput_3_accuracy: 0.9980\toutput_4_accuracy: 0.9983\toutput_5_accuracy: 0.9983\toutput_6_accuracy: 0.9982\toutput_7_accuracy: 0.9988\toutput_8_accuracy: 0.9998\toutput_9_accuracy: 0.9958\t\n",
      "Epoch 36/50\n"
     ]
    },
    {
     "name": "stderr",
     "output_type": "stream",
     "text": [
      "100%|██████████| 203/203 [00:02<00:00, 81.29it/s] \n",
      "  0%|          | 0/203 [00:00<?, ?it/s]"
     ]
    },
    {
     "name": "stdout",
     "output_type": "stream",
     "text": [
      "output_1_loss: 0.0030\toutput_2_loss: 0.0011\toutput_3_loss: 0.0011\toutput_4_loss: 0.0009\toutput_5_loss: 0.0012\toutput_6_loss: 0.0011\toutput_7_loss: 0.0009\toutput_8_loss: 0.0002\toutput_9_loss: 0.0020\tloss: 0.0114\toutput_2_accuracy: 0.9980\toutput_3_accuracy: 0.9978\toutput_4_accuracy: 0.9988\toutput_5_accuracy: 0.9984\toutput_6_accuracy: 0.9985\toutput_7_accuracy: 0.9988\toutput_8_accuracy: 0.9998\toutput_9_accuracy: 0.9965\t\n",
      "Epoch 37/50\n"
     ]
    },
    {
     "name": "stderr",
     "output_type": "stream",
     "text": [
      "100%|██████████| 203/203 [00:02<00:00, 82.43it/s] \n",
      "  0%|          | 0/203 [00:00<?, ?it/s]"
     ]
    },
    {
     "name": "stdout",
     "output_type": "stream",
     "text": [
      "output_1_loss: 0.0030\toutput_2_loss: 0.0011\toutput_3_loss: 0.0011\toutput_4_loss: 0.0008\toutput_5_loss: 0.0011\toutput_6_loss: 0.0010\toutput_7_loss: 0.0008\toutput_8_loss: 0.0002\toutput_9_loss: 0.0020\tloss: 0.0110\toutput_2_accuracy: 0.9987\toutput_3_accuracy: 0.9981\toutput_4_accuracy: 0.9987\toutput_5_accuracy: 0.9985\toutput_6_accuracy: 0.9986\toutput_7_accuracy: 0.9988\toutput_8_accuracy: 0.9999\toutput_9_accuracy: 0.9966\t\n",
      "Epoch 38/50\n"
     ]
    },
    {
     "name": "stderr",
     "output_type": "stream",
     "text": [
      "100%|██████████| 203/203 [00:02<00:00, 74.52it/s] \n",
      "  0%|          | 0/203 [00:00<?, ?it/s]"
     ]
    },
    {
     "name": "stdout",
     "output_type": "stream",
     "text": [
      "output_1_loss: 0.0029\toutput_2_loss: 0.0010\toutput_3_loss: 0.0011\toutput_4_loss: 0.0008\toutput_5_loss: 0.0011\toutput_6_loss: 0.0009\toutput_7_loss: 0.0008\toutput_8_loss: 0.0001\toutput_9_loss: 0.0018\tloss: 0.0106\toutput_2_accuracy: 0.9986\toutput_3_accuracy: 0.9983\toutput_4_accuracy: 0.9989\toutput_5_accuracy: 0.9987\toutput_6_accuracy: 0.9984\toutput_7_accuracy: 0.9990\toutput_8_accuracy: 0.9999\toutput_9_accuracy: 0.9970\t\n",
      "Epoch 39/50\n"
     ]
    },
    {
     "name": "stderr",
     "output_type": "stream",
     "text": [
      "100%|██████████| 203/203 [00:02<00:00, 80.35it/s] \n",
      "  0%|          | 0/203 [00:00<?, ?it/s]"
     ]
    },
    {
     "name": "stdout",
     "output_type": "stream",
     "text": [
      "output_1_loss: 0.0029\toutput_2_loss: 0.0011\toutput_3_loss: 0.0010\toutput_4_loss: 0.0008\toutput_5_loss: 0.0010\toutput_6_loss: 0.0009\toutput_7_loss: 0.0008\toutput_8_loss: 0.0002\toutput_9_loss: 0.0018\tloss: 0.0104\toutput_2_accuracy: 0.9983\toutput_3_accuracy: 0.9980\toutput_4_accuracy: 0.9984\toutput_5_accuracy: 0.9984\toutput_6_accuracy: 0.9987\toutput_7_accuracy: 0.9992\toutput_8_accuracy: 0.9997\toutput_9_accuracy: 0.9968\t\n",
      "Epoch 40/50\n"
     ]
    },
    {
     "name": "stderr",
     "output_type": "stream",
     "text": [
      "100%|██████████| 203/203 [00:03<00:00, 65.62it/s]\n",
      "  0%|          | 0/203 [00:00<?, ?it/s]"
     ]
    },
    {
     "name": "stdout",
     "output_type": "stream",
     "text": [
      "output_1_loss: 0.0028\toutput_2_loss: 0.0009\toutput_3_loss: 0.0009\toutput_4_loss: 0.0007\toutput_5_loss: 0.0009\toutput_6_loss: 0.0009\toutput_7_loss: 0.0008\toutput_8_loss: 0.0001\toutput_9_loss: 0.0017\tloss: 0.0097\toutput_2_accuracy: 0.9985\toutput_3_accuracy: 0.9984\toutput_4_accuracy: 0.9990\toutput_5_accuracy: 0.9987\toutput_6_accuracy: 0.9985\toutput_7_accuracy: 0.9989\toutput_8_accuracy: 0.9999\toutput_9_accuracy: 0.9970\t\n",
      "Epoch 41/50\n"
     ]
    },
    {
     "name": "stderr",
     "output_type": "stream",
     "text": [
      "100%|██████████| 203/203 [00:02<00:00, 71.05it/s]\n",
      "  0%|          | 0/203 [00:00<?, ?it/s]"
     ]
    },
    {
     "name": "stdout",
     "output_type": "stream",
     "text": [
      "output_1_loss: 0.0028\toutput_2_loss: 0.0009\toutput_3_loss: 0.0009\toutput_4_loss: 0.0007\toutput_5_loss: 0.0009\toutput_6_loss: 0.0008\toutput_7_loss: 0.0008\toutput_8_loss: 0.0001\toutput_9_loss: 0.0016\tloss: 0.0094\toutput_2_accuracy: 0.9988\toutput_3_accuracy: 0.9987\toutput_4_accuracy: 0.9988\toutput_5_accuracy: 0.9985\toutput_6_accuracy: 0.9987\toutput_7_accuracy: 0.9990\toutput_8_accuracy: 0.9999\toutput_9_accuracy: 0.9972\t\n",
      "Epoch 42/50\n"
     ]
    },
    {
     "name": "stderr",
     "output_type": "stream",
     "text": [
      "100%|██████████| 203/203 [00:02<00:00, 70.73it/s]\n",
      "  0%|          | 0/203 [00:00<?, ?it/s]"
     ]
    },
    {
     "name": "stdout",
     "output_type": "stream",
     "text": [
      "output_1_loss: 0.0025\toutput_2_loss: 0.0009\toutput_3_loss: 0.0008\toutput_4_loss: 0.0007\toutput_5_loss: 0.0009\toutput_6_loss: 0.0008\toutput_7_loss: 0.0006\toutput_8_loss: 0.0001\toutput_9_loss: 0.0015\tloss: 0.0087\toutput_2_accuracy: 0.9988\toutput_3_accuracy: 0.9985\toutput_4_accuracy: 0.9988\toutput_5_accuracy: 0.9989\toutput_6_accuracy: 0.9992\toutput_7_accuracy: 0.9993\toutput_8_accuracy: 1.0000\toutput_9_accuracy: 0.9973\t\n",
      "Epoch 43/50\n"
     ]
    },
    {
     "name": "stderr",
     "output_type": "stream",
     "text": [
      "100%|██████████| 203/203 [00:03<00:00, 67.42it/s]\n",
      "  0%|          | 0/203 [00:00<?, ?it/s]"
     ]
    },
    {
     "name": "stdout",
     "output_type": "stream",
     "text": [
      "output_1_loss: 0.0028\toutput_2_loss: 0.0008\toutput_3_loss: 0.0008\toutput_4_loss: 0.0006\toutput_5_loss: 0.0009\toutput_6_loss: 0.0008\toutput_7_loss: 0.0007\toutput_8_loss: 0.0002\toutput_9_loss: 0.0014\tloss: 0.0092\toutput_2_accuracy: 0.9986\toutput_3_accuracy: 0.9983\toutput_4_accuracy: 0.9992\toutput_5_accuracy: 0.9986\toutput_6_accuracy: 0.9985\toutput_7_accuracy: 0.9992\toutput_8_accuracy: 0.9997\toutput_9_accuracy: 0.9975\t\n",
      "Epoch 44/50\n"
     ]
    },
    {
     "name": "stderr",
     "output_type": "stream",
     "text": [
      "100%|██████████| 203/203 [00:03<00:00, 60.86it/s]\n",
      "  0%|          | 0/203 [00:00<?, ?it/s]"
     ]
    },
    {
     "name": "stdout",
     "output_type": "stream",
     "text": [
      "output_1_loss: 0.0026\toutput_2_loss: 0.0008\toutput_3_loss: 0.0008\toutput_4_loss: 0.0006\toutput_5_loss: 0.0008\toutput_6_loss: 0.0007\toutput_7_loss: 0.0006\toutput_8_loss: 0.0001\toutput_9_loss: 0.0013\tloss: 0.0084\toutput_2_accuracy: 0.9989\toutput_3_accuracy: 0.9985\toutput_4_accuracy: 0.9989\toutput_5_accuracy: 0.9988\toutput_6_accuracy: 0.9988\toutput_7_accuracy: 0.9991\toutput_8_accuracy: 0.9998\toutput_9_accuracy: 0.9975\t\n",
      "Epoch 45/50\n"
     ]
    },
    {
     "name": "stderr",
     "output_type": "stream",
     "text": [
      "100%|██████████| 203/203 [00:02<00:00, 77.57it/s]\n",
      "  0%|          | 0/203 [00:00<?, ?it/s]"
     ]
    },
    {
     "name": "stdout",
     "output_type": "stream",
     "text": [
      "output_1_loss: 0.0024\toutput_2_loss: 0.0008\toutput_3_loss: 0.0008\toutput_4_loss: 0.0007\toutput_5_loss: 0.0008\toutput_6_loss: 0.0007\toutput_7_loss: 0.0006\toutput_8_loss: 0.0001\toutput_9_loss: 0.0014\tloss: 0.0082\toutput_2_accuracy: 0.9989\toutput_3_accuracy: 0.9985\toutput_4_accuracy: 0.9990\toutput_5_accuracy: 0.9990\toutput_6_accuracy: 0.9990\toutput_7_accuracy: 0.9990\toutput_8_accuracy: 0.9998\toutput_9_accuracy: 0.9979\t\n",
      "Epoch 46/50\n"
     ]
    },
    {
     "name": "stderr",
     "output_type": "stream",
     "text": [
      "100%|██████████| 203/203 [00:02<00:00, 74.09it/s]\n",
      "  0%|          | 0/203 [00:00<?, ?it/s]"
     ]
    },
    {
     "name": "stdout",
     "output_type": "stream",
     "text": [
      "output_1_loss: 0.0025\toutput_2_loss: 0.0007\toutput_3_loss: 0.0007\toutput_4_loss: 0.0005\toutput_5_loss: 0.0007\toutput_6_loss: 0.0007\toutput_7_loss: 0.0006\toutput_8_loss: 0.0001\toutput_9_loss: 0.0012\tloss: 0.0077\toutput_2_accuracy: 0.9990\toutput_3_accuracy: 0.9987\toutput_4_accuracy: 0.9991\toutput_5_accuracy: 0.9991\toutput_6_accuracy: 0.9989\toutput_7_accuracy: 0.9993\toutput_8_accuracy: 1.0000\toutput_9_accuracy: 0.9979\t\n",
      "Epoch 47/50\n"
     ]
    },
    {
     "name": "stderr",
     "output_type": "stream",
     "text": [
      "100%|██████████| 203/203 [00:02<00:00, 79.26it/s]\n",
      "  0%|          | 0/203 [00:00<?, ?it/s]"
     ]
    },
    {
     "name": "stdout",
     "output_type": "stream",
     "text": [
      "output_1_loss: 0.0023\toutput_2_loss: 0.0007\toutput_3_loss: 0.0007\toutput_4_loss: 0.0006\toutput_5_loss: 0.0007\toutput_6_loss: 0.0006\toutput_7_loss: 0.0006\toutput_8_loss: 0.0001\toutput_9_loss: 0.0012\tloss: 0.0073\toutput_2_accuracy: 0.9990\toutput_3_accuracy: 0.9990\toutput_4_accuracy: 0.9991\toutput_5_accuracy: 0.9992\toutput_6_accuracy: 0.9992\toutput_7_accuracy: 0.9994\toutput_8_accuracy: 1.0000\toutput_9_accuracy: 0.9980\t\n",
      "Epoch 48/50\n"
     ]
    },
    {
     "name": "stderr",
     "output_type": "stream",
     "text": [
      "100%|██████████| 203/203 [00:02<00:00, 75.22it/s]\n",
      "  0%|          | 0/203 [00:00<?, ?it/s]"
     ]
    },
    {
     "name": "stdout",
     "output_type": "stream",
     "text": [
      "output_1_loss: 0.0024\toutput_2_loss: 0.0007\toutput_3_loss: 0.0006\toutput_4_loss: 0.0005\toutput_5_loss: 0.0007\toutput_6_loss: 0.0006\toutput_7_loss: 0.0006\toutput_8_loss: 0.0001\toutput_9_loss: 0.0011\tloss: 0.0073\toutput_2_accuracy: 0.9992\toutput_3_accuracy: 0.9988\toutput_4_accuracy: 0.9993\toutput_5_accuracy: 0.9991\toutput_6_accuracy: 0.9990\toutput_7_accuracy: 0.9993\toutput_8_accuracy: 0.9999\toutput_9_accuracy: 0.9980\t\n",
      "Epoch 49/50\n"
     ]
    },
    {
     "name": "stderr",
     "output_type": "stream",
     "text": [
      "100%|██████████| 203/203 [00:03<00:00, 67.23it/s] "
     ]
    },
    {
     "name": "stdout",
     "output_type": "stream",
     "text": [
      "output_1_loss: 0.0025\toutput_2_loss: 0.0006\toutput_3_loss: 0.0006\toutput_4_loss: 0.0005\toutput_5_loss: 0.0007\toutput_6_loss: 0.0006\toutput_7_loss: 0.0005\toutput_8_loss: 0.0001\toutput_9_loss: 0.0011\tloss: 0.0072\toutput_2_accuracy: 0.9990\toutput_3_accuracy: 0.9989\toutput_4_accuracy: 0.9992\toutput_5_accuracy: 0.9992\toutput_6_accuracy: 0.9991\toutput_7_accuracy: 0.9994\toutput_8_accuracy: 1.0000\toutput_9_accuracy: 0.9982\t\n"
     ]
    },
    {
     "name": "stderr",
     "output_type": "stream",
     "text": [
      "\n"
     ]
    }
   ],
   "source": [
    "he_ae_dir = \"pytorch/he_autoencoder/\"\n",
    "he_ae_path = os.path.join(he_ae_dir, \"he_autoencoder_adult.pt\")\n",
    "\n",
    "if not os.path.exists(he_ae_dir):\n",
    "    os.makedirs(he_ae_dir)\n",
    "\n",
    "if not os.path.exists(he_ae_path):\n",
    "    he_ae.fit(trainloader, epochs=50)\n",
    "    he_ae.save_weights(he_ae_path)\n",
    "else:\n",
    "    # load the model\n",
    "    he_ae.load_weights(he_ae_path)"
   ]
  },
  {
   "cell_type": "markdown",
   "metadata": {},
   "source": [
    "### Counterfactual RL"
   ]
  },
  {
   "cell_type": "markdown",
   "metadata": {},
   "source": [
    "#### Define dataset specifi attributes and constraints"
   ]
  },
  {
   "cell_type": "code",
   "execution_count": 13,
   "metadata": {},
   "outputs": [],
   "source": [
    "# define immutable features\n",
    "immutable_features = ['Marital Status', 'Relationship', 'Race', 'Sex']\n",
    "\n",
    "# define ranges\n",
    "ranges = {'Age': [-0.0, 1.0]}\n",
    "\n",
    "\n",
    "# compute statistic for clamping\n",
    "stats = get_statistics(X=X_train, \n",
    "                       preprocessor=ae_preprocessor, \n",
    "                       category_map=adult.category_map)"
   ]
  },
  {
   "cell_type": "markdown",
   "metadata": {},
   "source": [
    "#### Define training callbacks"
   ]
  },
  {
   "cell_type": "code",
   "execution_count": 14,
   "metadata": {},
   "outputs": [],
   "source": [
    "class RewardCallback(Callback):\n",
    "    def __call__(self,\n",
    "                 step: int, \n",
    "                 update: int, \n",
    "                 model: CounterfactualRLBase,\n",
    "                 sample: Dict[str, np.ndarray],\n",
    "                 losses: Dict[str, float]):\n",
    "        \n",
    "        if (step + update) % 100 != 0:\n",
    "            return\n",
    "        \n",
    "        # get the counterfactual and target\n",
    "        Y_t = sample[\"Y_t\"]\n",
    "        X_cf = sample[\"X_cf\"]\n",
    "        \n",
    "        # get prediction label\n",
    "        Y_m_cf = predictor(X_cf)\n",
    "        \n",
    "        # compute reward\n",
    "        reward = np.mean(model.params[\"reward_func\"](Y_m_cf, Y_t))\n",
    "        wandb.log({\"reward\": reward})"
   ]
  },
  {
   "cell_type": "code",
   "execution_count": 15,
   "metadata": {},
   "outputs": [],
   "source": [
    "class DisplayLossCallback(Callback):\n",
    "    def __call__(self,\n",
    "                 step: int, \n",
    "                 update: int, \n",
    "                 model: CounterfactualRLBase,\n",
    "                 sample: Dict[str, np.ndarray],\n",
    "                 losses: Dict[str, float]):\n",
    "        # log training losses\n",
    "        if (step + update) % 100 == 0:\n",
    "            wandb.log(losses)"
   ]
  },
  {
   "cell_type": "markdown",
   "metadata": {},
   "source": [
    "#### Define explainer"
   ]
  },
  {
   "cell_type": "code",
   "execution_count": 16,
   "metadata": {},
   "outputs": [
    {
     "name": "stderr",
     "output_type": "stream",
     "text": [
      "Lazy modules are a new feature under heavy development so changes to the API or functionality can happen at any moment.\n",
      "The following keys are incorrect: train_callbacks\n"
     ]
    }
   ],
   "source": [
    "# define ddpg\n",
    "explainer = CounterfactualRLTabular(encoder=he_ae.encoder,\n",
    "                                    decoder=he_ae.decoder,\n",
    "                                    latent_dim=latent_dim,\n",
    "                                    encoder_preprocessor=ae_preprocessor,\n",
    "                                    decoder_inv_preprocessor=ae_inv_preprocessor,\n",
    "                                    predictor=predictor,\n",
    "                                    coeff_sparsity=0.5,\n",
    "                                    coeff_consistency=0.5,\n",
    "                                    category_map=adult.category_map,\n",
    "                                    feature_names=adult.feature_names,\n",
    "                                    ranges=ranges,\n",
    "                                    immutable_features=immutable_features,\n",
    "                                    train_callbacks=[DisplayLossCallback(), RewardCallback()],\n",
    "                                    backend=\"pytorch\",\n",
    "                                    train_steps=1000,\n",
    "                                    batch_size=100,\n",
    "                                    num_workers=4,\n",
    "                                    seed=9)"
   ]
  },
  {
   "cell_type": "markdown",
   "metadata": {},
   "source": [
    "#### Fit explainer"
   ]
  },
  {
   "cell_type": "code",
   "execution_count": 17,
   "metadata": {},
   "outputs": [
    {
     "name": "stderr",
     "output_type": "stream",
     "text": [
      "\u001b[34m\u001b[1mwandb\u001b[0m: Currently logged in as: \u001b[33mrfs\u001b[0m (use `wandb login --relogin` to force relogin)\n",
      "\u001b[34m\u001b[1mwandb\u001b[0m: wandb version 0.11.2 is available!  To upgrade, please run:\n",
      "\u001b[34m\u001b[1mwandb\u001b[0m:  $ pip install wandb --upgrade\n"
     ]
    },
    {
     "data": {
      "text/html": [
       "\n",
       "                Tracking run with wandb version 0.10.18<br/>\n",
       "                Syncing run <strong style=\"color:#cdcd00\">eager-energy-336</strong> to <a href=\"https://wandb.ai\" target=\"_blank\">Weights & Biases</a> <a href=\"https://docs.wandb.com/integrations/jupyter.html\" target=\"_blank\">(Documentation)</a>.<br/>\n",
       "                Project page: <a href=\"https://wandb.ai/rfs/ADULT%20CounterfactualRL\" target=\"_blank\">https://wandb.ai/rfs/ADULT%20CounterfactualRL</a><br/>\n",
       "                Run page: <a href=\"https://wandb.ai/rfs/ADULT%20CounterfactualRL/runs/pe4kghcp\" target=\"_blank\">https://wandb.ai/rfs/ADULT%20CounterfactualRL/runs/pe4kghcp</a><br/>\n",
       "                Run data is saved locally in <code>/home/robert/Desktop/seldon/alibi/examples/wandb/run-20210809_213848-pe4kghcp</code><br/><br/>\n",
       "            "
      ],
      "text/plain": [
       "<IPython.core.display.HTML object>"
      ]
     },
     "metadata": {},
     "output_type": "display_data"
    },
    {
     "name": "stderr",
     "output_type": "stream",
     "text": [
      "100%|██████████| 1000/1000 [00:27<00:00, 35.95it/s]\n"
     ]
    },
    {
     "data": {
      "text/html": [
       "<br/>Waiting for W&B process to finish, PID 19939<br/>Program ended successfully."
      ],
      "text/plain": [
       "<IPython.core.display.HTML object>"
      ]
     },
     "metadata": {},
     "output_type": "display_data"
    },
    {
     "data": {
      "application/vnd.jupyter.widget-view+json": {
       "model_id": "",
       "version_major": 2,
       "version_minor": 0
      },
      "text/plain": [
       "VBox(children=(Label(value=' 0.00MB of 0.00MB uploaded (0.00MB deduped)\\r'), FloatProgress(value=1.0, max=1.0)…"
      ]
     },
     "metadata": {},
     "output_type": "display_data"
    },
    {
     "data": {
      "text/html": [
       "Find user logs for this run at: <code>/home/robert/Desktop/seldon/alibi/examples/wandb/run-20210809_213848-pe4kghcp/logs/debug.log</code>"
      ],
      "text/plain": [
       "<IPython.core.display.HTML object>"
      ]
     },
     "metadata": {},
     "output_type": "display_data"
    },
    {
     "data": {
      "text/html": [
       "Find internal logs for this run at: <code>/home/robert/Desktop/seldon/alibi/examples/wandb/run-20210809_213848-pe4kghcp/logs/debug-internal.log</code>"
      ],
      "text/plain": [
       "<IPython.core.display.HTML object>"
      ]
     },
     "metadata": {},
     "output_type": "display_data"
    },
    {
     "data": {
      "text/html": [
       "Synced 5 W&B file(s), 0 media file(s), 0 artifact file(s) and 0 other file(s)"
      ],
      "text/plain": [
       "<IPython.core.display.HTML object>"
      ]
     },
     "metadata": {},
     "output_type": "display_data"
    },
    {
     "data": {
      "text/html": [
       "\n",
       "                    <br/>Synced <strong style=\"color:#cdcd00\">eager-energy-336</strong>: <a href=\"https://wandb.ai/rfs/ADULT%20CounterfactualRL/runs/pe4kghcp\" target=\"_blank\">https://wandb.ai/rfs/ADULT%20CounterfactualRL/runs/pe4kghcp</a><br/>\n",
       "                "
      ],
      "text/plain": [
       "<IPython.core.display.HTML object>"
      ]
     },
     "metadata": {},
     "output_type": "display_data"
    }
   ],
   "source": [
    "#initialize wandb\n",
    "wandb_project = \"ADULT CounterfactualRL\"\n",
    "wandb.init(project=wandb_project)\n",
    "\n",
    "# fit the explainers\n",
    "explainer = explainer.fit(X=X_train)\n",
    "\n",
    "# close wandb\n",
    "wandb.finish()"
   ]
  },
  {
   "cell_type": "markdown",
   "metadata": {},
   "source": [
    "### Save explainer"
   ]
  },
  {
   "cell_type": "code",
   "execution_count": 18,
   "metadata": {},
   "outputs": [],
   "source": [
    "explainer.save(\"cfrl_tabular\")"
   ]
  },
  {
   "cell_type": "markdown",
   "metadata": {},
   "source": [
    "### Load explainer"
   ]
  },
  {
   "cell_type": "code",
   "execution_count": 19,
   "metadata": {},
   "outputs": [],
   "source": [
    "explainer = CounterfactualRLTabular.load(\"cfrl_tabular\", predictor=predictor)"
   ]
  },
  {
   "cell_type": "markdown",
   "metadata": {},
   "source": [
    "#### Test explainer"
   ]
  },
  {
   "cell_type": "code",
   "execution_count": 20,
   "metadata": {},
   "outputs": [],
   "source": [
    "# select some positive examples\n",
    "X_positive = X_test[np.argmax(predictor(X_test), axis=1) == 1]\n",
    "\n",
    "\n",
    "X = X_positive[:100]\n",
    "Y_t = np.array([0])\n",
    "C = [{\"Age\": [0, 20], \"Workclass\": [\"State-gov\", \"?\", \"Local-gov\"]}]"
   ]
  },
  {
   "cell_type": "code",
   "execution_count": 21,
   "metadata": {},
   "outputs": [],
   "source": [
    "# generate counterfactual instances\n",
    "explanation = explainer.explain(X, Y_t, C)"
   ]
  },
  {
   "cell_type": "code",
   "execution_count": 22,
   "metadata": {},
   "outputs": [],
   "source": [
    "# concat labels to the original instances\n",
    "orig = np.concatenate(\n",
    "    [explanation.data['orig']['X'], explanation.data['orig']['class']],\n",
    "    axis=1\n",
    ")\n",
    "\n",
    "# concat labels to the counterfactual instances\n",
    "cf = np.concatenate(\n",
    "    [explanation.data['cf']['X'], explanation.data['cf']['class']],\n",
    "    axis=1\n",
    ")\n",
    "\n",
    "# define new feature names and category map by including the label\n",
    "feature_names = adult.feature_names + [\"Label\"]\n",
    "category_map = deepcopy(adult.category_map)\n",
    "category_map.update({feature_names.index(\"Label\"): adult.target_names})\n",
    "\n",
    "# replace label encodings with strings\n",
    "orig_pd = pd.DataFrame(\n",
    "    apply_category_mapping(orig, category_map),\n",
    "    columns=feature_names\n",
    ")\n",
    "\n",
    "cf_pd = pd.DataFrame(\n",
    "    apply_category_mapping(cf, category_map),\n",
    "    columns=feature_names\n",
    ")"
   ]
  },
  {
   "cell_type": "code",
   "execution_count": 23,
   "metadata": {},
   "outputs": [
    {
     "data": {
      "text/html": [
       "<div>\n",
       "<style scoped>\n",
       "    .dataframe tbody tr th:only-of-type {\n",
       "        vertical-align: middle;\n",
       "    }\n",
       "\n",
       "    .dataframe tbody tr th {\n",
       "        vertical-align: top;\n",
       "    }\n",
       "\n",
       "    .dataframe thead th {\n",
       "        text-align: right;\n",
       "    }\n",
       "</style>\n",
       "<table border=\"1\" class=\"dataframe\">\n",
       "  <thead>\n",
       "    <tr style=\"text-align: right;\">\n",
       "      <th></th>\n",
       "      <th>Age</th>\n",
       "      <th>Workclass</th>\n",
       "      <th>Education</th>\n",
       "      <th>Marital Status</th>\n",
       "      <th>Occupation</th>\n",
       "      <th>Relationship</th>\n",
       "      <th>Race</th>\n",
       "      <th>Sex</th>\n",
       "      <th>Capital Gain</th>\n",
       "      <th>Capital Loss</th>\n",
       "      <th>Hours per week</th>\n",
       "      <th>Country</th>\n",
       "      <th>Label</th>\n",
       "    </tr>\n",
       "  </thead>\n",
       "  <tbody>\n",
       "    <tr>\n",
       "      <th>0</th>\n",
       "      <td>60</td>\n",
       "      <td>Private</td>\n",
       "      <td>High School grad</td>\n",
       "      <td>Married</td>\n",
       "      <td>Blue-Collar</td>\n",
       "      <td>Husband</td>\n",
       "      <td>White</td>\n",
       "      <td>Male</td>\n",
       "      <td>7298</td>\n",
       "      <td>0</td>\n",
       "      <td>40</td>\n",
       "      <td>United-States</td>\n",
       "      <td>&gt;50K</td>\n",
       "    </tr>\n",
       "    <tr>\n",
       "      <th>1</th>\n",
       "      <td>35</td>\n",
       "      <td>Private</td>\n",
       "      <td>High School grad</td>\n",
       "      <td>Married</td>\n",
       "      <td>White-Collar</td>\n",
       "      <td>Husband</td>\n",
       "      <td>White</td>\n",
       "      <td>Male</td>\n",
       "      <td>7688</td>\n",
       "      <td>0</td>\n",
       "      <td>50</td>\n",
       "      <td>United-States</td>\n",
       "      <td>&gt;50K</td>\n",
       "    </tr>\n",
       "    <tr>\n",
       "      <th>2</th>\n",
       "      <td>39</td>\n",
       "      <td>State-gov</td>\n",
       "      <td>Masters</td>\n",
       "      <td>Married</td>\n",
       "      <td>Professional</td>\n",
       "      <td>Wife</td>\n",
       "      <td>White</td>\n",
       "      <td>Female</td>\n",
       "      <td>5178</td>\n",
       "      <td>0</td>\n",
       "      <td>38</td>\n",
       "      <td>United-States</td>\n",
       "      <td>&gt;50K</td>\n",
       "    </tr>\n",
       "    <tr>\n",
       "      <th>3</th>\n",
       "      <td>44</td>\n",
       "      <td>Self-emp-inc</td>\n",
       "      <td>High School grad</td>\n",
       "      <td>Married</td>\n",
       "      <td>Sales</td>\n",
       "      <td>Husband</td>\n",
       "      <td>White</td>\n",
       "      <td>Male</td>\n",
       "      <td>0</td>\n",
       "      <td>0</td>\n",
       "      <td>50</td>\n",
       "      <td>United-States</td>\n",
       "      <td>&gt;50K</td>\n",
       "    </tr>\n",
       "    <tr>\n",
       "      <th>4</th>\n",
       "      <td>39</td>\n",
       "      <td>Private</td>\n",
       "      <td>Bachelors</td>\n",
       "      <td>Separated</td>\n",
       "      <td>White-Collar</td>\n",
       "      <td>Not-in-family</td>\n",
       "      <td>White</td>\n",
       "      <td>Female</td>\n",
       "      <td>13550</td>\n",
       "      <td>0</td>\n",
       "      <td>50</td>\n",
       "      <td>United-States</td>\n",
       "      <td>&gt;50K</td>\n",
       "    </tr>\n",
       "  </tbody>\n",
       "</table>\n",
       "</div>"
      ],
      "text/plain": [
       "  Age     Workclass         Education Marital Status    Occupation  \\\n",
       "0  60       Private  High School grad        Married   Blue-Collar   \n",
       "1  35       Private  High School grad        Married  White-Collar   \n",
       "2  39     State-gov           Masters        Married  Professional   \n",
       "3  44  Self-emp-inc  High School grad        Married         Sales   \n",
       "4  39       Private         Bachelors      Separated  White-Collar   \n",
       "\n",
       "    Relationship   Race     Sex Capital Gain Capital Loss Hours per week  \\\n",
       "0        Husband  White    Male         7298            0             40   \n",
       "1        Husband  White    Male         7688            0             50   \n",
       "2           Wife  White  Female         5178            0             38   \n",
       "3        Husband  White    Male            0            0             50   \n",
       "4  Not-in-family  White  Female        13550            0             50   \n",
       "\n",
       "         Country Label  \n",
       "0  United-States  >50K  \n",
       "1  United-States  >50K  \n",
       "2  United-States  >50K  \n",
       "3  United-States  >50K  \n",
       "4  United-States  >50K  "
      ]
     },
     "execution_count": 23,
     "metadata": {},
     "output_type": "execute_result"
    }
   ],
   "source": [
    "orig_pd.head(n=5)"
   ]
  },
  {
   "cell_type": "code",
   "execution_count": 24,
   "metadata": {},
   "outputs": [
    {
     "data": {
      "text/html": [
       "<div>\n",
       "<style scoped>\n",
       "    .dataframe tbody tr th:only-of-type {\n",
       "        vertical-align: middle;\n",
       "    }\n",
       "\n",
       "    .dataframe tbody tr th {\n",
       "        vertical-align: top;\n",
       "    }\n",
       "\n",
       "    .dataframe thead th {\n",
       "        text-align: right;\n",
       "    }\n",
       "</style>\n",
       "<table border=\"1\" class=\"dataframe\">\n",
       "  <thead>\n",
       "    <tr style=\"text-align: right;\">\n",
       "      <th></th>\n",
       "      <th>Age</th>\n",
       "      <th>Workclass</th>\n",
       "      <th>Education</th>\n",
       "      <th>Marital Status</th>\n",
       "      <th>Occupation</th>\n",
       "      <th>Relationship</th>\n",
       "      <th>Race</th>\n",
       "      <th>Sex</th>\n",
       "      <th>Capital Gain</th>\n",
       "      <th>Capital Loss</th>\n",
       "      <th>Hours per week</th>\n",
       "      <th>Country</th>\n",
       "      <th>Label</th>\n",
       "    </tr>\n",
       "  </thead>\n",
       "  <tbody>\n",
       "    <tr>\n",
       "      <th>0</th>\n",
       "      <td>60</td>\n",
       "      <td>Private</td>\n",
       "      <td>High School grad</td>\n",
       "      <td>Married</td>\n",
       "      <td>Blue-Collar</td>\n",
       "      <td>Husband</td>\n",
       "      <td>White</td>\n",
       "      <td>Male</td>\n",
       "      <td>0</td>\n",
       "      <td>0</td>\n",
       "      <td>37</td>\n",
       "      <td>United-States</td>\n",
       "      <td>&lt;=50K</td>\n",
       "    </tr>\n",
       "    <tr>\n",
       "      <th>1</th>\n",
       "      <td>35</td>\n",
       "      <td>Private</td>\n",
       "      <td>High School grad</td>\n",
       "      <td>Married</td>\n",
       "      <td>Blue-Collar</td>\n",
       "      <td>Husband</td>\n",
       "      <td>White</td>\n",
       "      <td>Male</td>\n",
       "      <td>0</td>\n",
       "      <td>0</td>\n",
       "      <td>47</td>\n",
       "      <td>United-States</td>\n",
       "      <td>&lt;=50K</td>\n",
       "    </tr>\n",
       "    <tr>\n",
       "      <th>2</th>\n",
       "      <td>39</td>\n",
       "      <td>Local-gov</td>\n",
       "      <td>High School grad</td>\n",
       "      <td>Married</td>\n",
       "      <td>Blue-Collar</td>\n",
       "      <td>Wife</td>\n",
       "      <td>White</td>\n",
       "      <td>Female</td>\n",
       "      <td>0</td>\n",
       "      <td>11</td>\n",
       "      <td>36</td>\n",
       "      <td>United-States</td>\n",
       "      <td>&lt;=50K</td>\n",
       "    </tr>\n",
       "    <tr>\n",
       "      <th>3</th>\n",
       "      <td>44</td>\n",
       "      <td>Local-gov</td>\n",
       "      <td>High School grad</td>\n",
       "      <td>Married</td>\n",
       "      <td>Blue-Collar</td>\n",
       "      <td>Husband</td>\n",
       "      <td>White</td>\n",
       "      <td>Male</td>\n",
       "      <td>0</td>\n",
       "      <td>0</td>\n",
       "      <td>48</td>\n",
       "      <td>United-States</td>\n",
       "      <td>&lt;=50K</td>\n",
       "    </tr>\n",
       "    <tr>\n",
       "      <th>4</th>\n",
       "      <td>39</td>\n",
       "      <td>Private</td>\n",
       "      <td>High School grad</td>\n",
       "      <td>Separated</td>\n",
       "      <td>Blue-Collar</td>\n",
       "      <td>Not-in-family</td>\n",
       "      <td>White</td>\n",
       "      <td>Female</td>\n",
       "      <td>87</td>\n",
       "      <td>8</td>\n",
       "      <td>48</td>\n",
       "      <td>United-States</td>\n",
       "      <td>&lt;=50K</td>\n",
       "    </tr>\n",
       "  </tbody>\n",
       "</table>\n",
       "</div>"
      ],
      "text/plain": [
       "  Age  Workclass         Education Marital Status   Occupation   Relationship  \\\n",
       "0  60    Private  High School grad        Married  Blue-Collar        Husband   \n",
       "1  35    Private  High School grad        Married  Blue-Collar        Husband   \n",
       "2  39  Local-gov  High School grad        Married  Blue-Collar           Wife   \n",
       "3  44  Local-gov  High School grad        Married  Blue-Collar        Husband   \n",
       "4  39    Private  High School grad      Separated  Blue-Collar  Not-in-family   \n",
       "\n",
       "    Race     Sex Capital Gain Capital Loss Hours per week        Country  \\\n",
       "0  White    Male            0            0             37  United-States   \n",
       "1  White    Male            0            0             47  United-States   \n",
       "2  White  Female            0           11             36  United-States   \n",
       "3  White    Male            0            0             48  United-States   \n",
       "4  White  Female           87            8             48  United-States   \n",
       "\n",
       "   Label  \n",
       "0  <=50K  \n",
       "1  <=50K  \n",
       "2  <=50K  \n",
       "3  <=50K  \n",
       "4  <=50K  "
      ]
     },
     "execution_count": 24,
     "metadata": {},
     "output_type": "execute_result"
    }
   ],
   "source": [
    "cf_pd.head(n=5)"
   ]
  },
  {
   "cell_type": "markdown",
   "metadata": {},
   "source": [
    "#### Diversity"
   ]
  },
  {
   "cell_type": "code",
   "execution_count": 25,
   "metadata": {},
   "outputs": [],
   "source": [
    "# generate counterfactual instances\n",
    "X = X_positive[2].reshape(1, -1)\n",
    "explanation = explainer.explain(X, Y_t, C, diversity=True, num_samples=10, batch_size=100)"
   ]
  },
  {
   "cell_type": "code",
   "execution_count": 26,
   "metadata": {},
   "outputs": [],
   "source": [
    "# concat label column\n",
    "orig = np.concatenate(\n",
    "    [explanation.data['orig']['X'], explanation.data['orig']['class']],\n",
    "    axis=1\n",
    ")\n",
    "\n",
    "cf = np.concatenate(\n",
    "    [explanation.data['cf']['X'], explanation.data['cf']['class']],\n",
    "    axis=1\n",
    ")\n",
    "\n",
    "# transfrom label encodings to string\n",
    "orig_pd = pd.DataFrame(\n",
    "    apply_category_mapping(orig, category_map),\n",
    "    columns=feature_names,\n",
    ")\n",
    "\n",
    "cf_pd = pd.DataFrame(\n",
    "    apply_category_mapping(cf, category_map),\n",
    "    columns=feature_names,\n",
    ")"
   ]
  },
  {
   "cell_type": "code",
   "execution_count": 27,
   "metadata": {},
   "outputs": [
    {
     "data": {
      "text/html": [
       "<div>\n",
       "<style scoped>\n",
       "    .dataframe tbody tr th:only-of-type {\n",
       "        vertical-align: middle;\n",
       "    }\n",
       "\n",
       "    .dataframe tbody tr th {\n",
       "        vertical-align: top;\n",
       "    }\n",
       "\n",
       "    .dataframe thead th {\n",
       "        text-align: right;\n",
       "    }\n",
       "</style>\n",
       "<table border=\"1\" class=\"dataframe\">\n",
       "  <thead>\n",
       "    <tr style=\"text-align: right;\">\n",
       "      <th></th>\n",
       "      <th>Age</th>\n",
       "      <th>Workclass</th>\n",
       "      <th>Education</th>\n",
       "      <th>Marital Status</th>\n",
       "      <th>Occupation</th>\n",
       "      <th>Relationship</th>\n",
       "      <th>Race</th>\n",
       "      <th>Sex</th>\n",
       "      <th>Capital Gain</th>\n",
       "      <th>Capital Loss</th>\n",
       "      <th>Hours per week</th>\n",
       "      <th>Country</th>\n",
       "      <th>Label</th>\n",
       "    </tr>\n",
       "  </thead>\n",
       "  <tbody>\n",
       "    <tr>\n",
       "      <th>0</th>\n",
       "      <td>39</td>\n",
       "      <td>State-gov</td>\n",
       "      <td>Masters</td>\n",
       "      <td>Married</td>\n",
       "      <td>Professional</td>\n",
       "      <td>Wife</td>\n",
       "      <td>White</td>\n",
       "      <td>Female</td>\n",
       "      <td>5178</td>\n",
       "      <td>0</td>\n",
       "      <td>38</td>\n",
       "      <td>United-States</td>\n",
       "      <td>&gt;50K</td>\n",
       "    </tr>\n",
       "  </tbody>\n",
       "</table>\n",
       "</div>"
      ],
      "text/plain": [
       "  Age  Workclass Education Marital Status    Occupation Relationship   Race  \\\n",
       "0  39  State-gov   Masters        Married  Professional         Wife  White   \n",
       "\n",
       "      Sex Capital Gain Capital Loss Hours per week        Country Label  \n",
       "0  Female         5178            0             38  United-States  >50K  "
      ]
     },
     "execution_count": 27,
     "metadata": {},
     "output_type": "execute_result"
    }
   ],
   "source": [
    "orig_pd.head(n=5)"
   ]
  },
  {
   "cell_type": "code",
   "execution_count": 28,
   "metadata": {},
   "outputs": [
    {
     "data": {
      "text/html": [
       "<div>\n",
       "<style scoped>\n",
       "    .dataframe tbody tr th:only-of-type {\n",
       "        vertical-align: middle;\n",
       "    }\n",
       "\n",
       "    .dataframe tbody tr th {\n",
       "        vertical-align: top;\n",
       "    }\n",
       "\n",
       "    .dataframe thead th {\n",
       "        text-align: right;\n",
       "    }\n",
       "</style>\n",
       "<table border=\"1\" class=\"dataframe\">\n",
       "  <thead>\n",
       "    <tr style=\"text-align: right;\">\n",
       "      <th></th>\n",
       "      <th>Age</th>\n",
       "      <th>Workclass</th>\n",
       "      <th>Education</th>\n",
       "      <th>Marital Status</th>\n",
       "      <th>Occupation</th>\n",
       "      <th>Relationship</th>\n",
       "      <th>Race</th>\n",
       "      <th>Sex</th>\n",
       "      <th>Capital Gain</th>\n",
       "      <th>Capital Loss</th>\n",
       "      <th>Hours per week</th>\n",
       "      <th>Country</th>\n",
       "      <th>Label</th>\n",
       "    </tr>\n",
       "  </thead>\n",
       "  <tbody>\n",
       "    <tr>\n",
       "      <th>0</th>\n",
       "      <td>39</td>\n",
       "      <td>Local-gov</td>\n",
       "      <td>Associates</td>\n",
       "      <td>Married</td>\n",
       "      <td>Blue-Collar</td>\n",
       "      <td>Wife</td>\n",
       "      <td>White</td>\n",
       "      <td>Female</td>\n",
       "      <td>0</td>\n",
       "      <td>0</td>\n",
       "      <td>35</td>\n",
       "      <td>United-States</td>\n",
       "      <td>&lt;=50K</td>\n",
       "    </tr>\n",
       "    <tr>\n",
       "      <th>1</th>\n",
       "      <td>39</td>\n",
       "      <td>Local-gov</td>\n",
       "      <td>Associates</td>\n",
       "      <td>Married</td>\n",
       "      <td>Blue-Collar</td>\n",
       "      <td>Wife</td>\n",
       "      <td>White</td>\n",
       "      <td>Female</td>\n",
       "      <td>0</td>\n",
       "      <td>0</td>\n",
       "      <td>36</td>\n",
       "      <td>United-States</td>\n",
       "      <td>&lt;=50K</td>\n",
       "    </tr>\n",
       "    <tr>\n",
       "      <th>2</th>\n",
       "      <td>39</td>\n",
       "      <td>Local-gov</td>\n",
       "      <td>Associates</td>\n",
       "      <td>Married</td>\n",
       "      <td>Blue-Collar</td>\n",
       "      <td>Wife</td>\n",
       "      <td>White</td>\n",
       "      <td>Female</td>\n",
       "      <td>0</td>\n",
       "      <td>0</td>\n",
       "      <td>37</td>\n",
       "      <td>United-States</td>\n",
       "      <td>&lt;=50K</td>\n",
       "    </tr>\n",
       "    <tr>\n",
       "      <th>3</th>\n",
       "      <td>39</td>\n",
       "      <td>Local-gov</td>\n",
       "      <td>Associates</td>\n",
       "      <td>Married</td>\n",
       "      <td>Blue-Collar</td>\n",
       "      <td>Wife</td>\n",
       "      <td>White</td>\n",
       "      <td>Female</td>\n",
       "      <td>0</td>\n",
       "      <td>11</td>\n",
       "      <td>36</td>\n",
       "      <td>United-States</td>\n",
       "      <td>&lt;=50K</td>\n",
       "    </tr>\n",
       "    <tr>\n",
       "      <th>4</th>\n",
       "      <td>39</td>\n",
       "      <td>Local-gov</td>\n",
       "      <td>Dropout</td>\n",
       "      <td>Married</td>\n",
       "      <td>Blue-Collar</td>\n",
       "      <td>Wife</td>\n",
       "      <td>White</td>\n",
       "      <td>Female</td>\n",
       "      <td>0</td>\n",
       "      <td>0</td>\n",
       "      <td>37</td>\n",
       "      <td>United-States</td>\n",
       "      <td>&lt;=50K</td>\n",
       "    </tr>\n",
       "  </tbody>\n",
       "</table>\n",
       "</div>"
      ],
      "text/plain": [
       "  Age  Workclass   Education Marital Status   Occupation Relationship   Race  \\\n",
       "0  39  Local-gov  Associates        Married  Blue-Collar         Wife  White   \n",
       "1  39  Local-gov  Associates        Married  Blue-Collar         Wife  White   \n",
       "2  39  Local-gov  Associates        Married  Blue-Collar         Wife  White   \n",
       "3  39  Local-gov  Associates        Married  Blue-Collar         Wife  White   \n",
       "4  39  Local-gov     Dropout        Married  Blue-Collar         Wife  White   \n",
       "\n",
       "      Sex Capital Gain Capital Loss Hours per week        Country  Label  \n",
       "0  Female            0            0             35  United-States  <=50K  \n",
       "1  Female            0            0             36  United-States  <=50K  \n",
       "2  Female            0            0             37  United-States  <=50K  \n",
       "3  Female            0           11             36  United-States  <=50K  \n",
       "4  Female            0            0             37  United-States  <=50K  "
      ]
     },
     "execution_count": 28,
     "metadata": {},
     "output_type": "execute_result"
    }
   ],
   "source": [
    "cf_pd.head(n=5)"
   ]
  }
 ],
 "metadata": {
  "kernelspec": {
   "display_name": "dl",
   "language": "python",
   "name": "dl"
  },
  "language_info": {
   "codemirror_mode": {
    "name": "ipython",
    "version": 3
   },
   "file_extension": ".py",
   "mimetype": "text/x-python",
   "name": "python",
   "nbconvert_exporter": "python",
   "pygments_lexer": "ipython3",
   "version": "3.8.5"
  }
 },
 "nbformat": 4,
 "nbformat_minor": 2
}
