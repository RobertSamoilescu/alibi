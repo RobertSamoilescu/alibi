{
 "cells": [
  {
   "cell_type": "code",
   "execution_count": 1,
   "metadata": {},
   "outputs": [
    {
     "name": "stderr",
     "output_type": "stream",
     "text": [
      "/home/robert/anaconda3/envs/alibi/lib/python3.8/site-packages/ray/autoscaler/_private/cli_logger.py:57: FutureWarning: Not all Ray CLI dependencies were found. In Ray 1.4+, the Ray CLI, autoscaler, and dashboard will only be usable via `pip install 'ray[default]'`. Please update your install command.\n",
      "  warnings.warn(\n"
     ]
    }
   ],
   "source": [
    "import os\n",
    "import time\n",
    "import spacy\n",
    "import string\n",
    "import numpy as np\n",
    "import itertools\n",
    "import pickle as pkl\n",
    "from tqdm import tqdm\n",
    "\n",
    "from sklearn.feature_extraction.text import CountVectorizer\n",
    "from sklearn.linear_model import LogisticRegression\n",
    "from sklearn.metrics import accuracy_score\n",
    "from sklearn.model_selection import train_test_split\n",
    "\n",
    "from alibi.explainers import AnchorText\n",
    "from alibi.datasets import fetch_movie_sentiment\n",
    "from alibi.utils.download import spacy_model\n",
    "from alibi.utils.lang_model import DistilbertBaseUncased, BertBaseUncased, RobertaBase\n",
    "\n",
    "%load_ext autoreload\n",
    "%autoreload 2"
   ]
  },
  {
   "cell_type": "markdown",
   "metadata": {},
   "source": [
    "### Load movie review dataset\n",
    "\n",
    "The `fetch_movie_sentiment` function returns a `Bunch` object containing the features, the targets and the target names for the dataset."
   ]
  },
  {
   "cell_type": "code",
   "execution_count": 2,
   "metadata": {},
   "outputs": [
    {
     "data": {
      "text/plain": [
       "dict_keys(['data', 'target', 'target_names'])"
      ]
     },
     "execution_count": 2,
     "metadata": {},
     "output_type": "execute_result"
    }
   ],
   "source": [
    "movies = fetch_movie_sentiment()\n",
    "movies.keys()"
   ]
  },
  {
   "cell_type": "code",
   "execution_count": 3,
   "metadata": {},
   "outputs": [],
   "source": [
    "data = movies.data\n",
    "labels = movies.target\n",
    "target_names = movies.target_names"
   ]
  },
  {
   "cell_type": "code",
   "execution_count": 4,
   "metadata": {},
   "outputs": [],
   "source": [
    "train, test, train_labels, test_labels = train_test_split(data, labels, test_size=.2, random_state=42)\n",
    "train, val, train_labels, val_labels = train_test_split(train, train_labels, test_size=.1, random_state=42)\n",
    "train_labels = np.array(train_labels)\n",
    "test_labels = np.array(test_labels)\n",
    "val_labels = np.array(val_labels)"
   ]
  },
  {
   "cell_type": "markdown",
   "metadata": {},
   "source": [
    "### Apply CountVectorizer to training set"
   ]
  },
  {
   "cell_type": "code",
   "execution_count": 5,
   "metadata": {},
   "outputs": [
    {
     "data": {
      "text/plain": [
       "CountVectorizer()"
      ]
     },
     "execution_count": 5,
     "metadata": {},
     "output_type": "execute_result"
    }
   ],
   "source": [
    "vectorizer = CountVectorizer(min_df=1)\n",
    "vectorizer.fit(train)"
   ]
  },
  {
   "cell_type": "markdown",
   "metadata": {},
   "source": [
    "### Fit model"
   ]
  },
  {
   "cell_type": "code",
   "execution_count": 6,
   "metadata": {},
   "outputs": [
    {
     "data": {
      "text/plain": [
       "LogisticRegression(solver='liblinear')"
      ]
     },
     "execution_count": 6,
     "metadata": {},
     "output_type": "execute_result"
    }
   ],
   "source": [
    "np.random.seed(0)\n",
    "clf = LogisticRegression(solver='liblinear')\n",
    "clf.fit(vectorizer.transform(train), train_labels)"
   ]
  },
  {
   "cell_type": "markdown",
   "metadata": {},
   "source": [
    "### Define prediction function"
   ]
  },
  {
   "cell_type": "code",
   "execution_count": 7,
   "metadata": {},
   "outputs": [],
   "source": [
    "predict_fn = lambda x: clf.predict(vectorizer.transform(x))"
   ]
  },
  {
   "cell_type": "markdown",
   "metadata": {},
   "source": [
    "### Make predictions on train and test sets"
   ]
  },
  {
   "cell_type": "code",
   "execution_count": 8,
   "metadata": {},
   "outputs": [
    {
     "name": "stdout",
     "output_type": "stream",
     "text": [
      "Train accuracy 0.9801624284382905\n",
      "Validation accuracy 0.7544910179640718\n",
      "Test accuracy 0.7589841878294202\n"
     ]
    }
   ],
   "source": [
    "preds_train = predict_fn(train)\n",
    "preds_val = predict_fn(val)\n",
    "preds_test = predict_fn(test)\n",
    "print('Train accuracy', accuracy_score(train_labels, preds_train))\n",
    "print('Validation accuracy', accuracy_score(val_labels, preds_val))\n",
    "print('Test accuracy', accuracy_score(test_labels, preds_test))"
   ]
  },
  {
   "cell_type": "markdown",
   "metadata": {},
   "source": [
    "### Load spaCy model\n",
    "\n",
    "English multi-task CNN trained on OntoNotes, with GloVe vectors trained on Common Crawl. Assigns word vectors, context-specific token vectors, POS tags, dependency parse and named entities."
   ]
  },
  {
   "cell_type": "code",
   "execution_count": 9,
   "metadata": {},
   "outputs": [],
   "source": [
    "model = 'en_core_web_md'\n",
    "spacy_model(model=model)\n",
    "nlp = spacy.load(model)"
   ]
  },
  {
   "cell_type": "markdown",
   "metadata": {},
   "source": [
    "### Load transformers"
   ]
  },
  {
   "cell_type": "code",
   "execution_count": 10,
   "metadata": {},
   "outputs": [
    {
     "data": {
      "application/vnd.jupyter.widget-view+json": {
       "model_id": "48432f43dd914efebab5d30e1c5a8f09",
       "version_major": 2,
       "version_minor": 0
      },
      "text/plain": [
       "Downloading:   0%|          | 0.00/268M [00:00<?, ?B/s]"
      ]
     },
     "metadata": {},
     "output_type": "display_data"
    }
   ],
   "source": [
    "lang_model = DistilbertBaseUncased()"
   ]
  },
  {
   "cell_type": "markdown",
   "metadata": {},
   "source": [
    "### Random indices"
   ]
  },
  {
   "cell_type": "code",
   "execution_count": 11,
   "metadata": {},
   "outputs": [
    {
     "name": "stdout",
     "output_type": "stream",
     "text": [
      "[ 299  379  997 1601  264  229 1774 1968  458  252]\n"
     ]
    }
   ],
   "source": [
    "indices = np.random.choice(len(test), size=10, replace=False)\n",
    "print(indices)"
   ]
  },
  {
   "cell_type": "markdown",
   "metadata": {},
   "source": [
    "### Define Anchor"
   ]
  },
  {
   "cell_type": "code",
   "execution_count": 12,
   "metadata": {},
   "outputs": [],
   "source": [
    "explainer = AnchorText(nlp=nlp, language_model=lang_model, predictor=predict_fn)"
   ]
  },
  {
   "cell_type": "code",
   "execution_count": 13,
   "metadata": {},
   "outputs": [],
   "source": [
    "def build_explanation(explanation) -> str:\n",
    "    s = ''\n",
    "    s += 'Anchor: %s\\n' % (' AND '.join(explanation.anchor))\n",
    "    s += 'Precision: %.2f\\n' % explanation.precision\n",
    "    \n",
    "    # print examples covered as True\n",
    "    s += '\\n\\nExamples where anchor applies and model predicts %s:\\n' % pred\n",
    "    if len(explanation.raw['examples']):\n",
    "        s += '\\n'.join([x for x in explanation.raw['examples'][-1]['covered_true']])\n",
    "    \n",
    "    # print examples covered as False\n",
    "    s += '\\n\\nExamples where anchor applies and model predicts %s:\\n' % alternative\n",
    "    if len(explanation.raw['examples']):\n",
    "        s += '\\n'.join([x for x in explanation.raw['examples'][-1]['covered_false']])\n",
    "    \n",
    "    s += '\\n\\n\\n'\n",
    "    return s"
   ]
  },
  {
   "cell_type": "code",
   "execution_count": 14,
   "metadata": {},
   "outputs": [],
   "source": [
    "config_similarity = {\n",
    "    \"threshold\": [0.95],\n",
    "    \"sample_proba\": [0.5],\n",
    "    \"punctuation\": [string.punctuation],\n",
    "    \"top_n\": [10, 100, 500],\n",
    "    \"sampling_method\": [\"similarity\"]\n",
    "}\n",
    "\n",
    "config_language_model = {\n",
    "    \"threshold\": [0.95],\n",
    "    \"sample_proba\": [0.5],\n",
    "    \"filling_method\": ['parallel'],\n",
    "    \"punctuation\": [string.punctuation],\n",
    "    \"top_n\": [10, 100, 500],\n",
    "    \"prec_mask_templates\": [0.1, 0.5, 1.0],\n",
    "    \"sampling_method\": [\"language_model\"]\n",
    "}\n"
   ]
  },
  {
   "cell_type": "code",
   "execution_count": 15,
   "metadata": {},
   "outputs": [],
   "source": [
    "class_names = movies.target_names"
   ]
  },
  {
   "cell_type": "markdown",
   "metadata": {},
   "source": [
    "### Benchmarking"
   ]
  },
  {
   "cell_type": "code",
   "execution_count": 21,
   "metadata": {},
   "outputs": [],
   "source": [
    "def run_configuration(tests: dict, file_name: str) -> dict:\n",
    "    # get all combinations\n",
    "    values = tests.values()\n",
    "    combinations = itertools.product(*values)\n",
    "    \n",
    "    # open checkpoint file\n",
    "    f = open(file_name, 'wb')\n",
    "    configs = []\n",
    "\n",
    "    for comb in tqdm(combinations):\n",
    "        # build configuration\n",
    "        config = dict(zip(tests.keys(), comb))\n",
    "        config['elapsed_time'] = 0\n",
    "\n",
    "        for index in tqdm(indices):\n",
    "            text = test[index]\n",
    "\n",
    "            # compute text prediction\n",
    "            pred = class_names[predict_fn([text])[0]]\n",
    "            alternative = class_names[1 - predict_fn([text])[0]]\n",
    "         \n",
    "            # define explainer\n",
    "            np.random.seed(0)\n",
    "            explainer = AnchorText(nlp=nlp, language_model=lang_model, predictor=predict_fn)\n",
    "\n",
    "            # compute explanation\n",
    "            start = time.time()\n",
    "            explanation = explainer.explain(text, **config)\n",
    "            config['elapsed_time'] += (time.time() - start)\n",
    "        \n",
    "        # compute mean\n",
    "        config['elapsed_time'] /= len(indices)\n",
    "        configs.append(config)\n",
    "        \n",
    "    # append it to output file\n",
    "    pkl.dump(configs, f)\n",
    "    f.close()\n",
    "    \n",
    "    return configs\n"
   ]
  },
  {
   "cell_type": "code",
   "execution_count": 22,
   "metadata": {},
   "outputs": [],
   "source": [
    "if not os.path.exists(\"stats_similarity.pkl\"):\n",
    "    configs_sim = run_configuration(config_similarity, \"stats_similarity.pkl\")\n",
    "\n",
    "with open(\"stats_similarity.pkl\", \"rb\") as fin:\n",
    "    configs_sim = pkl.load(fin)"
   ]
  },
  {
   "cell_type": "code",
   "execution_count": null,
   "metadata": {},
   "outputs": [
    {
     "name": "stderr",
     "output_type": "stream",
     "text": [
      "0it [00:00, ?it/s]\n",
      "  0%|          | 0/10 [00:00<?, ?it/s]\u001b[A\n",
      " 10%|█         | 1/10 [00:04<00:36,  4.03s/it]\u001b[A\n",
      " 20%|██        | 2/10 [00:10<00:42,  5.27s/it]\u001b[A\n",
      " 30%|███       | 3/10 [00:15<00:36,  5.21s/it]\u001b[A\n",
      " 40%|████      | 4/10 [00:21<00:33,  5.54s/it]\u001b[A\n",
      " 50%|█████     | 5/10 [00:25<00:24,  4.95s/it]\u001b[A\n",
      " 60%|██████    | 6/10 [00:28<00:17,  4.32s/it]\u001b[A\n",
      " 70%|███████   | 7/10 [00:30<00:11,  3.72s/it]\u001b[A\n",
      " 80%|████████  | 8/10 [00:38<00:10,  5.08s/it]\u001b[A\n",
      " 90%|█████████ | 9/10 [00:40<00:04,  4.14s/it]\u001b[A\n",
      "100%|██████████| 10/10 [00:43<00:00,  4.39s/it]\u001b[A\n",
      "1it [00:43, 43.94s/it]\n",
      "  0%|          | 0/10 [00:00<?, ?it/s]\u001b[A\n",
      " 10%|█         | 1/10 [00:19<02:53, 19.32s/it]\u001b[A\n",
      " 20%|██        | 2/10 [01:02<04:25, 33.14s/it]\u001b[A\n",
      " 30%|███       | 3/10 [01:32<03:42, 31.83s/it]\u001b[A\n",
      " 40%|████      | 4/10 [02:07<03:19, 33.28s/it]\u001b[A\n",
      " 50%|█████     | 5/10 [02:26<02:19, 27.91s/it]\u001b[A\n",
      " 60%|██████    | 6/10 [02:40<01:32, 23.19s/it]\u001b[A\n",
      " 70%|███████   | 7/10 [02:50<00:56, 18.95s/it]\u001b[A\n",
      " 80%|████████  | 8/10 [03:29<00:50, 25.28s/it]\u001b[A\n",
      " 90%|█████████ | 9/10 [03:38<00:20, 20.31s/it]\u001b[A\n",
      "100%|██████████| 10/10 [03:53<00:00, 23.32s/it]\u001b[A\n",
      "2it [04:37, 155.29s/it]\n",
      "  0%|          | 0/10 [00:00<?, ?it/s]\u001b[A\n",
      " 10%|█         | 1/10 [00:45<06:49, 45.45s/it]\u001b[A\n",
      " 20%|██        | 2/10 [01:56<08:06, 60.76s/it]\u001b[A\n",
      " 30%|███       | 3/10 [03:02<07:20, 62.94s/it]\u001b[A\n",
      " 40%|████      | 4/10 [04:01<06:09, 61.58s/it]\u001b[A\n",
      " 50%|█████     | 5/10 [04:36<04:19, 51.91s/it]\u001b[A\n",
      " 60%|██████    | 6/10 [05:04<02:54, 43.72s/it]\u001b[A\n",
      " 70%|███████   | 7/10 [05:27<01:51, 37.09s/it]\u001b[A\n",
      " 80%|████████  | 8/10 [06:44<01:39, 49.66s/it]\u001b[A\n",
      " 90%|█████████ | 9/10 [07:02<00:39, 39.75s/it]\u001b[A\n",
      "100%|██████████| 10/10 [07:28<00:00, 44.85s/it]\u001b[A\n",
      "3it [12:05, 289.19s/it]\n",
      "  0%|          | 0/10 [00:00<?, ?it/s]\u001b[A\n",
      " 10%|█         | 1/10 [00:04<00:38,  4.25s/it]\u001b[A\n",
      " 20%|██        | 2/10 [00:14<01:01,  7.70s/it]\u001b[A\n",
      " 30%|███       | 3/10 [00:20<00:49,  7.06s/it]\u001b[A\n",
      " 40%|████      | 4/10 [00:26<00:40,  6.68s/it]\u001b[A\n",
      " 50%|█████     | 5/10 [00:30<00:28,  5.71s/it]\u001b[A\n",
      " 60%|██████    | 6/10 [00:33<00:19,  4.81s/it]\u001b[A\n",
      " 70%|███████   | 7/10 [00:35<00:11,  3.85s/it]\u001b[A\n",
      " 80%|████████  | 8/10 [00:46<00:11,  5.98s/it]\u001b[A\n",
      " 90%|█████████ | 9/10 [00:48<00:04,  4.80s/it]\u001b[A\n",
      "100%|██████████| 10/10 [00:51<00:00,  5.17s/it]\u001b[A\n",
      "4it [12:57, 195.42s/it]\n",
      "  0%|          | 0/10 [00:00<?, ?it/s]\u001b[A\n",
      " 10%|█         | 1/10 [00:20<03:04, 20.51s/it]\u001b[A\n",
      " 20%|██        | 2/10 [01:01<04:22, 32.77s/it]\u001b[A\n",
      " 30%|███       | 3/10 [01:31<03:40, 31.48s/it]\u001b[A\n",
      " 40%|████      | 4/10 [02:05<03:15, 32.51s/it]\u001b[A\n",
      " 50%|█████     | 5/10 [02:22<02:13, 26.73s/it]\u001b[A\n",
      " 60%|██████    | 6/10 [02:38<01:31, 22.99s/it]\u001b[A"
     ]
    }
   ],
   "source": [
    "if not os.path.exists(\"stats_lm.pkl\"):\n",
    "    configs_lm = run_configuration(config_language_model, \"stats_lm.pkl\")\n",
    "\n",
    "with open(\"stats_lm.pkl\", \"rb\") as fin:\n",
    "    configs_lm = pkl.load(fin)"
   ]
  },
  {
   "cell_type": "code",
   "execution_count": 19,
   "metadata": {},
   "outputs": [],
   "source": [
    "x, y = [], []\n",
    "\n",
    "# collect similarity results\n",
    "for conf in configs_sim:\n",
    "    name = \"%s, top %d\" % (\"SIM\", conf[\"top_n\"])\n",
    "    x.append(name)\n",
    "    y.append(conf[\"elapsed_time\"])\n",
    "\n",
    "# collect language model results\n",
    "for conf in configs_lm:\n",
    "    name = \"%s, top %d, PMT %.2f\" % \\\n",
    "        (\"LM\", conf[\"top_n\"], conf[\"prec_mask_templates\"])\n",
    "    x.append(name)\n",
    "    y.append(conf[\"elapsed_time\"])"
   ]
  },
  {
   "cell_type": "code",
   "execution_count": 20,
   "metadata": {},
   "outputs": [
    {
     "data": {
      "image/png": "[encoded data removed]",
      "text/plain": [
       "<Figure size 640x480 with 1 Axes>"
      ]
     },
     "metadata": {},
     "output_type": "display_data"
    }
   ],
   "source": [
    "import matplotlib.pyplot as plt\n",
    "\n",
    "plt.bar(range(len(x)), y)\n",
    "plt.xticks(range(len(x)), x)\n",
    "plt.xticks(rotation=90)\n",
    "plt.show()"
   ]
  }
 ],
 "metadata": {
  "kernelspec": {
   "display_name": "alibi",
   "language": "python",
   "name": "alibi"
  },
  "language_info": {
   "codemirror_mode": {
    "name": "ipython",
    "version": 3
   },
   "file_extension": ".py",
   "mimetype": "text/x-python",
   "name": "python",
   "nbconvert_exporter": "python",
   "pygments_lexer": "ipython3",
   "version": "3.8.10"
  }
 },
 "nbformat": 4,
 "nbformat_minor": 4
}
