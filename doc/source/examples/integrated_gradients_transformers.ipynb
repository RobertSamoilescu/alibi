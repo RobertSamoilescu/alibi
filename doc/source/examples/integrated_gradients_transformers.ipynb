{
 "cells": [
  {
   "cell_type": "markdown",
   "metadata": {},
   "source": [
    "# Integrated gradients for transformers models"
   ]
  },
  {
   "cell_type": "markdown",
   "metadata": {},
   "source": [
    "In this example, we apply the integrated gradients method to two different sentiment analysis models. The first one is a pretrained sentiment analysis model from the  [transformers](https://github.com/huggingface/transformers) library. The second model is a combination of a pretrained (distil)BERT model and a simple feed forward network. The entire model, **(distil)BERT** and feed forward network, is trained on the **IMDB reviews** dataset. \n",
    "\n",
    "In text classification models, **integrated gradients (IG)** define an attribution value for each word in the input sentence. The attributions are calculated considering the integral of the model  gradients with respect to the word embedding layer along a straight path from a baseline instance $x^\\prime$ to the input instance $x.$ A description of the method can be found [here](https://docs.seldon.io/projects/alibi/en/stable/methods/IntegratedGradients.html). Integrated gradients was originally proposed in Sundararajan et al., [\"Axiomatic Attribution for Deep Networks\"](https://arxiv.org/abs/1703.01365)"
   ]
  },
  {
   "cell_type": "markdown",
   "metadata": {},
   "source": [
    "<div class=\"alert alert-info\">\n",
    "Note\n",
    "    \n",
    "To enable support for IntegratedGradients, you may need to run\n",
    "    \n",
    "```bash\n",
    "pip install alibi[tensorflow]\n",
    "```\n",
    "\n",
    "</div>"
   ]
  },
  {
   "cell_type": "code",
   "execution_count": 1,
   "metadata": {},
   "outputs": [],
   "source": [
    "import re\n",
    "import os\n",
    "import numpy as np\n",
    "import matplotlib as mpl\n",
    "import matplotlib.cm\n",
    "\n",
    "from tqdm import tqdm\n",
    "from typing import Optional, Union, List, Dict, Tuple\n",
    "from IPython.display import HTML\n",
    "\n",
    "import tensorflow as tf\n",
    "import tensorflow.keras as keras\n",
    "from tensorflow.keras.datasets import imdb\n",
    "from tensorflow.keras.utils import to_categorical\n",
    "from tensorflow.keras.preprocessing import sequence\n",
    "from tensorflow.keras.optimizers import Adam\n",
    "from tensorflow.keras.losses import SparseCategoricalCrossentropy\n",
    "\n",
    "from transformers.optimization_tf import WarmUp\n",
    "from transformers import TFAutoModelForSequenceClassification, AutoTokenizer, PreTrainedTokenizer\n",
    "\n",
    "from alibi.explainers import IntegratedGradients"
   ]
  },
  {
   "cell_type": "markdown",
   "metadata": {},
   "source": [
    "Here we define some functions needed to process the data and visualize. For consistency with other [text examples](../examples/integrated_gradients_imdb.ipynb) in alibi, we will use the **IMDB reviews** dataset provided by Keras. Since the dataset consists of reviews that are already tokenized, we need to decode each sentence and re-convert them into tokens using the **(distil)BERT** tokenizer."
   ]
  },
  {
   "cell_type": "code",
   "execution_count": 2,
   "metadata": {},
   "outputs": [],
   "source": [
    "def decode_sentence(x: List[int], reverse_index: Dict[int, str], unk_token: str = '[UNK]') -> str:\n",
    "    \"\"\" \n",
    "    Decodes the tokenized sentences from keras IMDB dataset into plain text.\n",
    "    \n",
    "    Parameters\n",
    "    ----------\n",
    "    x\n",
    "        List of integers to be docoded.\n",
    "    revese_index\n",
    "        Reverse index map, from `int` to `str`.\n",
    "    unk_token\n",
    "        Unkown token to be used.\n",
    "        \n",
    "    Returns\n",
    "    -------\n",
    "        Decoded sentence.\n",
    "    \"\"\"\n",
    "    # the `-3` offset is due to the special tokens used by keras\n",
    "    # see https://stackoverflow.com/questions/42821330/restore-original-text-from-keras-s-imdb-dataset\n",
    "    return \" \".join([reverse_index.get(i - 3, unk_token) for i in x])\n",
    "\n",
    "\n",
    "def process_sentences(sentence: List[str], \n",
    "                      tokenizer: PreTrainedTokenizer, \n",
    "                      max_len: int) -> Dict[str, np.ndarray]:\n",
    "    \"\"\"\n",
    "    Tokenize the text sentences.\n",
    "    \n",
    "    Parameters\n",
    "    ----------\n",
    "    sentence\n",
    "        Sentence to be processed.\n",
    "    tokenizer\n",
    "        Tokenizer to be used.\n",
    "    max_len\n",
    "        Controls the maximum length to use by one of the truncation/padding parameters.\n",
    "    \n",
    "    \n",
    "    Returns\n",
    "    -------\n",
    "    Tokenized representation containing:\n",
    "     - input_ids\n",
    "     - attention_mask\n",
    "    \"\"\"\n",
    "    # since we are using the model for classification, we need to include special char (i.e, '[CLS]', ''[SEP]')\n",
    "    # check the example here: https://huggingface.co/transformers/v4.4.2/quicktour.html\n",
    "    z = tokenizer(sentence, \n",
    "                  add_special_tokens=True, \n",
    "                  padding='max_length', \n",
    "                  max_length=max_len, \n",
    "                  truncation=True,\n",
    "                  return_attention_mask = True,  \n",
    "                  return_tensors='np')\n",
    "    return z\n",
    "\n",
    "def process_input(sentence: List[str],\n",
    "                  tokenizer: PreTrainedTokenizer,\n",
    "                  max_len: int) -> Tuple[np.ndarray, dict]:\n",
    "    \"\"\"\n",
    "    Preprocess input sentence befor sending to transformer model.\n",
    "    \n",
    "    Parameters\n",
    "    -----------\n",
    "    sentence\n",
    "        Sentence to be processed.\n",
    "    tokenizer\n",
    "        Tokenizer to be used.\n",
    "    max_len\n",
    "        Controls the maximum length to use by one of the truncation/padding parameters.\n",
    "        \n",
    "    Returns\n",
    "    -------\n",
    "    Tuple consisting of the input_ids and a dictionary contaning the attention_mask.\n",
    "    \"\"\"\n",
    "    # tokenize the sentences using the transformer's tokenizer.\n",
    "    tokenized_samples = process_sentences(sentence, tokenizer, max_len)\n",
    "    X_test = tokenized_samples['input_ids'].astype(np.int32)\n",
    "\n",
    "    # the values of the kwargs have to be `tf.Tensor`. \n",
    "    # see transformers issue #14404: https://github.com/huggingface/transformers/issues/14404\n",
    "    kwargs = {k: tf.constant(v) for k,v in tokenized_samples.items() if k == 'attention_mask'}\n",
    "    return X_test, kwargs"
   ]
  },
  {
   "cell_type": "code",
   "execution_count": 3,
   "metadata": {},
   "outputs": [],
   "source": [
    "def  hlstr(string: str , color: str = 'white') -> str:\n",
    "    \"\"\"\n",
    "    Return HTML markup highlighting text with the desired color.\n",
    "    \"\"\"\n",
    "    return f\"<mark style=background-color:{color}>{string} </mark>\"\n",
    "\n",
    "\n",
    "def colorize(attrs: np.ndarray, cmap: str = 'PiYG') -> List:\n",
    "    \"\"\"\n",
    "    Compute hex colors based on the attributions for a single instance.\n",
    "    Uses a diverging colorscale by default and normalizes and scales\n",
    "    the colormap so that colors are consistent with the attributions.\n",
    "    \n",
    "    Parameters\n",
    "    ----------\n",
    "    attrs\n",
    "        Attributions to be visualized.\n",
    "    cmap\n",
    "        Matplotlib cmap type.\n",
    "    \"\"\"\n",
    "    cmap_bound = np.abs(attrs).max()\n",
    "    norm = mpl.colors.Normalize(vmin=-cmap_bound, vmax=cmap_bound)\n",
    "    cmap = mpl.cm.get_cmap(cmap)\n",
    "    return list(map(lambda x: mpl.colors.rgb2hex(cmap(norm(x))), attrs))\n",
    "\n",
    "\n",
    "def display(X: np.ndarray, \n",
    "            attrs: np.ndarray, \n",
    "            tokenizer: PreTrainedTokenizer,\n",
    "            pred: np.ndarray) -> None:\n",
    "    \"\"\"\n",
    "    Display the attribution of a given instance.\n",
    "    \n",
    "    Parameters\n",
    "    ----------\n",
    "    X\n",
    "        Instance to display the attributions for.\n",
    "    attrs\n",
    "        Attributions values for the given instance.\n",
    "    tokenizer\n",
    "        Tokenizer to be used for decoding.\n",
    "    pred\n",
    "        Classification label (prediction) for the given instance.\n",
    "    \"\"\"\n",
    "    pred_dict = {1: 'Positive review', 0: 'Negative review'}\n",
    "    \n",
    "    # remove padding\n",
    "    fst_pad_indices = np.where(X ==tokenizer.pad_token_id)[0]\n",
    "    if len(fst_pad_indices) > 0:\n",
    "        X, attrs = X[:fst_pad_indices[0]], attrs[:fst_pad_indices[0]]\n",
    "    \n",
    "    # decode tokens and get colors\n",
    "    tokens = [tokenizer.decode([X[i]]) for i in range(len(X))]\n",
    "    colors = colorize(attrs)\n",
    "    \n",
    "    print(f'Predicted label =  {pred}: {pred_dict[pred]}')\n",
    "    return HTML(\"\".join(list(map(hlstr, tokens, colors))))"
   ]
  },
  {
   "cell_type": "markdown",
   "metadata": {},
   "source": [
    "## Automodel"
   ]
  },
  {
   "cell_type": "markdown",
   "metadata": {},
   "source": [
    "In this section, we will use the Tensorflow auto model for sequence classification provided by the [transformers](https://github.com/huggingface/transformers) library. \n",
    "\n",
    "The model is pretrained on the [Stanford Sentiment Treebank (SST)](https://huggingface.co/datasets/sst) dataset. The **Stanford Sentiment Treebank** is the first corpus with fully labeled parse trees that allows for a complete analysis of the compositional effects of sentiment in language.\n",
    "\n",
    "Each phrase is labeled as either negative, somewhat negative, neutral, somewhat positive or positive. The corpus with all 5 labels is referred to as **SST-5** or **SST fine-grained**. Binary classification experiments on full sentences (negative or somewhat negative vs somewhat positive or positive with neutral sentences discarded) refer to the dataset as **SST-2** or **SST binary**.  In this example, we will use a text classifier pretrained on the **SST-2** dataset."
   ]
  },
  {
   "cell_type": "code",
   "execution_count": 4,
   "metadata": {},
   "outputs": [
    {
     "name": "stderr",
     "output_type": "stream",
     "text": [
      "All model checkpoint layers were used when initializing TFDistilBertForSequenceClassification.\n",
      "\n",
      "All the layers of TFDistilBertForSequenceClassification were initialized from the model checkpoint at distilbert-base-uncased-finetuned-sst-2-english.\n",
      "If your task is similar to the task the model of the checkpoint was trained on, you can already use TFDistilBertForSequenceClassification for predictions without further training.\n"
     ]
    }
   ],
   "source": [
    "# load model and tokenizer\n",
    "model_name = \"distilbert-base-uncased-finetuned-sst-2-english\"\n",
    "auto_model_distilbert = TFAutoModelForSequenceClassification.from_pretrained(model_name)\n",
    "tokenizer = AutoTokenizer.from_pretrained(model_name)"
   ]
  },
  {
   "cell_type": "markdown",
   "metadata": {},
   "source": [
    "The `auto_model_distilbert` output is a custom object containing the output logits. We use a wrapper to transform the output into a tensor and apply a softmax function to the logits."
   ]
  },
  {
   "cell_type": "code",
   "execution_count": 5,
   "metadata": {},
   "outputs": [],
   "source": [
    "class AutoModelWrapper(keras.Model):\n",
    "    def __init__(self, transformer: keras.Model, **kwargs):\n",
    "        \"\"\"\n",
    "        Constructor.\n",
    "        \n",
    "        Parameters\n",
    "        ----------\n",
    "        transformer\n",
    "            Transformer to be wrapped.\n",
    "        \"\"\"\n",
    "        super().__init__()\n",
    "        self.transformer = transformer\n",
    "\n",
    "    def call(self, \n",
    "             input_ids: Union[np.ndarray, tf.Tensor], \n",
    "             attention_mask: Optional[Union[np.ndarray, tf.Tensor]] = None,\n",
    "             training: bool = False):\n",
    "        \"\"\"\n",
    "        Performs forward pass throguh the model.\n",
    "        \n",
    "        Parameters\n",
    "        ----------\n",
    "        input_ids\n",
    "            Indices of input sequence tokens in the vocabulary.\n",
    "        attention_mask\n",
    "            Mask to avoid performing attention on padding token indices.\n",
    "        \n",
    "        Returns\n",
    "        -------\n",
    "        Classification probabilities.\n",
    "        \"\"\"\n",
    "        out = self.transformer(input_ids=input_ids, attention_mask=attention_mask, training=training)\n",
    "        return tf.nn.softmax(out.logits, axis=-1)\n",
    "    \n",
    "    def get_config(self):\n",
    "        return {}\n",
    "\n",
    "    @classmethod\n",
    "    def from_config(cls, config):\n",
    "        return cls(**config)"
   ]
  },
  {
   "cell_type": "code",
   "execution_count": 6,
   "metadata": {},
   "outputs": [],
   "source": [
    "auto_model = AutoModelWrapper(auto_model_distilbert)"
   ]
  },
  {
   "cell_type": "markdown",
   "metadata": {},
   "source": [
    "### Calculate integrated gradients"
   ]
  },
  {
   "cell_type": "markdown",
   "metadata": {},
   "source": [
    "The auto model consists of a main **distilBERT** layer (layer 0) followed by two dense layers."
   ]
  },
  {
   "cell_type": "code",
   "execution_count": 7,
   "metadata": {},
   "outputs": [
    {
     "data": {
      "text/plain": [
       "[<transformers.models.distilbert.modeling_tf_distilbert.TFDistilBertMainLayer at 0x7f96896ad670>,\n",
       " <keras.layers.core.dense.Dense at 0x7f966c1f8820>,\n",
       " <keras.layers.core.dense.Dense at 0x7f966c1f8a90>,\n",
       " <keras.layers.core.dropout.Dropout at 0x7f966c1f8dc0>]"
      ]
     },
     "execution_count": 7,
     "metadata": {},
     "output_type": "execute_result"
    }
   ],
   "source": [
    "auto_model.layers[0].layers"
   ]
  },
  {
   "cell_type": "markdown",
   "metadata": {},
   "source": [
    "We will proceed with the embedding layer from **distilBERT**. We calculate attributions to the outputs of the **embedding layer** since we can easily construct an appropriate baseline for the **IG** which will result in more interpretable attribution. If we considered a hidden layer instead, we would inevitably capture higher order interaction between the input tokens, which might be harder to interpret as we no longer have a one-to-one mapping between layer outputs and input tokens. Moreover, the embedding layer is a standard choice since we can not compute attributions for the raw input due to its discrete structure (i.e., we cannot differentiate the output of the model with respect to the discrete input representation). **That being said, you can use any other layer and compute attributions to the outputs of it instead.**"
   ]
  },
  {
   "cell_type": "code",
   "execution_count": 8,
   "metadata": {},
   "outputs": [],
   "source": [
    "#  Extracting the embeddings layer\n",
    "layer = auto_model.layers[0].layers[0].embeddings\n",
    "\n",
    "# # Extract the first layer from the transformer\n",
    "# layer = auto_model.layers[0].layers[0].transformer.layer[0]"
   ]
  },
  {
   "cell_type": "code",
   "execution_count": 9,
   "metadata": {},
   "outputs": [],
   "source": [
    "n_steps = 50\n",
    "internal_batch_size = 5\n",
    "method = \"gausslegendre\"\n",
    "\n",
    "# define Integrated Gradients explainer\n",
    "ig  = IntegratedGradients(auto_model,\n",
    "                          layer=layer,\n",
    "                          n_steps=n_steps, \n",
    "                          method=method,\n",
    "                          internal_batch_size=internal_batch_size)"
   ]
  },
  {
   "cell_type": "markdown",
   "metadata": {},
   "source": [
    "Here we consider some simple sentences such as \"I love you, I like you\", \"I love you, I like you, but I also kind of dislike you\" ."
   ]
  },
  {
   "cell_type": "code",
   "execution_count": 10,
   "metadata": {},
   "outputs": [],
   "source": [
    "# define some text to be explained\n",
    "text_samples = [\n",
    "    'I love you, I like you', \n",
    "    'I love you, I like you, but I also kind of dislike you',\n",
    "    'Everything is so nice about you'\n",
    "]\n",
    "\n",
    "# process input to be explained\n",
    "X_test, kwargs = process_input(sentence=text_samples,\n",
    "                               tokenizer=tokenizer,\n",
    "                               max_len=256)"
   ]
  },
  {
   "cell_type": "code",
   "execution_count": 11,
   "metadata": {
    "scrolled": true
   },
   "outputs": [],
   "source": [
    "# get predictions\n",
    "predictions = auto_model(X_test, **kwargs).numpy().argmax(axis=1)\n",
    "\n",
    "# Get the baselines. Note that the baseline contains special characters (e.g, [CLS], [SEP], [UNK] [PAD]) and\n",
    "# the regular tokens are replaced by the [PAD] token which is a neutral token.\n",
    "# By including special tokens such as [CLS], [SEP], [UNK], we ensure that the attribution for those tokens\n",
    "# will be 0 if we use the embedding layer. The 0 attribution is due to integration between [x, x] which is 0.\n",
    "mask = np.isin(X_test, tokenizer.all_special_ids)\n",
    "baselines = X_test * mask + tokenizer.pad_token_id * (1 - mask)\n",
    "\n",
    "# get explanation\n",
    "explanation = ig.explain(X_test, \n",
    "                         forward_kwargs=kwargs,\n",
    "                         baselines=baselines, \n",
    "                         target=predictions)"
   ]
  },
  {
   "cell_type": "markdown",
   "metadata": {},
   "source": [
    "Let's check the attributions' shapes."
   ]
  },
  {
   "cell_type": "code",
   "execution_count": 12,
   "metadata": {},
   "outputs": [
    {
     "name": "stdout",
     "output_type": "stream",
     "text": [
      "Attributions shape: (3, 256, 768)\n"
     ]
    }
   ],
   "source": [
    "# Get attributions values from the explanation object\n",
    "attrs = explanation.attributions[0]\n",
    "print('Attributions shape:', attrs.shape)"
   ]
  },
  {
   "cell_type": "markdown",
   "metadata": {},
   "source": [
    "As you can see, the attribution of each token corresponds to a tensor of `768` elements. We compress all this information into a single number buy summing up all `768` components. The nice thing about this is that we still remain consistent with the **Completeness Axiom**, which states that the attributions add up to the difference between the output of our model for the given instance and the output of our model for the given baseline."
   ]
  },
  {
   "cell_type": "code",
   "execution_count": 13,
   "metadata": {},
   "outputs": [
    {
     "name": "stdout",
     "output_type": "stream",
     "text": [
      "Attributions shape: (3, 256)\n"
     ]
    }
   ],
   "source": [
    "attrs = attrs.sum(axis=2)\n",
    "print('Attributions shape:', attrs.shape)"
   ]
  },
  {
   "cell_type": "code",
   "execution_count": 14,
   "metadata": {},
   "outputs": [
    {
     "name": "stdout",
     "output_type": "stream",
     "text": [
      "Predicted label =  0: Negative review\n"
     ]
    },
    {
     "data": {
      "text/html": [
       "<mark style=background-color:#f7f7f6>[CLS] </mark><mark style=background-color:#fcdbed>i </mark><mark style=background-color:#e181b5>love </mark><mark style=background-color:#f9d1e8>you </mark><mark style=background-color:#f9eff4>, </mark><mark style=background-color:#f9eef4>i </mark><mark style=background-color:#faeaf2>like </mark><mark style=background-color:#fce5f1>you </mark><mark style=background-color:#f3f6ed>, </mark><mark style=background-color:#c9e8a2>but </mark><mark style=background-color:#f9f1f5>i </mark><mark style=background-color:#f8f2f5>also </mark><mark style=background-color:#edf6e1>kind </mark><mark style=background-color:#e8f5d5>of </mark><mark style=background-color:#276419>dislike </mark><mark style=background-color:#fde0ef>you </mark><mark style=background-color:#f7f7f6>[SEP] </mark>"
      ],
      "text/plain": [
       "<IPython.core.display.HTML object>"
      ]
     },
     "execution_count": 14,
     "metadata": {},
     "output_type": "execute_result"
    }
   ],
   "source": [
    "index = 1\n",
    "display(X=X_test[index], attrs=attrs[index], pred=predictions[index], tokenizer=tokenizer)"
   ]
  },
  {
   "cell_type": "markdown",
   "metadata": {},
   "source": [
    "**Note that since the sentence is classified as negative, words like `dislike` contribute positively to the score while words like `love` contribute negatively.**"
   ]
  },
  {
   "cell_type": "markdown",
   "metadata": {},
   "source": [
    "## Sentiment analysis on IMDB with fine-tuned model head."
   ]
  },
  {
   "cell_type": "markdown",
   "metadata": {},
   "source": [
    "###  Load and process data"
   ]
  },
  {
   "cell_type": "code",
   "execution_count": 15,
   "metadata": {
    "scrolled": true
   },
   "outputs": [],
   "source": [
    "# constants\n",
    "max_features = 10000\n",
    "\n",
    "# load imdb reviews datasets.\n",
    "(x_train, y_train), (x_test, y_test) = imdb.load_data(num_words=max_features)\n",
    "\n",
    "# remove the first integer token which is a special character that marks the beginning of the sentence\n",
    "x_train = [x[1:] for x in x_train]\n",
    "x_test = [x[1:] for x in x_test]\n",
    "\n",
    "# get mappings. The keys are transformed to lower case since we will use uncased models.\n",
    "reverse_index = {value: key.lower() for (key, value) in imdb.get_word_index().items()}"
   ]
  },
  {
   "cell_type": "markdown",
   "metadata": {},
   "source": [
    "### Load model and corresponding tokenizer"
   ]
  },
  {
   "cell_type": "markdown",
   "metadata": {},
   "source": [
    "Now we have to load the model and the corresponding tokenizer. You can chose between the **BERT** model or the **distilBERT** model. Note that we will be finetuning those models which will require access to a **GPU**. In our experiments, we trained distilBERT on a single **Quadro RTX 5000** which requires around **5GB** of memory. The entire training took around **5-6 min**. We recommend using **distilBERT** as it is lighter and we did not noticed a big difference in performance between the two models after finetuning."
   ]
  },
  {
   "cell_type": "code",
   "execution_count": 16,
   "metadata": {},
   "outputs": [],
   "source": [
    "# choose whether to use the BERT pr distilBERT model by selecting the appropriate name\n",
    "model_name = 'distilbert-base-uncased'\n",
    "# model_name = 'bert-base-uncased'"
   ]
  },
  {
   "cell_type": "code",
   "execution_count": 17,
   "metadata": {},
   "outputs": [
    {
     "name": "stderr",
     "output_type": "stream",
     "text": [
      "Some layers from the model checkpoint at distilbert-base-uncased were not used when initializing TFDistilBertForSequenceClassification: ['vocab_transform', 'activation_13', 'vocab_layer_norm', 'vocab_projector']\n",
      "- This IS expected if you are initializing TFDistilBertForSequenceClassification from the checkpoint of a model trained on another task or with another architecture (e.g. initializing a BertForSequenceClassification model from a BertForPreTraining model).\n",
      "- This IS NOT expected if you are initializing TFDistilBertForSequenceClassification from the checkpoint of a model that you expect to be exactly identical (initializing a BertForSequenceClassification model from a BertForSequenceClassification model).\n",
      "Some layers of TFDistilBertForSequenceClassification were not initialized from the model checkpoint at distilbert-base-uncased and are newly initialized: ['classifier', 'pre_classifier', 'dropout_39']\n",
      "You should probably TRAIN this model on a down-stream task to be able to use it for predictions and inference.\n"
     ]
    }
   ],
   "source": [
    "# load model and tokenizer\n",
    "model = TFAutoModelForSequenceClassification.from_pretrained(model_name, num_labels=2)\n",
    "tokenizer = AutoTokenizer.from_pretrained(model_name)\n",
    "\n",
    "# define maximum input length\n",
    "max_len = 256\n",
    "\n",
    "if model_name == 'bert-base-uncased':\n",
    "    # training parameters: https://huggingface.co/fabriceyhc/bert-base-uncased-imdb\n",
    "    init_lr = 5e-05\n",
    "    min_lr_ratio = 0\n",
    "    batch_size = 8\n",
    "    num_warmup_steps = 1546\n",
    "    num_train_steps = 15468\n",
    "    power = 1.0\n",
    "    \n",
    "elif model_name == 'distilbert-base-uncased':\n",
    "    # training parameters: https://huggingface.co/lvwerra/distilbert-imdb\n",
    "    init_lr = 5e-05\n",
    "    min_lr_ratio = 0\n",
    "    batch_size = 16\n",
    "    num_warmup_steps = 0\n",
    "    num_train_steps = int(np.ceil(len(x_train) / batch_size)) \n",
    "    power = 1.0\n",
    "    \n",
    "else:\n",
    "    raise ValueError('Unknown model name.')"
   ]
  },
  {
   "cell_type": "markdown",
   "metadata": {},
   "source": [
    "Decoding each sentence in the **Keras IMDB** tokenized dataset to obtain the corresponding plain text. The dataset is already in a pretty good shape, so we don't need to do extra preprocessing. The only thing that we do is to replace the unknown tokens with the appropriate tokenizer's unknown token (i.e., `[UNK]`)"
   ]
  },
  {
   "cell_type": "code",
   "execution_count": 18,
   "metadata": {},
   "outputs": [],
   "source": [
    "X_train, X_test = [], []\n",
    "\n",
    "# decode training sentences\n",
    "for i in range(len(x_train)):\n",
    "    tr_sentence = decode_sentence(x_train[i], reverse_index, unk_token=tokenizer.unk_token)\n",
    "    X_train.append(tr_sentence)\n",
    "\n",
    "# decode testing sentences\n",
    "for i in range(len(x_test)):\n",
    "    te_sentence = decode_sentence(x_test[i], reverse_index, unk_token=tokenizer.unk_token)\n",
    "    X_test.append(te_sentence)"
   ]
  },
  {
   "cell_type": "markdown",
   "metadata": {},
   "source": [
    "Retokenizing the plain text using the **(distil)BERT** tokenizer."
   ]
  },
  {
   "cell_type": "code",
   "execution_count": 19,
   "metadata": {},
   "outputs": [],
   "source": [
    "# tokenize datasets\n",
    "X_train = process_sentences(X_train, tokenizer, max_len)\n",
    "X_test = process_sentences(X_test, tokenizer, max_len)"
   ]
  },
  {
   "cell_type": "markdown",
   "metadata": {},
   "source": [
    "Construct the Tensorflow datasets for training and testing."
   ]
  },
  {
   "cell_type": "code",
   "execution_count": 20,
   "metadata": {},
   "outputs": [],
   "source": [
    "train_ds = tf.data.Dataset.from_tensor_slices(((*X_train.values() ,), y_train))\n",
    "train_ds = train_ds.shuffle(1024).batch(batch_size).repeat()\n",
    "\n",
    "test_ds = tf.data.Dataset.from_tensor_slices(((*X_test.values(), ), y_test))\n",
    "test_ds = test_ds.batch(batch_size)"
   ]
  },
  {
   "cell_type": "markdown",
   "metadata": {},
   "source": [
    "### Train model"
   ]
  },
  {
   "cell_type": "markdown",
   "metadata": {},
   "source": [
    "Here we train a classification model by leveraging the pretrained **(distil)BERT** transformer."
   ]
  },
  {
   "cell_type": "code",
   "execution_count": 21,
   "metadata": {},
   "outputs": [
    {
     "name": "stdout",
     "output_type": "stream",
     "text": [
      "1563/1563 [==============================] - 461s 293ms/step - loss: 0.2759 - sparse_categorical_accuracy: 0.8832 - val_loss: 0.2145 - val_sparse_categorical_accuracy: 0.9130\n"
     ]
    }
   ],
   "source": [
    "filepath = './model_transformers/'  # change to desired save directory\n",
    "checkpoint_path = os.path.join(filepath, model_name)\n",
    "load_model = False\n",
    "\n",
    "# define linear learning schedules\n",
    "lr_schedule = tf.keras.optimizers.schedules.PolynomialDecay(\n",
    "    initial_learning_rate=init_lr,\n",
    "    decay_steps=num_train_steps - num_warmup_steps,\n",
    "    end_learning_rate=init_lr * min_lr_ratio,\n",
    "    power=power,\n",
    ")\n",
    "\n",
    "# include learning rate warmup\n",
    "if num_warmup_steps:\n",
    "    lr_schedule = WarmUp(\n",
    "        initial_learning_rate=init_lr,\n",
    "        decay_schedule_fn=lr_schedule,\n",
    "        warmup_steps=num_warmup_steps,\n",
    "    )\n",
    "\n",
    "# compile the model\n",
    "model.compile(\n",
    "    optimizer=tf.keras.optimizers.Adam(learning_rate=lr_schedule, beta_1=0.9, beta_2=0.999, epsilon=1e-08),\n",
    "    loss=tf.keras.losses.SparseCategoricalCrossentropy(from_logits=True),\n",
    "    metrics=tf.metrics.SparseCategoricalAccuracy(),\n",
    ")\n",
    "\n",
    "if not load_model:\n",
    "    # fit the model\n",
    "    model.fit(x=train_ds, validation_data=test_ds, steps_per_epoch=num_train_steps)\n",
    "    model.save_pretrained(checkpoint_path)\n",
    "else:\n",
    "    # load the model\n",
    "    model.from_pretrained(checkpoint_path)\n",
    "    model.evaluate(test_ds)"
   ]
  },
  {
   "cell_type": "code",
   "execution_count": 22,
   "metadata": {},
   "outputs": [],
   "source": [
    "# wrap the finetuned model\n",
    "auto_model = AutoModelWrapper(model)"
   ]
  },
  {
   "cell_type": "markdown",
   "metadata": {},
   "source": [
    "### Calculate integrated gradients"
   ]
  },
  {
   "cell_type": "markdown",
   "metadata": {},
   "source": [
    "We pick the first 10 sentences from the test set as examples. You can easily add some of your text here too, as we exemplify it."
   ]
  },
  {
   "cell_type": "code",
   "execution_count": 23,
   "metadata": {},
   "outputs": [],
   "source": [
    "# include IMDB reviews from the test dataset\n",
    "text_samples = [decode_sentence(x_test[i], reverse_index, unk_token=tokenizer.unk_token) for i in range(10)]\n",
    "\n",
    "# inlcude your text here\n",
    "text_samples.append(\"best movie i've ever seen nothing bad to say about it\")\n",
    "\n",
    "# process input before passing it to the explainer\n",
    "X_test, kwargs = process_input(sentence=text_samples,\n",
    "                               tokenizer=tokenizer,\n",
    "                               max_len=max_len)"
   ]
  },
  {
   "cell_type": "markdown",
   "metadata": {},
   "source": [
    "We calculate the attributions with respect to the first embedding layer of the **(distil)BERT**. You can choose any other layer."
   ]
  },
  {
   "cell_type": "code",
   "execution_count": 24,
   "metadata": {},
   "outputs": [],
   "source": [
    "layer = auto_model.layers[0].layers[0].embeddings\n",
    "# layer = auto_model.layers[0].layers[0].transformer.layer[0]"
   ]
  },
  {
   "cell_type": "code",
   "execution_count": 25,
   "metadata": {},
   "outputs": [],
   "source": [
    "n_steps = 50\n",
    "method = \"gausslegendre\"\n",
    "internal_batch_size = 5\n",
    "\n",
    "# define Integrated Gradients explainer\n",
    "ig  = IntegratedGradients(auto_model,\n",
    "                          layer=layer,\n",
    "                          n_steps=n_steps, \n",
    "                          method=method,\n",
    "                          internal_batch_size=internal_batch_size)"
   ]
  },
  {
   "cell_type": "code",
   "execution_count": 26,
   "metadata": {
    "scrolled": true
   },
   "outputs": [],
   "source": [
    "# compute model's prediction and construct baselines\n",
    "predictions = auto_model(X_test, **kwargs).numpy().argmax(axis=1)\n",
    "\n",
    "# construct the baseline as before\n",
    "mask = np.isin(X_test, tokenizer.all_special_ids)\n",
    "baselines = X_test * mask + tokenizer.pad_token_id * (1 - mask)\n",
    "\n",
    "# get explanation\n",
    "explanation = ig.explain(X_test, \n",
    "                         forward_kwargs=kwargs,\n",
    "                         baselines=baselines, \n",
    "                         target=predictions)"
   ]
  },
  {
   "cell_type": "code",
   "execution_count": 27,
   "metadata": {},
   "outputs": [
    {
     "name": "stdout",
     "output_type": "stream",
     "text": [
      "Attributions shape: (11, 256, 768)\n"
     ]
    }
   ],
   "source": [
    "# Get attributions values from the explanation object\n",
    "attrs = explanation.attributions[0]\n",
    "print('Attributions shape:', attrs.shape)"
   ]
  },
  {
   "cell_type": "code",
   "execution_count": 28,
   "metadata": {},
   "outputs": [
    {
     "name": "stdout",
     "output_type": "stream",
     "text": [
      "Attributions shape: (11, 256)\n"
     ]
    }
   ],
   "source": [
    "attrs = attrs.sum(axis=2)\n",
    "print('Attributions shape:', attrs.shape)"
   ]
  },
  {
   "cell_type": "markdown",
   "metadata": {},
   "source": [
    "### Check attributions for our example"
   ]
  },
  {
   "cell_type": "code",
   "execution_count": 29,
   "metadata": {},
   "outputs": [
    {
     "name": "stdout",
     "output_type": "stream",
     "text": [
      "Predicted label =  1: Positive review\n"
     ]
    },
    {
     "data": {
      "text/html": [
       "<mark style=background-color:#f7f7f6>[CLS] </mark><mark style=background-color:#276419>best </mark><mark style=background-color:#d2ecb0>movie </mark><mark style=background-color:#f1f6ea>i </mark><mark style=background-color:#f1f6e8>' </mark><mark style=background-color:#eff6e5>ve </mark><mark style=background-color:#cbe9a4>ever </mark><mark style=background-color:#e8f5d5>seen </mark><mark style=background-color:#f6c7e3>nothing </mark><mark style=background-color:#fbe6f1>bad </mark><mark style=background-color:#f9eef4>to </mark><mark style=background-color:#eff6e5>say </mark><mark style=background-color:#f8f2f5>about </mark><mark style=background-color:#edf6e1>it </mark><mark style=background-color:#f7f7f6>[SEP] </mark>"
      ],
      "text/plain": [
       "<IPython.core.display.HTML object>"
      ]
     },
     "execution_count": 29,
     "metadata": {},
     "output_type": "execute_result"
    }
   ],
   "source": [
    "index = -1\n",
    "display(X=X_test[index], attrs=attrs[index], pred=predictions[index], tokenizer=tokenizer)"
   ]
  },
  {
   "cell_type": "markdown",
   "metadata": {},
   "source": [
    "### Check attribution for some test examples"
   ]
  },
  {
   "cell_type": "code",
   "execution_count": 30,
   "metadata": {},
   "outputs": [
    {
     "name": "stdout",
     "output_type": "stream",
     "text": [
      "Predicted label =  0: Negative review\n"
     ]
    },
    {
     "data": {
      "text/html": [
       "<mark style=background-color:#f7f7f6>[CLS] </mark><mark style=background-color:#cfebaa>please </mark><mark style=background-color:#d9f0bc>give </mark><mark style=background-color:#d2ecb0>this </mark><mark style=background-color:#ecf6de>one </mark><mark style=background-color:#d4edb3>a </mark><mark style=background-color:#b2dd7f>miss </mark><mark style=background-color:#edf6e1>br </mark><mark style=background-color:#eff6e5>br </mark><mark style=background-color:#f7f7f6>[UNK] </mark><mark style=background-color:#f7f7f6>[UNK] </mark><mark style=background-color:#f9f0f5>and </mark><mark style=background-color:#edf6df>the </mark><mark style=background-color:#cbe9a4>rest </mark><mark style=background-color:#e9f5d8>of </mark><mark style=background-color:#f6f7f5>the </mark><mark style=background-color:#d4edb3>cast </mark><mark style=background-color:#cfebaa>rendered </mark><mark style=background-color:#276419>terrible </mark><mark style=background-color:#f1f6ea>performances </mark><mark style=background-color:#ebf6dc>the </mark><mark style=background-color:#eff6e4>show </mark><mark style=background-color:#d4edb3>is </mark><mark style=background-color:#77b53c>flat </mark><mark style=background-color:#a9d874>flat </mark><mark style=background-color:#acd977>flat </mark><mark style=background-color:#c2e596>br </mark><mark style=background-color:#e6f5d0>br </mark><mark style=background-color:#f0f6e7>i </mark><mark style=background-color:#cfebaa>don </mark><mark style=background-color:#dff2c4>' </mark><mark style=background-color:#cfebaa>t </mark><mark style=background-color:#e2f3ca>know </mark><mark style=background-color:#e2f3ca>how </mark><mark style=background-color:#f2f6ec>michael </mark><mark style=background-color:#f7f6f7>madison </mark><mark style=background-color:#acd977>could </mark><mark style=background-color:#c9e8a2>have </mark><mark style=background-color:#d0ecad>allowed </mark><mark style=background-color:#dbf0bf>this </mark><mark style=background-color:#ebf6dc>one </mark><mark style=background-color:#ecf6de>on </mark><mark style=background-color:#ecf6de>his </mark><mark style=background-color:#ebf6db>plate </mark><mark style=background-color:#e7f5d3>he </mark><mark style=background-color:#d0ecad>almost </mark><mark style=background-color:#95cb5c>seemed </mark><mark style=background-color:#b2dd7f>to </mark><mark style=background-color:#e7f5d2>know </mark><mark style=background-color:#d4edb3>this </mark><mark style=background-color:#acd977>wasn </mark><mark style=background-color:#c4e699>' </mark><mark style=background-color:#d6eeb6>t </mark><mark style=background-color:#e7f5d2>going </mark><mark style=background-color:#d0ecad>to </mark><mark style=background-color:#e7f5d2>work </mark><mark style=background-color:#a7d672>out </mark><mark style=background-color:#f5f7f3>and </mark><mark style=background-color:#f9f1f5>his </mark><mark style=background-color:#b9e187>performance </mark><mark style=background-color:#a9d874>was </mark><mark style=background-color:#f7f6f7>quite </mark><mark style=background-color:#f7f7f6>[UNK] </mark><mark style=background-color:#bbe28a>so </mark><mark style=background-color:#edf6df>all </mark><mark style=background-color:#ecf6de>you </mark><mark style=background-color:#f7f6f7>madison </mark><mark style=background-color:#f5f7f2>fans </mark><mark style=background-color:#ddf1c1>give </mark><mark style=background-color:#e4f4cd>this </mark><mark style=background-color:#dff2c4>a </mark><mark style=background-color:#9ccf64>miss </mark><mark style=background-color:#f7f7f6>[SEP] </mark>"
      ],
      "text/plain": [
       "<IPython.core.display.HTML object>"
      ]
     },
     "execution_count": 30,
     "metadata": {},
     "output_type": "execute_result"
    }
   ],
   "source": [
    "index = 0\n",
    "display(X=X_test[index], attrs=attrs[index], pred=predictions[index], tokenizer=tokenizer)"
   ]
  },
  {
   "cell_type": "code",
   "execution_count": 31,
   "metadata": {},
   "outputs": [
    {
     "name": "stdout",
     "output_type": "stream",
     "text": [
      "Predicted label =  1: Positive review\n"
     ]
    },
    {
     "data": {
      "text/html": [
       "<mark style=background-color:#f7f7f6>[CLS] </mark><mark style=background-color:#ebf6db>this </mark><mark style=background-color:#e4f4cd>film </mark><mark style=background-color:#f9f0f5>requires </mark><mark style=background-color:#ebf6db>a </mark><mark style=background-color:#f9f0f5>lot </mark><mark style=background-color:#f1f6ea>of </mark><mark style=background-color:#f1f6e8>patience </mark><mark style=background-color:#e6f5d0>because </mark><mark style=background-color:#e7f5d2>it </mark><mark style=background-color:#e7f5d2>focuses </mark><mark style=background-color:#ebf6dc>on </mark><mark style=background-color:#e7f5d3>mood </mark><mark style=background-color:#d2ecb0>and </mark><mark style=background-color:#d6eeb6>character </mark><mark style=background-color:#d8efb9>development </mark><mark style=background-color:#f7f7f6>the </mark><mark style=background-color:#d2ecb0>plot </mark><mark style=background-color:#468a20>is </mark><mark style=background-color:#4e9322>very </mark><mark style=background-color:#276419>simple </mark><mark style=background-color:#acd977>and </mark><mark style=background-color:#e7f5d3>many </mark><mark style=background-color:#cbe9a4>of </mark><mark style=background-color:#e7f5d3>the </mark><mark style=background-color:#c9e8a2>scenes </mark><mark style=background-color:#f3f7ef>take </mark><mark style=background-color:#f1f6ea>place </mark><mark style=background-color:#e1f3c7>on </mark><mark style=background-color:#eaf5d9>the </mark><mark style=background-color:#faedf3>same </mark><mark style=background-color:#eef6e2>set </mark><mark style=background-color:#e1f3c7>in </mark><mark style=background-color:#eef6e2>frances </mark><mark style=background-color:#f7f7f6>[UNK] </mark><mark style=background-color:#ecf6de>the </mark><mark style=background-color:#edf6df>sandy </mark><mark style=background-color:#f3f6ed>dennis </mark><mark style=background-color:#ebf6db>character </mark><mark style=background-color:#f9f0f5>apartment </mark><mark style=background-color:#eaf5d9>but </mark><mark style=background-color:#eff6e4>the </mark><mark style=background-color:#eff6e4>film </mark><mark style=background-color:#f0f6e7>builds </mark><mark style=background-color:#f8f4f6>to </mark><mark style=background-color:#ebf6db>a </mark><mark style=background-color:#f5f7f2>disturbing </mark><mark style=background-color:#d8efb9>climax </mark><mark style=background-color:#f5f7f3>br </mark><mark style=background-color:#f3f7ef>br </mark><mark style=background-color:#e9f5d6>the </mark><mark style=background-color:#c7e89f>characters </mark><mark style=background-color:#ecf6de>create </mark><mark style=background-color:#d9f0bc>an </mark><mark style=background-color:#bee490>atmosphere </mark><mark style=background-color:#f7f7f6>[UNK] </mark><mark style=background-color:#c4e699>with </mark><mark style=background-color:#fce4f0>sexual </mark><mark style=background-color:#40831e>tension </mark><mark style=background-color:#e9f5d8>and </mark><mark style=background-color:#e2f3ca>psychological </mark><mark style=background-color:#f7f7f6>[UNK] </mark><mark style=background-color:#edf6df>it </mark><mark style=background-color:#f3f7ef>' </mark><mark style=background-color:#f4f7f0>s </mark><mark style=background-color:#ebf6db>very </mark><mark style=background-color:#ebf6db>interesting </mark><mark style=background-color:#f9f1f5>that </mark><mark style=background-color:#dff2c4>robert </mark><mark style=background-color:#f2f6ec>alt </mark><mark style=background-color:#e8f5d5>##man </mark><mark style=background-color:#fce5f1>directed </mark><mark style=background-color:#f8f4f6>this </mark><mark style=background-color:#f8f2f5>considering </mark><mark style=background-color:#edf6e1>the </mark><mark style=background-color:#dff2c4>style </mark><mark style=background-color:#e7f5d3>and </mark><mark style=background-color:#eff6e5>structure </mark><mark style=background-color:#faecf3>of </mark><mark style=background-color:#e1f3c7>his </mark><mark style=background-color:#f4f7f0>other </mark><mark style=background-color:#f1f6e8>films </mark><mark style=background-color:#f6f7f5>still </mark><mark style=background-color:#edf6e1>the </mark><mark style=background-color:#faebf3>trademark </mark><mark style=background-color:#f5f7f3>alt </mark><mark style=background-color:#f1f6e8>##man </mark><mark style=background-color:#f9eef4>audio </mark><mark style=background-color:#e9f5d8>style </mark><mark style=background-color:#f7f7f6>is </mark><mark style=background-color:#eff6e5>evident </mark><mark style=background-color:#f3f6ed>here </mark><mark style=background-color:#f0f6e7>and </mark><mark style=background-color:#f6f7f5>there </mark><mark style=background-color:#f4f7f0>i </mark><mark style=background-color:#f7f7f7>think </mark><mark style=background-color:#f9f1f5>what </mark><mark style=background-color:#f8f4f6>really </mark><mark style=background-color:#f8f2f5>makes </mark><mark style=background-color:#f8f5f6>this </mark><mark style=background-color:#edf6df>film </mark><mark style=background-color:#f0f6e7>work </mark><mark style=background-color:#f5f7f3>is </mark><mark style=background-color:#f5f7f3>the </mark><mark style=background-color:#93c959>brilliant </mark><mark style=background-color:#ebf6dc>performance </mark><mark style=background-color:#f5f7f3>by </mark><mark style=background-color:#eef6e2>sandy </mark><mark style=background-color:#eef6e2>dennis </mark><mark style=background-color:#f1f6ea>it </mark><mark style=background-color:#ebf6dc>' </mark><mark style=background-color:#e9f5d8>s </mark><mark style=background-color:#eef6e2>definitely </mark><mark style=background-color:#f7f6f7>one </mark><mark style=background-color:#f7f7f7>of </mark><mark style=background-color:#f3f6ed>her </mark><mark style=background-color:#eff6e4>darker </mark><mark style=background-color:#e7f5d3>characters </mark><mark style=background-color:#eff6e5>but </mark><mark style=background-color:#f6f7f5>she </mark><mark style=background-color:#e9f5d8>plays </mark><mark style=background-color:#f7f7f6>it </mark><mark style=background-color:#eff6e4>so </mark><mark style=background-color:#d6eeb6>perfectly </mark><mark style=background-color:#edf6e1>and </mark><mark style=background-color:#d0ecad>convincing </mark><mark style=background-color:#f8f4f6>##ly </mark><mark style=background-color:#f8f5f6>that </mark><mark style=background-color:#f9f0f5>it </mark><mark style=background-color:#ebf6dc>' </mark><mark style=background-color:#eaf5d9>s </mark><mark style=background-color:#f8f2f5>scary </mark><mark style=background-color:#ecf6de>michael </mark><mark style=background-color:#eef6e2>burns </mark><mark style=background-color:#f0f6e7>does </mark><mark style=background-color:#e7f5d3>a </mark><mark style=background-color:#dff2c4>good </mark><mark style=background-color:#f7f7f7>job </mark><mark style=background-color:#eaf5d9>as </mark><mark style=background-color:#ebf6db>the </mark><mark style=background-color:#f8f5f6>mute </mark><mark style=background-color:#ecf6de>young </mark><mark style=background-color:#f3f6ed>man </mark><mark style=background-color:#f8f3f6>regular </mark><mark style=background-color:#f2f6ec>alt </mark><mark style=background-color:#eff6e4>##man </mark><mark style=background-color:#f1f6ea>player </mark><mark style=background-color:#eaf5d9>michael </mark><mark style=background-color:#edf6df>murphy </mark><mark style=background-color:#eff6e5>has </mark><mark style=background-color:#f3f7ef>a </mark><mark style=background-color:#f7f7f7>small </mark><mark style=background-color:#f7f7f6>part </mark><mark style=background-color:#f8f4f6>the </mark><mark style=background-color:#f7f7f6>[UNK] </mark><mark style=background-color:#f1f6ea>moody </mark><mark style=background-color:#f1f6e8>set </mark><mark style=background-color:#f3f7ef>fits </mark><mark style=background-color:#eff6e4>the </mark><mark style=background-color:#f5f7f2>content </mark><mark style=background-color:#f8f5f6>of </mark><mark style=background-color:#f1f6e8>the </mark><mark style=background-color:#d2ecb0>story </mark><mark style=background-color:#83bf46>very </mark><mark style=background-color:#79b73d>well </mark><mark style=background-color:#e7f5d2>in </mark><mark style=background-color:#f3f7ef>short </mark><mark style=background-color:#e7f5d3>this </mark><mark style=background-color:#f1f6e8>movie </mark><mark style=background-color:#e1f3c7>is </mark><mark style=background-color:#b7e085>a </mark><mark style=background-color:#40831e>powerful </mark><mark style=background-color:#d0ecad>study </mark><mark style=background-color:#c2e596>of </mark><mark style=background-color:#e9f5d8>loneliness </mark><mark style=background-color:#f9eff4>sexual </mark><mark style=background-color:#f7f7f6>[UNK] </mark><mark style=background-color:#eff6e4>and </mark><mark style=background-color:#f7f7f7>desperation </mark><mark style=background-color:#f9eef4>be </mark><mark style=background-color:#f8f4f6>patient </mark><mark style=background-color:#f7f7f6>[UNK] </mark><mark style=background-color:#f9f0f5>up </mark><mark style=background-color:#f7f7f7>the </mark><mark style=background-color:#edf6e1>atmosphere </mark><mark style=background-color:#f8f5f6>and </mark><mark style=background-color:#fbe7f2>pay </mark><mark style=background-color:#f8f5f6>attention </mark><mark style=background-color:#faedf3>to </mark><mark style=background-color:#f9f1f5>the </mark><mark style=background-color:#8fc654>wonderful </mark><mark style=background-color:#f9eef4>##ly </mark><mark style=background-color:#edf6df>written </mark><mark style=background-color:#f8f2f5>script </mark><mark style=background-color:#f8f2f5>br </mark><mark style=background-color:#f8f4f6>br </mark><mark style=background-color:#f1f6ea>i </mark><mark style=background-color:#ebf6dc>praise </mark><mark style=background-color:#eff6e5>robert </mark><mark style=background-color:#f3f6ed>alt </mark><mark style=background-color:#eff6e5>##man </mark><mark style=background-color:#f8f3f6>this </mark><mark style=background-color:#f6f7f5>is </mark><mark style=background-color:#f7f7f7>one </mark><mark style=background-color:#f8f2f5>of </mark><mark style=background-color:#e4f4cd>his </mark><mark style=background-color:#e9f5d8>many </mark><mark style=background-color:#f4f7f0>films </mark><mark style=background-color:#fcdded>that </mark><mark style=background-color:#ecf6de>deals </mark><mark style=background-color:#faedf3>with </mark><mark style=background-color:#f5f7f3>unconventional </mark><mark style=background-color:#ecf6de>fascinating </mark><mark style=background-color:#f5f7f3>subject </mark><mark style=background-color:#f8f3f6>matter </mark><mark style=background-color:#fad6ea>this </mark><mark style=background-color:#f9eef4>film </mark><mark style=background-color:#f5c4e1>is </mark><mark style=background-color:#fbe9f2>disturbing </mark><mark style=background-color:#ebf6dc>but </mark><mark style=background-color:#f8f4f6>it </mark><mark style=background-color:#f2f6ec>' </mark><mark style=background-color:#f1f6ea>s </mark><mark style=background-color:#f3f7ef>sincere </mark><mark style=background-color:#f0f6e7>and </mark><mark style=background-color:#f8f3f6>it </mark><mark style=background-color:#f6f7f5>' </mark><mark style=background-color:#f3f6ed>s </mark><mark style=background-color:#f9eef4>sure </mark><mark style=background-color:#f9f1f5>to </mark><mark style=background-color:#f7f7f6>[UNK] </mark><mark style=background-color:#ecf6de>a </mark><mark style=background-color:#cdeaa7>strong </mark><mark style=background-color:#ddf1c1>emotional </mark><mark style=background-color:#f8f3f6>response </mark><mark style=background-color:#f4f7f0>from </mark><mark style=background-color:#f1f6ea>the </mark><mark style=background-color:#edf6e1>viewer </mark><mark style=background-color:#fbe6f1>if </mark><mark style=background-color:#f9eef4>you </mark><mark style=background-color:#fbd9ec>want </mark><mark style=background-color:#f9eef4>to </mark><mark style=background-color:#f1f6e8>see </mark><mark style=background-color:#f8f4f6>an </mark><mark style=background-color:#f1f6e8>unusual </mark><mark style=background-color:#f4f7f0>film </mark><mark style=background-color:#f7f7f6>some </mark><mark style=background-color:#fbe8f2>might </mark><mark style=background-color:#f7f7f7>even </mark><mark style=background-color:#f3f6ed>say </mark><mark style=background-color:#fce5f1>bizarre </mark><mark style=background-color:#f1f6ea>this </mark><mark style=background-color:#eff6e4>is </mark><mark style=background-color:#e7f5d3>worth </mark><mark style=background-color:#e7f5d3>the </mark><mark style=background-color:#f7f7f6>[SEP] </mark>"
      ],
      "text/plain": [
       "<IPython.core.display.HTML object>"
      ]
     },
     "execution_count": 31,
     "metadata": {},
     "output_type": "execute_result"
    }
   ],
   "source": [
    "index = 1\n",
    "display(X=X_test[index], attrs=attrs[index], pred=predictions[index], tokenizer=tokenizer)"
   ]
  }
 ],
 "metadata": {
  "kernelspec": {
   "display_name": "Python 3",
   "language": "python",
   "name": "python3"
  },
  "language_info": {
   "codemirror_mode": {
    "name": "ipython",
    "version": 3
   },
   "file_extension": ".py",
   "mimetype": "text/x-python",
   "name": "python",
   "nbconvert_exporter": "python",
   "pygments_lexer": "ipython3",
   "version": "3.8.5"
  }
 },
 "nbformat": 4,
 "nbformat_minor": 4
}
