{
 "cells": [
  {
   "cell_type": "markdown",
   "id": "27d8d654",
   "metadata": {},
   "source": [
    "# Permutation Importance for classification"
   ]
  },
  {
   "cell_type": "code",
   "execution_count": 1,
   "id": "f8b8f6d1",
   "metadata": {},
   "outputs": [],
   "source": [
    "import numpy as np\n",
    "from sklearn.linear_model import LogisticRegression\n",
    "from sklearn.datasets import make_classification\n",
    "from sklearn.model_selection import train_test_split\n",
    "from alibi.explainers.permutation_importance import PermutationImportance, plot_permutation_importance\n",
    "from sklearn.metrics import accuracy_score, f1_score\n",
    "\n",
    "%load_ext autoreload\n",
    "%autoreload 2"
   ]
  },
  {
   "cell_type": "code",
   "execution_count": 2,
   "id": "4b33080a",
   "metadata": {},
   "outputs": [],
   "source": [
    "X, y = make_classification(n_samples=1000, \n",
    "                           n_features=10, \n",
    "                           n_informative=3,\n",
    "                           n_redundant=0,\n",
    "                           n_clusters_per_class=1,\n",
    "                           class_sep=1.0,\n",
    "                           random_state=0)\n",
    "\n",
    "X_train, X_test, y_train, y_test = train_test_split(X, y, test_size=0.5)\n",
    "clf = LogisticRegression().fit(X_train, y_train)"
   ]
  },
  {
   "cell_type": "code",
   "execution_count": 3,
   "id": "87db7c52",
   "metadata": {},
   "outputs": [],
   "source": [
    "explainer = PermutationImportance(predictor=clf.predict, verbose=True)"
   ]
  },
  {
   "cell_type": "code",
   "execution_count": 4,
   "id": "db796272",
   "metadata": {},
   "outputs": [],
   "source": [
    "def score_accuracy(y_true, y_pred, sample_weight):\n",
    "    return accuracy_score(y_true=y_true, y_pred=y_pred, sample_weight=sample_weight)\n",
    "\n",
    "def loss_f1(y_true, y_pred, sample_weight):\n",
    "    return 1 - f1_score(y_true=y_true, y_pred=y_pred, sample_weight=sample_weight)"
   ]
  },
  {
   "cell_type": "code",
   "execution_count": 19,
   "id": "3970b499",
   "metadata": {},
   "outputs": [
    {
     "name": "stderr",
     "output_type": "stream",
     "text": [
      "100%|██████████| 10/10 [00:01<00:00,  9.63it/s]\n"
     ]
    }
   ],
   "source": [
    "exp = explainer.explain(X=X_test,\n",
    "                        y=y_test,\n",
    "                        loss_fns={'1-f1': loss_f1},\n",
    "                        score_fns={'accuracy': score_accuracy},\n",
    "                        n_repeats=100,\n",
    "                        method='estimate',\n",
    "                        kind='difference')"
   ]
  },
  {
   "cell_type": "code",
   "execution_count": 20,
   "id": "30781f8d",
   "metadata": {},
   "outputs": [
    {
     "data": {
      "text/plain": [
       "Explanation(meta={\n",
       "  'name': 'PermutationImportance',\n",
       "  'type': ['blackbox'],\n",
       "  'explanations': ['global'],\n",
       "  'params': {\n",
       "              'feature_names': ['f_0', 'f_1', 'f_2', 'f_3', 'f_4', 'f_5', 'f_6', 'f_7', 'f_8', 'f_9'],\n",
       "              'method': 'estimate',\n",
       "              'kind': 'difference',\n",
       "              'n_repeats': 100,\n",
       "              'sample_weight': None}\n",
       "            ,\n",
       "  'version': '0.8.1dev'}\n",
       ", data={\n",
       "  'feature_names': ['f_0', 'f_1', 'f_2', 'f_3', 'f_4', 'f_5', 'f_6', 'f_7', 'f_8', 'f_9'],\n",
       "  'loss_names': ['1-f1', 'accuracy'],\n",
       "  'feature_importance': [[{'mean': 0.12376320527559143, 'std': 0.014200512462690643}, {'mean': -6.035163556257106e-05, 'std': 0.00034317392663318067}, {'mean': -0.0007446639477408745, 'std': 0.0011248653842688679}, {'mean': 5.9860971858823885e-05, 'std': 0.000598897746643674}, {'mean': 0.0, 'std': 0.0}, {'mean': 0.5119092019444265, 'std': 0.03019430110130399}, {'mean': -0.0007041024148966623, 'std': 0.0009595298505460928}, {'mean': -0.0009862370547658716, 'std': 0.0012247434705931661}, {'mean': -4.0234423708380706e-05, 'std': 0.0002816409659586651}, {'mean': 0.16966582911128786, 'std': 0.015508692245843123}], [{'mean': 0.11568000000000002, 'std': 0.012938995324212787}, {'mean': -6.0000000000000056e-05, 'std': 0.00034117444218463984}, {'mean': -0.0007400000000000006, 'std': 0.0011191067866830235}, {'mean': 6.0000000000000056e-05, 'std': 0.0005969924622639724}, {'mean': 0.0, 'std': 0.0}, {'mean': 0.4918999999999999, 'std': 0.026638881357894915}, {'mean': -0.0007000000000000006, 'std': 0.0009539392014169466}, {'mean': -0.0009800000000000008, 'std': 0.0012163880959627984}, {'mean': -4.000000000000004e-05, 'std': 0.00028000000000000025}, {'mean': 0.15703999999999999, 'std': 0.014208391886487355}]]}\n",
       ")"
      ]
     },
     "execution_count": 20,
     "metadata": {},
     "output_type": "execute_result"
    }
   ],
   "source": [
    "exp"
   ]
  },
  {
   "cell_type": "code",
   "execution_count": 21,
   "id": "eadcec4e",
   "metadata": {},
   "outputs": [
    {
     "data": {
      "image/png": "[encoded data removed]",
      "text/plain": [
       "<Figure size 432x288 with 3 Axes>"
      ]
     },
     "metadata": {
      "needs_background": "light"
     },
     "output_type": "display_data"
    }
   ],
   "source": [
    "axes = plot_permutation_importance(exp=exp)"
   ]
  },
  {
   "cell_type": "code",
   "execution_count": null,
   "id": "1ade107b",
   "metadata": {},
   "outputs": [],
   "source": []
  }
 ],
 "metadata": {
  "kernelspec": {
   "display_name": "alibi",
   "language": "python",
   "name": "alibi"
  },
  "language_info": {
   "codemirror_mode": {
    "name": "ipython",
    "version": 3
   },
   "file_extension": ".py",
   "mimetype": "text/x-python",
   "name": "python",
   "nbconvert_exporter": "python",
   "pygments_lexer": "ipython3",
   "version": "3.8.13"
  }
 },
 "nbformat": 4,
 "nbformat_minor": 5
}
