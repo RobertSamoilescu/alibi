{
 "cells": [
  {
   "cell_type": "code",
   "execution_count": 1,
   "id": "dd1b97e0",
   "metadata": {},
   "outputs": [],
   "source": [
    "import numpy as np\n",
    "from sklearn.linear_model import LogisticRegression\n",
    "from sklearn.datasets import make_classification\n",
    "from sklearn.model_selection import train_test_split\n",
    "from alibi.explainers.permutation_importance import PermutationImportance, plot_permutation_importance\n",
    "from sklearn.metrics import accuracy_score, f1_score\n",
    "\n",
    "%load_ext autoreload\n",
    "%autoreload 2"
   ]
  },
  {
   "cell_type": "code",
   "execution_count": 2,
   "id": "ff163fa3",
   "metadata": {},
   "outputs": [],
   "source": [
    "X, y = make_classification(n_samples=1000, \n",
    "                           n_features=10, \n",
    "                           n_informative=3,\n",
    "                           n_redundant=0,\n",
    "                           n_clusters_per_class=1,\n",
    "                           class_sep=1.0,\n",
    "                           random_state=0)\n",
    "\n",
    "X_train, X_test, y_train, y_test = train_test_split(X, y, test_size=0.5)\n",
    "clf = LogisticRegression().fit(X_train, y_train)"
   ]
  },
  {
   "cell_type": "code",
   "execution_count": 3,
   "id": "4ec6cb54",
   "metadata": {},
   "outputs": [],
   "source": [
    "explainer = PermutationImportance(predictor=clf.predict, verbose=True)"
   ]
  },
  {
   "cell_type": "code",
   "execution_count": 4,
   "id": "ffb3a63a",
   "metadata": {},
   "outputs": [],
   "source": [
    "def accuracy(y_true, y_pred, sample_weight):\n",
    "    return 1 - accuracy_score(y_true=y_true, y_pred=y_pred, sample_weight=sample_weight)\n",
    "\n",
    "def f1(y_true, y_pred, sample_weight):\n",
    "    return 1 - f1_score(y_true=y_true, y_pred=y_pred, sample_weight=sample_weight)"
   ]
  },
  {
   "cell_type": "code",
   "execution_count": 5,
   "id": "883356d2",
   "metadata": {},
   "outputs": [
    {
     "name": "stderr",
     "output_type": "stream",
     "text": [
      "100%|██████████| 10/10 [00:00<00:00, 17.65it/s]\n"
     ]
    }
   ],
   "source": [
    "exp = explainer.explain(X=X_test,\n",
    "                        y=y_test,\n",
    "                        loss_fns={'accuracy': accuracy, \"f1\": f1},\n",
    "                        n_repeats=100,\n",
    "                        method='estimate',\n",
    "                        kind='ratio')"
   ]
  },
  {
   "cell_type": "code",
   "execution_count": 6,
   "id": "c825f893",
   "metadata": {},
   "outputs": [
    {
     "data": {
      "image/png": "[encoded data removed]",
      "text/plain": [
       "<Figure size 432x288 with 3 Axes>"
      ]
     },
     "metadata": {
      "needs_background": "light"
     },
     "output_type": "display_data"
    }
   ],
   "source": [
    "axes = plot_permutation_importance(exp=exp)"
   ]
  }
 ],
 "metadata": {
  "kernelspec": {
   "display_name": "alibi",
   "language": "python",
   "name": "alibi"
  },
  "language_info": {
   "codemirror_mode": {
    "name": "ipython",
    "version": 3
   },
   "file_extension": ".py",
   "mimetype": "text/x-python",
   "name": "python",
   "nbconvert_exporter": "python",
   "pygments_lexer": "ipython3",
   "version": "3.8.12"
  }
 },
 "nbformat": 4,
 "nbformat_minor": 5
}
