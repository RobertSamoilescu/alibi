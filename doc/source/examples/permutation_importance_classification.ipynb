{
 "cells": [
  {
   "cell_type": "markdown",
   "id": "27d8d654",
   "metadata": {},
   "source": [
    "# Permutation Importance for classification"
   ]
  },
  {
   "cell_type": "code",
   "execution_count": 1,
   "id": "f8b8f6d1",
   "metadata": {},
   "outputs": [],
   "source": [
    "import numpy as np\n",
    "from sklearn.linear_model import LogisticRegression\n",
    "from sklearn.datasets import make_classification\n",
    "from sklearn.model_selection import train_test_split\n",
    "from alibi.explainers.permutation_importance import PermutationImportance, plot_permutation_importance\n",
    "from sklearn.metrics import accuracy_score, f1_score\n",
    "\n",
    "%load_ext autoreload\n",
    "%autoreload 2"
   ]
  },
  {
   "cell_type": "code",
   "execution_count": 2,
   "id": "4b33080a",
   "metadata": {},
   "outputs": [],
   "source": [
    "X, y = make_classification(n_samples=1000, \n",
    "                           n_features=10, \n",
    "                           n_informative=3,\n",
    "                           n_redundant=0,\n",
    "                           n_clusters_per_class=1,\n",
    "                           class_sep=1.0,\n",
    "                           random_state=0)\n",
    "\n",
    "X_train, X_test, y_train, y_test = train_test_split(X, y, test_size=0.5)\n",
    "clf = LogisticRegression().fit(X_train, y_train)"
   ]
  },
  {
   "cell_type": "code",
   "execution_count": 3,
   "id": "87db7c52",
   "metadata": {},
   "outputs": [],
   "source": [
    "explainer = PermutationImportance(predictor=clf.predict, verbose=True)"
   ]
  },
  {
   "cell_type": "code",
   "execution_count": 4,
   "id": "db796272",
   "metadata": {},
   "outputs": [],
   "source": [
    "def score_accuracy(y_true, y_pred, sample_weight):\n",
    "    return accuracy_score(y_true=y_true, y_pred=y_pred, sample_weight=sample_weight)\n",
    "\n",
    "def loss_f1(y_true, y_pred, sample_weight):\n",
    "    return 1 - f1_score(y_true=y_true, y_pred=y_pred, sample_weight=sample_weight)"
   ]
  },
  {
   "cell_type": "code",
   "execution_count": 5,
   "id": "3970b499",
   "metadata": {},
   "outputs": [
    {
     "name": "stderr",
     "output_type": "stream",
     "text": [
      "100%|██████████| 10/10 [00:01<00:00,  9.37it/s]\n"
     ]
    },
    {
     "ename": "NameError",
     "evalue": "name 'loss_names' is not defined",
     "output_type": "error",
     "traceback": [
      "\u001b[0;31m---------------------------------------------------------------------------\u001b[0m",
      "\u001b[0;31mNameError\u001b[0m                                 Traceback (most recent call last)",
      "\u001b[0;32m<ipython-input-5-e4d5f4bfa26b>\u001b[0m in \u001b[0;36m<cell line: 1>\u001b[0;34m()\u001b[0m\n\u001b[0;32m----> 1\u001b[0;31m exp = explainer.explain(X=X_test,\n\u001b[0m\u001b[1;32m      2\u001b[0m                         \u001b[0my\u001b[0m\u001b[0;34m=\u001b[0m\u001b[0my_test\u001b[0m\u001b[0;34m,\u001b[0m\u001b[0;34m\u001b[0m\u001b[0;34m\u001b[0m\u001b[0m\n\u001b[1;32m      3\u001b[0m                         \u001b[0mloss_fns\u001b[0m\u001b[0;34m=\u001b[0m\u001b[0;34m{\u001b[0m\u001b[0;34m'1-f1'\u001b[0m\u001b[0;34m:\u001b[0m \u001b[0mloss_f1\u001b[0m\u001b[0;34m}\u001b[0m\u001b[0;34m,\u001b[0m\u001b[0;34m\u001b[0m\u001b[0;34m\u001b[0m\u001b[0m\n\u001b[1;32m      4\u001b[0m                         \u001b[0mscore_fns\u001b[0m\u001b[0;34m=\u001b[0m\u001b[0;34m{\u001b[0m\u001b[0;34m'accuracy'\u001b[0m\u001b[0;34m:\u001b[0m \u001b[0mscore_accuracy\u001b[0m\u001b[0;34m}\u001b[0m\u001b[0;34m,\u001b[0m\u001b[0;34m\u001b[0m\u001b[0;34m\u001b[0m\u001b[0m\n\u001b[1;32m      5\u001b[0m                         \u001b[0mn_repeats\u001b[0m\u001b[0;34m=\u001b[0m\u001b[0;36m100\u001b[0m\u001b[0;34m,\u001b[0m\u001b[0;34m\u001b[0m\u001b[0;34m\u001b[0m\u001b[0m\n",
      "\u001b[0;32m~/Desktop/seldon/alibi/alibi/explainers/permutation_importance.py\u001b[0m in \u001b[0;36mexplain\u001b[0;34m(self, X, y, loss_fns, score_fns, features, method, kind, n_repeats, sample_weight)\u001b[0m\n\u001b[1;32m    227\u001b[0m \u001b[0;34m\u001b[0m\u001b[0m\n\u001b[1;32m    228\u001b[0m         \u001b[0;31m# build and return the explanation object\u001b[0m\u001b[0;34m\u001b[0m\u001b[0;34m\u001b[0m\u001b[0;34m\u001b[0m\u001b[0m\n\u001b[0;32m--> 229\u001b[0;31m         return self._build_explanation(feature_names=feature_names,  # type: ignore[arg-type]\n\u001b[0m\u001b[1;32m    230\u001b[0m                                        individual_feature_importance=individual_feature_importance)\n\u001b[1;32m    231\u001b[0m \u001b[0;34m\u001b[0m\u001b[0m\n",
      "\u001b[0;32m~/Desktop/seldon/alibi/alibi/explainers/permutation_importance.py\u001b[0m in \u001b[0;36m_build_explanation\u001b[0;34m(self, feature_names, individual_feature_importance)\u001b[0m\n\u001b[1;32m    656\u001b[0m         \u001b[0mfeature_importance\u001b[0m\u001b[0;34m:\u001b[0m \u001b[0mList\u001b[0m\u001b[0;34m[\u001b[0m\u001b[0mList\u001b[0m\u001b[0;34m[\u001b[0m\u001b[0mUnion\u001b[0m\u001b[0;34m[\u001b[0m\u001b[0mfloat\u001b[0m\u001b[0;34m,\u001b[0m \u001b[0mDict\u001b[0m\u001b[0;34m[\u001b[0m\u001b[0mstr\u001b[0m\u001b[0;34m,\u001b[0m \u001b[0mfloat\u001b[0m\u001b[0;34m]\u001b[0m\u001b[0;34m]\u001b[0m\u001b[0;34m]\u001b[0m\u001b[0;34m]\u001b[0m \u001b[0;34m=\u001b[0m \u001b[0;34m[\u001b[0m\u001b[0;34m]\u001b[0m\u001b[0;34m\u001b[0m\u001b[0;34m\u001b[0m\u001b[0m\n\u001b[1;32m    657\u001b[0m \u001b[0;34m\u001b[0m\u001b[0m\n\u001b[0;32m--> 658\u001b[0;31m         \u001b[0;32mfor\u001b[0m \u001b[0mloss_name\u001b[0m \u001b[0;32min\u001b[0m \u001b[0mloss_names\u001b[0m\u001b[0;34m:\u001b[0m\u001b[0;34m\u001b[0m\u001b[0;34m\u001b[0m\u001b[0m\n\u001b[0m\u001b[1;32m    659\u001b[0m             \u001b[0mfeature_importance\u001b[0m\u001b[0;34m.\u001b[0m\u001b[0mappend\u001b[0m\u001b[0;34m(\u001b[0m\u001b[0;34m[\u001b[0m\u001b[0;34m]\u001b[0m\u001b[0;34m)\u001b[0m\u001b[0;34m\u001b[0m\u001b[0;34m\u001b[0m\u001b[0m\n\u001b[1;32m    660\u001b[0m \u001b[0;34m\u001b[0m\u001b[0m\n",
      "\u001b[0;31mNameError\u001b[0m: name 'loss_names' is not defined"
     ]
    }
   ],
   "source": [
    "exp = explainer.explain(X=X_test,\n",
    "                        y=y_test,\n",
    "                        loss_fns={'1-f1': loss_f1},\n",
    "                        score_fns={'accuracy': score_accuracy},\n",
    "                        n_repeats=100,\n",
    "                        method='estimate',\n",
    "                        kind='difference')"
   ]
  },
  {
   "cell_type": "code",
   "execution_count": null,
   "id": "8880ffac",
   "metadata": {},
   "outputs": [],
   "source": [
    "exp;"
   ]
  },
  {
   "cell_type": "code",
   "execution_count": null,
   "id": "eadcec4e",
   "metadata": {},
   "outputs": [],
   "source": [
    "axes = plot_permutation_importance(exp=exp)"
   ]
  },
  {
   "cell_type": "code",
   "execution_count": null,
   "id": "ae0f1b7a",
   "metadata": {},
   "outputs": [],
   "source": []
  },
  {
   "cell_type": "code",
   "execution_count": null,
   "id": "97b8448d",
   "metadata": {},
   "outputs": [],
   "source": []
  }
 ],
 "metadata": {
  "kernelspec": {
   "display_name": "alibi",
   "language": "python",
   "name": "alibi"
  },
  "language_info": {
   "codemirror_mode": {
    "name": "ipython",
    "version": 3
   },
   "file_extension": ".py",
   "mimetype": "text/x-python",
   "name": "python",
   "nbconvert_exporter": "python",
   "pygments_lexer": "ipython3",
   "version": "3.8.13"
  }
 },
 "nbformat": 4,
 "nbformat_minor": 5
}
