{
 "cells": [
  {
   "cell_type": "code",
   "execution_count": 146,
   "id": "a714d93f",
   "metadata": {},
   "outputs": [
    {
     "name": "stdout",
     "output_type": "stream",
     "text": [
      "The autoreload extension is already loaded. To reload it, use:\n",
      "  %reload_ext autoreload\n"
     ]
    }
   ],
   "source": [
    "import numpy as np\n",
    "from sklearn.linear_model import LogisticRegression\n",
    "from sklearn.datasets import make_classification\n",
    "from sklearn.model_selection import train_test_split\n",
    "from alibi.explainers.permutation_importance import PermutationImportance\n",
    "from sklearn.metrics import accuracy_score\n",
    "\n",
    "%load_ext autoreload\n",
    "%autoreload 2"
   ]
  },
  {
   "cell_type": "code",
   "execution_count": 147,
   "id": "b40e6886",
   "metadata": {},
   "outputs": [],
   "source": [
    "X, y = make_classification(n_samples=1000, \n",
    "                           n_features=3, \n",
    "                           n_informative=1,\n",
    "                           n_redundant=0,\n",
    "                           n_clusters_per_class=1)\n",
    "X_train, X_test, y_train, y_test = train_test_split(X, y, test_size=0.5)\n",
    "clf = LogisticRegression().fit(X_train, y_train)"
   ]
  },
  {
   "cell_type": "code",
   "execution_count": 148,
   "id": "84eb8964",
   "metadata": {},
   "outputs": [],
   "source": [
    "explainer = PermutationImportance(predictor=clf.predict, verbose=True)"
   ]
  },
  {
   "cell_type": "code",
   "execution_count": 161,
   "id": "1c3e4c8c",
   "metadata": {},
   "outputs": [],
   "source": [
    "def error(y_true, y_pred, sample_weight, *args, **kwargs):\n",
    "    return 1 - accuracy_score(y_true=y_true, y_pred=y_pred, sample_weight=sample_weight)"
   ]
  },
  {
   "cell_type": "code",
   "execution_count": 169,
   "id": "d93a51bd",
   "metadata": {},
   "outputs": [
    {
     "name": "stderr",
     "output_type": "stream",
     "text": [
      "100%|██████████| 3/3 [00:00<00:00, 30.00it/s]\n"
     ]
    }
   ],
   "source": [
    "exp = explainer.explain(X=X_test,\n",
    "                        y=y_test,\n",
    "                        loss_fns={'error': error},\n",
    "                        n_repeats=100,\n",
    "                        method='estimate')"
   ]
  },
  {
   "cell_type": "code",
   "execution_count": 170,
   "id": "51bfde2e",
   "metadata": {},
   "outputs": [
    {
     "data": {
      "text/plain": [
       "[{'error': {'mean': 1.0, 'std': 0.0}},\n",
       " {'error': {'mean': 82.21333333333325, 'std': 5.0984790760469805}},\n",
       " {'error': {'mean': 1.0, 'std': 0.0}}]"
      ]
     },
     "execution_count": 170,
     "metadata": {},
     "output_type": "execute_result"
    }
   ],
   "source": [
    "exp"
   ]
  },
  {
   "cell_type": "code",
   "execution_count": 125,
   "id": "eec67852",
   "metadata": {},
   "outputs": [
    {
     "name": "stdout",
     "output_type": "stream",
     "text": [
      "[[2 7 6]\n",
      " [5 0 1]\n",
      " [2 7 8]\n",
      " [1 5 9]\n",
      " [2 5 6]]\n",
      "=============\n",
      "[[2 7 6]\n",
      " [5 5 1]\n",
      " [2 7 8]\n",
      " [1 0 9]\n",
      " [2 5 6]]\n"
     ]
    }
   ],
   "source": [
    "X = np.random.randint(0, 10, (5, 3))\n",
    "feature = 1\n",
    "print(X)\n",
    "\n",
    "\n",
    "N = len(X)\n",
    "start, middle, end = 0, N // 2, N if N % 2 == 0 else N - 1\n",
    "fh, sh = np.s_[start:middle], np.s_[middle:end]\n",
    "\n",
    "fvals_tmp = X[fh, feature].copy()\n",
    "X[fh, feature] = X[sh, feature]\n",
    "X[sh, feature] = fvals_tmp\n",
    "\n",
    "print(\"=============\")\n",
    "print(X)"
   ]
  },
  {
   "cell_type": "code",
   "execution_count": 92,
   "id": "6dee32cf",
   "metadata": {},
   "outputs": [],
   "source": [
    "X1, X2, y1, y2 = train_test_split(X, y, train_size=100, test_size=100, random_state=0, shuffle=True)"
   ]
  },
  {
   "cell_type": "code",
   "execution_count": 90,
   "id": "06c70afb",
   "metadata": {},
   "outputs": [
    {
     "data": {
      "text/plain": [
       "((100, 3), (100, 3))"
      ]
     },
     "execution_count": 90,
     "metadata": {},
     "output_type": "execute_result"
    }
   ],
   "source": [
    "X1.shape, X2.shape"
   ]
  },
  {
   "cell_type": "code",
   "execution_count": null,
   "id": "e2b00a32",
   "metadata": {},
   "outputs": [],
   "source": []
  }
 ],
 "metadata": {
  "kernelspec": {
   "display_name": "alibi",
   "language": "python",
   "name": "alibi"
  },
  "language_info": {
   "codemirror_mode": {
    "name": "ipython",
    "version": 3
   },
   "file_extension": ".py",
   "mimetype": "text/x-python",
   "name": "python",
   "nbconvert_exporter": "python",
   "pygments_lexer": "ipython3",
   "version": "3.8.13"
  }
 },
 "nbformat": 4,
 "nbformat_minor": 5
}
