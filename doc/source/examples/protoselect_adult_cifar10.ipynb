{
 "cells": [
  {
   "cell_type": "markdown",
   "id": "860fc549",
   "metadata": {},
   "source": [
    "# ProtoSelect on Adult Census and CIFAR10"
   ]
  },
  {
   "cell_type": "markdown",
   "id": "b58f0f0c",
   "metadata": {},
   "source": [
    "[Bien and Tibshirani (2012)](https://arxiv.org/abs/1202.5933) proposed ProtoSelect, which is a prototype selection method with the goal of constructing not only a condensed view of dataset but also on an interpretable model (applicable to classification only). Prototypes can be defined as instances that are representative of the entire reference data distribution. Formally, consider a dataset of training points $\\mathcal{X} = \\{x_1, ..., x_n \\} \\subset \\mathbf{R}^p$ and their corresponding labels $\\mathcal{Y} = \\{y_1, ..., y_n\\}$, where $y_i \\in \\{1, 2, ..., L\\}$. ProtoSelect finds sets $\\mathcal{P}_{l} \\subseteq \\mathcal{X}$ for each class $l$ such that the set union of $\\mathcal{P}_1, \\mathcal{P}_2, ..., \\mathcal{P}_L$ would provided a distilled view of the reference dataset $(\\mathcal{X}, \\mathcal{Y})$.\n",
    "\n",
    "\n",
    "Given the sets of prototypes, one can construct a simple interpretable classifier given by:\n",
    "$$\n",
    "    \\hat{c}(x) = \\underset{l}{\\operatorname{argmin}} \\min_{z \\in \\mathcal{P}_l} d(x, z)\n",
    "$$\n",
    "\n",
    "Note that the classifier defined in the equation above would be equivalent to 1-KNN if each set $\\mathcal{P}_l$ would consist only of instances belonging to class $l$.\n"
   ]
  },
  {
   "cell_type": "code",
   "execution_count": 1,
   "id": "e9216c63",
   "metadata": {},
   "outputs": [],
   "source": [
    "import numpy as np\n",
    "import pandas as pd\n",
    "from typing import List, Dict\n",
    "\n",
    "import tensorflow as tf\n",
    "import tensorflow.keras as keras\n",
    "import tensorflow.keras.layers as layers\n",
    "\n",
    "from sklearn.compose import ColumnTransformer\n",
    "from sklearn.model_selection import train_test_split\n",
    "from sklearn.preprocessing import StandardScaler, OneHotEncoder\n",
    "from sklearn.neighbors import KNeighborsClassifier\n",
    "\n",
    "from alibi.datasets import fetch_adult\n",
    "from alibi.prototypes import ProtoSelect, visualize_image_prototypes\n",
    "from alibi.utils.kernel import EuclideanDistance\n",
    "from alibi.prototypes.protoselect import cv_protoselect_euclidean"
   ]
  },
  {
   "cell_type": "markdown",
   "id": "8a9aa55b",
   "metadata": {},
   "source": [
    "## Adult Census dataset"
   ]
  },
  {
   "cell_type": "markdown",
   "id": "3fbcf73c",
   "metadata": {},
   "source": [
    "### Utils\n",
    "\n",
    "Utility function to display the tabular data in a human-readable format."
   ]
  },
  {
   "cell_type": "code",
   "execution_count": 2,
   "id": "f0e972b1",
   "metadata": {},
   "outputs": [],
   "source": [
    "def display_table(X: np.ndarray, \n",
    "                  y: np.ndarray, \n",
    "                  feature_names: List[str],\n",
    "                  category_map: Dict[int, List[str]],\n",
    "                  target_names: List[str]) -> pd.DataFrame:\n",
    "    \"\"\"\n",
    "    Displays the table in a human readable format.\n",
    "    \n",
    "    Parameters\n",
    "    ----------\n",
    "    X\n",
    "        Array of data instances to be displayed.\n",
    "    y\n",
    "        Array of data labels.\n",
    "    feature_names\n",
    "        List of feature names.\n",
    "    category_map\n",
    "        Category mapping dictionary having as keys the categorical index and as values the categorical values#\n",
    "        each feature takes.\n",
    "    target_names\n",
    "        List of label names.\n",
    "    \n",
    "    Return\n",
    "    ------\n",
    "    DataFrame containing the concatenation of X and Y in a human readable format.\n",
    "    \"\"\"\n",
    "    # concat labels to the original instances.\n",
    "    orig = np.concatenate([X, y.reshape(-1, 1)], axis=1)\n",
    "\n",
    "    # define new feature names and category map by including the label.\n",
    "    feature_names = feature_names + [\"Label\"]\n",
    "    category_map.update({feature_names.index(\"Label\"): [target_names[i] for i in np.unique(y)]})\n",
    "\n",
    "    # replace label encodings with strings\n",
    "    df = pd.DataFrame(orig, columns=feature_names)\n",
    "    for key in category_map:\n",
    "        df[feature_names[key]].replace(range(len(category_map[key])), category_map[key], inplace=True)\n",
    "    \n",
    "    dfs = []\n",
    "    for l in np.unique(y):\n",
    "        dfs.append(df[df['Label'] == target_names[l]])\n",
    "        \n",
    "    return pd.concat(dfs)"
   ]
  },
  {
   "cell_type": "markdown",
   "id": "ee8bc88c",
   "metadata": {},
   "source": [
    "### Load Adult Census dataset\n",
    "\n",
    "Fetch the *Adult Census* dataset and perform train-test-validation split. In this example, for demonstrative purposes, each split contains only 1000. One can increase the number of instances in each set but should be aware of the memory limitation since the kernel matrix used for prototype selection is precomputed and stored in memory."
   ]
  },
  {
   "cell_type": "code",
   "execution_count": 3,
   "id": "7dc95ffc",
   "metadata": {},
   "outputs": [],
   "source": [
    "# fetch adult datasets\n",
    "adult = fetch_adult()\n",
    "\n",
    "# split dataset into train-test-validation\n",
    "X, y = adult.data, adult.target\n",
    "X_train, X_test, y_train, y_test = train_test_split(X, y, train_size=1000, test_size=2000, random_state=13)\n",
    "X_test, X_val, y_test, y_val = train_test_split(X_test, y_test, test_size=0.5, random_state=13)\n",
    "\n",
    "# identify numerical and categorical columns\n",
    "categorical_ids = list(adult.category_map.keys())\n",
    "numerical_ids = [i for i in range(len(adult.feature_names)) if i not in adult.category_map]"
   ]
  },
  {
   "cell_type": "markdown",
   "id": "32c3f91e",
   "metadata": {},
   "source": [
    "### Preprocessing function\n",
    "\n",
    "Because the tabular dataset has low dimensionality, we can use a simple preprocessing function: numerical features are standardized and categorical features are one-hot encoded. The kernel dissimilarity used for prototype selection will operate on the preprocessed representation."
   ]
  },
  {
   "cell_type": "code",
   "execution_count": 4,
   "id": "137cb989",
   "metadata": {},
   "outputs": [],
   "source": [
    "# define data preprocessor\n",
    "num_transf = StandardScaler()\n",
    "cat_transf = OneHotEncoder(\n",
    "    categories=[range(len(x)) for x in adult.category_map.values()],\n",
    "    handle_unknown='ignore'\n",
    ")\n",
    "preprocessor = ColumnTransformer(\n",
    "    transformers=[\n",
    "        ('cat', cat_transf, categorical_ids),\n",
    "        ('num', num_transf, numerical_ids)\n",
    "    ],\n",
    "    sparse_threshold=0\n",
    ")\n",
    "\n",
    "# fit data preprocessor\n",
    "preprocessor = preprocessor.fit(adult.data)"
   ]
  },
  {
   "cell_type": "markdown",
   "id": "b9265a36",
   "metadata": {},
   "source": [
    "### Prototypes selection\n",
    "\n",
    "As with every kernel-based method, the performance of **ProtoSelect** is sensitive to the kernel selection and a predefined $\\epsilon$-radius which characterizes the neighborhood of an instance $x$ as a hyper-sphere of radius $\\epsilon$ centered in $x$ denoted as $B(x_i, \\epsilon)$. Note that other kernel dissimilarities might require some tuning (e.g., Gaussian RBF), which means that we will have to jointly search for the optimum $\\epsilon$ and kernel parameters. Luckily, in our case, we will use a simple Euclidean distance metric that does not require any tuning. Thus, we only need to search for the optimum $\\epsilon$-radius to be used by **ProtoSelect**. *Alibi* already comes with support for a grid-based search of the optimum values of the $\\epsilon$ when using a Euclidean distance metric.\n",
    "\n",
    "To search for the optimum $\\epsilon$-radius, we call the`cv_protoselect_euclidean` method, provided with a reference dataset, a prototype dataset, and a validation set. Note that in the absence of a validation set, the method performs cross-validation on the reference dataset."
   ]
  },
  {
   "cell_type": "code",
   "execution_count": 5,
   "id": "224b65fc",
   "metadata": {},
   "outputs": [],
   "source": [
    "num_prototypes = 20\n",
    "grid_size = 50\n",
    "quantiles = (0., .5)\n",
    "\n",
    "# search for the best epsilon-radius value\n",
    "cv = cv_protoselect_euclidean(refset=(X_train, y_train),\n",
    "                              protoset=(X_train,),\n",
    "                              valset=(X_val, y_val),\n",
    "                              num_prototypes=num_prototypes,\n",
    "                              quantiles=quantiles,\n",
    "                              grid_size=grid_size,\n",
    "                              preprocess_fn=preprocessor.transform)"
   ]
  },
  {
   "cell_type": "markdown",
   "id": "6d991e94",
   "metadata": {},
   "source": [
    "Once we have the optimum value of $\\epsilon$, we can instantiate **ProtoSelect** as follows:"
   ]
  },
  {
   "cell_type": "code",
   "execution_count": 6,
   "id": "96825fab",
   "metadata": {},
   "outputs": [
    {
     "name": "stdout",
     "output_type": "stream",
     "text": [
      "Found 20 prototypes.\n"
     ]
    }
   ],
   "source": [
    "summariser = ProtoSelect(kernel_distance=EuclideanDistance(), \n",
    "                         eps=cv['best_eps'], \n",
    "                         preprocess_fn=preprocessor.transform)\n",
    "\n",
    "summariser = summariser.fit(X=X_train, y=y_train)\n",
    "summary = summariser.summarise(num_prototypes=num_prototypes)\n",
    "print(f\"Found {len(summary.data['prototypes'])} prototypes.\")"
   ]
  },
  {
   "cell_type": "markdown",
   "id": "5f1c3892",
   "metadata": {},
   "source": [
    "### Display prototypes\n",
    "\n",
    "Let us inspect the returned prototypes:"
   ]
  },
  {
   "cell_type": "code",
   "execution_count": 7,
   "id": "3fa9e3c1",
   "metadata": {},
   "outputs": [
    {
     "data": {
      "text/html": [
       "<div>\n",
       "<style scoped>\n",
       "    .dataframe tbody tr th:only-of-type {\n",
       "        vertical-align: middle;\n",
       "    }\n",
       "\n",
       "    .dataframe tbody tr th {\n",
       "        vertical-align: top;\n",
       "    }\n",
       "\n",
       "    .dataframe thead th {\n",
       "        text-align: right;\n",
       "    }\n",
       "</style>\n",
       "<table border=\"1\" class=\"dataframe\">\n",
       "  <thead>\n",
       "    <tr style=\"text-align: right;\">\n",
       "      <th></th>\n",
       "      <th>Age</th>\n",
       "      <th>Workclass</th>\n",
       "      <th>Education</th>\n",
       "      <th>Marital Status</th>\n",
       "      <th>Occupation</th>\n",
       "      <th>Relationship</th>\n",
       "      <th>Race</th>\n",
       "      <th>Sex</th>\n",
       "      <th>Capital Gain</th>\n",
       "      <th>Capital Loss</th>\n",
       "      <th>Hours per week</th>\n",
       "      <th>Country</th>\n",
       "      <th>Label</th>\n",
       "    </tr>\n",
       "  </thead>\n",
       "  <tbody>\n",
       "    <tr>\n",
       "      <th>0</th>\n",
       "      <td>33</td>\n",
       "      <td>Private</td>\n",
       "      <td>High School grad</td>\n",
       "      <td>Never-Married</td>\n",
       "      <td>Blue-Collar</td>\n",
       "      <td>Not-in-family</td>\n",
       "      <td>White</td>\n",
       "      <td>Male</td>\n",
       "      <td>0</td>\n",
       "      <td>0</td>\n",
       "      <td>40</td>\n",
       "      <td>United-States</td>\n",
       "      <td>&lt;=50K</td>\n",
       "    </tr>\n",
       "    <tr>\n",
       "      <th>1</th>\n",
       "      <td>31</td>\n",
       "      <td>Private</td>\n",
       "      <td>High School grad</td>\n",
       "      <td>Never-Married</td>\n",
       "      <td>Service</td>\n",
       "      <td>Own-child</td>\n",
       "      <td>White</td>\n",
       "      <td>Female</td>\n",
       "      <td>0</td>\n",
       "      <td>0</td>\n",
       "      <td>30</td>\n",
       "      <td>United-States</td>\n",
       "      <td>&lt;=50K</td>\n",
       "    </tr>\n",
       "    <tr>\n",
       "      <th>2</th>\n",
       "      <td>60</td>\n",
       "      <td>Private</td>\n",
       "      <td>Associates</td>\n",
       "      <td>Separated</td>\n",
       "      <td>Service</td>\n",
       "      <td>Not-in-family</td>\n",
       "      <td>White</td>\n",
       "      <td>Female</td>\n",
       "      <td>0</td>\n",
       "      <td>0</td>\n",
       "      <td>40</td>\n",
       "      <td>United-States</td>\n",
       "      <td>&lt;=50K</td>\n",
       "    </tr>\n",
       "    <tr>\n",
       "      <th>3</th>\n",
       "      <td>61</td>\n",
       "      <td>?</td>\n",
       "      <td>High School grad</td>\n",
       "      <td>Married</td>\n",
       "      <td>?</td>\n",
       "      <td>Husband</td>\n",
       "      <td>White</td>\n",
       "      <td>Male</td>\n",
       "      <td>0</td>\n",
       "      <td>0</td>\n",
       "      <td>6</td>\n",
       "      <td>United-States</td>\n",
       "      <td>&lt;=50K</td>\n",
       "    </tr>\n",
       "    <tr>\n",
       "      <th>4</th>\n",
       "      <td>20</td>\n",
       "      <td>?</td>\n",
       "      <td>High School grad</td>\n",
       "      <td>Never-Married</td>\n",
       "      <td>?</td>\n",
       "      <td>Own-child</td>\n",
       "      <td>White</td>\n",
       "      <td>Male</td>\n",
       "      <td>0</td>\n",
       "      <td>0</td>\n",
       "      <td>20</td>\n",
       "      <td>United-States</td>\n",
       "      <td>&lt;=50K</td>\n",
       "    </tr>\n",
       "    <tr>\n",
       "      <th>5</th>\n",
       "      <td>31</td>\n",
       "      <td>Private</td>\n",
       "      <td>High School grad</td>\n",
       "      <td>Never-Married</td>\n",
       "      <td>Service</td>\n",
       "      <td>Own-child</td>\n",
       "      <td>White</td>\n",
       "      <td>Male</td>\n",
       "      <td>0</td>\n",
       "      <td>1721</td>\n",
       "      <td>16</td>\n",
       "      <td>United-States</td>\n",
       "      <td>&lt;=50K</td>\n",
       "    </tr>\n",
       "    <tr>\n",
       "      <th>6</th>\n",
       "      <td>27</td>\n",
       "      <td>?</td>\n",
       "      <td>High School grad</td>\n",
       "      <td>Separated</td>\n",
       "      <td>?</td>\n",
       "      <td>Own-child</td>\n",
       "      <td>Black</td>\n",
       "      <td>Female</td>\n",
       "      <td>0</td>\n",
       "      <td>0</td>\n",
       "      <td>40</td>\n",
       "      <td>United-States</td>\n",
       "      <td>&lt;=50K</td>\n",
       "    </tr>\n",
       "    <tr>\n",
       "      <th>7</th>\n",
       "      <td>63</td>\n",
       "      <td>Private</td>\n",
       "      <td>Dropout</td>\n",
       "      <td>Widowed</td>\n",
       "      <td>Service</td>\n",
       "      <td>Not-in-family</td>\n",
       "      <td>White</td>\n",
       "      <td>Female</td>\n",
       "      <td>0</td>\n",
       "      <td>0</td>\n",
       "      <td>31</td>\n",
       "      <td>United-States</td>\n",
       "      <td>&lt;=50K</td>\n",
       "    </tr>\n",
       "    <tr>\n",
       "      <th>8</th>\n",
       "      <td>67</td>\n",
       "      <td>Federal-gov</td>\n",
       "      <td>Bachelors</td>\n",
       "      <td>Widowed</td>\n",
       "      <td>Admin</td>\n",
       "      <td>Not-in-family</td>\n",
       "      <td>White</td>\n",
       "      <td>Female</td>\n",
       "      <td>0</td>\n",
       "      <td>0</td>\n",
       "      <td>40</td>\n",
       "      <td>United-States</td>\n",
       "      <td>&lt;=50K</td>\n",
       "    </tr>\n",
       "    <tr>\n",
       "      <th>9</th>\n",
       "      <td>25</td>\n",
       "      <td>Private</td>\n",
       "      <td>Dropout</td>\n",
       "      <td>Never-Married</td>\n",
       "      <td>Service</td>\n",
       "      <td>Unmarried</td>\n",
       "      <td>Black</td>\n",
       "      <td>Female</td>\n",
       "      <td>0</td>\n",
       "      <td>0</td>\n",
       "      <td>32</td>\n",
       "      <td>United-States</td>\n",
       "      <td>&lt;=50K</td>\n",
       "    </tr>\n",
       "    <tr>\n",
       "      <th>10</th>\n",
       "      <td>38</td>\n",
       "      <td>Self-emp-not-inc</td>\n",
       "      <td>Bachelors</td>\n",
       "      <td>Never-Married</td>\n",
       "      <td>Blue-Collar</td>\n",
       "      <td>Not-in-family</td>\n",
       "      <td>Amer-Indian-Eskimo</td>\n",
       "      <td>Male</td>\n",
       "      <td>0</td>\n",
       "      <td>0</td>\n",
       "      <td>30</td>\n",
       "      <td>United-States</td>\n",
       "      <td>&lt;=50K</td>\n",
       "    </tr>\n",
       "    <tr>\n",
       "      <th>11</th>\n",
       "      <td>31</td>\n",
       "      <td>Private</td>\n",
       "      <td>High School grad</td>\n",
       "      <td>Separated</td>\n",
       "      <td>Blue-Collar</td>\n",
       "      <td>Unmarried</td>\n",
       "      <td>White</td>\n",
       "      <td>Female</td>\n",
       "      <td>0</td>\n",
       "      <td>2238</td>\n",
       "      <td>40</td>\n",
       "      <td>United-States</td>\n",
       "      <td>&lt;=50K</td>\n",
       "    </tr>\n",
       "    <tr>\n",
       "      <th>12</th>\n",
       "      <td>21</td>\n",
       "      <td>Private</td>\n",
       "      <td>High School grad</td>\n",
       "      <td>Never-Married</td>\n",
       "      <td>Sales</td>\n",
       "      <td>Own-child</td>\n",
       "      <td>Asian-Pac-Islander</td>\n",
       "      <td>Male</td>\n",
       "      <td>0</td>\n",
       "      <td>0</td>\n",
       "      <td>30</td>\n",
       "      <td>British-Commonwealth</td>\n",
       "      <td>&lt;=50K</td>\n",
       "    </tr>\n",
       "    <tr>\n",
       "      <th>13</th>\n",
       "      <td>17</td>\n",
       "      <td>?</td>\n",
       "      <td>Dropout</td>\n",
       "      <td>Never-Married</td>\n",
       "      <td>?</td>\n",
       "      <td>Own-child</td>\n",
       "      <td>White</td>\n",
       "      <td>Male</td>\n",
       "      <td>0</td>\n",
       "      <td>0</td>\n",
       "      <td>20</td>\n",
       "      <td>South-America</td>\n",
       "      <td>&lt;=50K</td>\n",
       "    </tr>\n",
       "    <tr>\n",
       "      <th>14</th>\n",
       "      <td>61</td>\n",
       "      <td>Local-gov</td>\n",
       "      <td>Masters</td>\n",
       "      <td>Married</td>\n",
       "      <td>White-Collar</td>\n",
       "      <td>Husband</td>\n",
       "      <td>White</td>\n",
       "      <td>Male</td>\n",
       "      <td>7298</td>\n",
       "      <td>0</td>\n",
       "      <td>60</td>\n",
       "      <td>United-States</td>\n",
       "      <td>&gt;50K</td>\n",
       "    </tr>\n",
       "    <tr>\n",
       "      <th>15</th>\n",
       "      <td>51</td>\n",
       "      <td>Self-emp-inc</td>\n",
       "      <td>Doctorate</td>\n",
       "      <td>Married</td>\n",
       "      <td>Professional</td>\n",
       "      <td>Husband</td>\n",
       "      <td>White</td>\n",
       "      <td>Male</td>\n",
       "      <td>15024</td>\n",
       "      <td>0</td>\n",
       "      <td>40</td>\n",
       "      <td>United-States</td>\n",
       "      <td>&gt;50K</td>\n",
       "    </tr>\n",
       "    <tr>\n",
       "      <th>16</th>\n",
       "      <td>55</td>\n",
       "      <td>Private</td>\n",
       "      <td>Masters</td>\n",
       "      <td>Married</td>\n",
       "      <td>White-Collar</td>\n",
       "      <td>Husband</td>\n",
       "      <td>White</td>\n",
       "      <td>Male</td>\n",
       "      <td>0</td>\n",
       "      <td>1977</td>\n",
       "      <td>40</td>\n",
       "      <td>United-States</td>\n",
       "      <td>&gt;50K</td>\n",
       "    </tr>\n",
       "    <tr>\n",
       "      <th>17</th>\n",
       "      <td>33</td>\n",
       "      <td>Private</td>\n",
       "      <td>Bachelors</td>\n",
       "      <td>Married</td>\n",
       "      <td>Professional</td>\n",
       "      <td>Husband</td>\n",
       "      <td>White</td>\n",
       "      <td>Male</td>\n",
       "      <td>15024</td>\n",
       "      <td>0</td>\n",
       "      <td>75</td>\n",
       "      <td>United-States</td>\n",
       "      <td>&gt;50K</td>\n",
       "    </tr>\n",
       "    <tr>\n",
       "      <th>18</th>\n",
       "      <td>49</td>\n",
       "      <td>Self-emp-inc</td>\n",
       "      <td>Prof-School</td>\n",
       "      <td>Married</td>\n",
       "      <td>Professional</td>\n",
       "      <td>Husband</td>\n",
       "      <td>White</td>\n",
       "      <td>Male</td>\n",
       "      <td>99999</td>\n",
       "      <td>0</td>\n",
       "      <td>37</td>\n",
       "      <td>United-States</td>\n",
       "      <td>&gt;50K</td>\n",
       "    </tr>\n",
       "    <tr>\n",
       "      <th>19</th>\n",
       "      <td>90</td>\n",
       "      <td>Private</td>\n",
       "      <td>Prof-School</td>\n",
       "      <td>Married</td>\n",
       "      <td>Professional</td>\n",
       "      <td>Husband</td>\n",
       "      <td>White</td>\n",
       "      <td>Male</td>\n",
       "      <td>20051</td>\n",
       "      <td>0</td>\n",
       "      <td>72</td>\n",
       "      <td>United-States</td>\n",
       "      <td>&gt;50K</td>\n",
       "    </tr>\n",
       "  </tbody>\n",
       "</table>\n",
       "</div>"
      ],
      "text/plain": [
       "    Age         Workclass         Education Marital Status    Occupation  \\\n",
       "0    33           Private  High School grad  Never-Married   Blue-Collar   \n",
       "1    31           Private  High School grad  Never-Married       Service   \n",
       "2    60           Private        Associates      Separated       Service   \n",
       "3    61                 ?  High School grad        Married             ?   \n",
       "4    20                 ?  High School grad  Never-Married             ?   \n",
       "5    31           Private  High School grad  Never-Married       Service   \n",
       "6    27                 ?  High School grad      Separated             ?   \n",
       "7    63           Private           Dropout        Widowed       Service   \n",
       "8    67       Federal-gov         Bachelors        Widowed         Admin   \n",
       "9    25           Private           Dropout  Never-Married       Service   \n",
       "10   38  Self-emp-not-inc         Bachelors  Never-Married   Blue-Collar   \n",
       "11   31           Private  High School grad      Separated   Blue-Collar   \n",
       "12   21           Private  High School grad  Never-Married         Sales   \n",
       "13   17                 ?           Dropout  Never-Married             ?   \n",
       "14   61         Local-gov           Masters        Married  White-Collar   \n",
       "15   51      Self-emp-inc         Doctorate        Married  Professional   \n",
       "16   55           Private           Masters        Married  White-Collar   \n",
       "17   33           Private         Bachelors        Married  Professional   \n",
       "18   49      Self-emp-inc       Prof-School        Married  Professional   \n",
       "19   90           Private       Prof-School        Married  Professional   \n",
       "\n",
       "     Relationship                Race     Sex  Capital Gain  Capital Loss  \\\n",
       "0   Not-in-family               White    Male             0             0   \n",
       "1       Own-child               White  Female             0             0   \n",
       "2   Not-in-family               White  Female             0             0   \n",
       "3         Husband               White    Male             0             0   \n",
       "4       Own-child               White    Male             0             0   \n",
       "5       Own-child               White    Male             0          1721   \n",
       "6       Own-child               Black  Female             0             0   \n",
       "7   Not-in-family               White  Female             0             0   \n",
       "8   Not-in-family               White  Female             0             0   \n",
       "9       Unmarried               Black  Female             0             0   \n",
       "10  Not-in-family  Amer-Indian-Eskimo    Male             0             0   \n",
       "11      Unmarried               White  Female             0          2238   \n",
       "12      Own-child  Asian-Pac-Islander    Male             0             0   \n",
       "13      Own-child               White    Male             0             0   \n",
       "14        Husband               White    Male          7298             0   \n",
       "15        Husband               White    Male         15024             0   \n",
       "16        Husband               White    Male             0          1977   \n",
       "17        Husband               White    Male         15024             0   \n",
       "18        Husband               White    Male         99999             0   \n",
       "19        Husband               White    Male         20051             0   \n",
       "\n",
       "    Hours per week               Country  Label  \n",
       "0               40         United-States  <=50K  \n",
       "1               30         United-States  <=50K  \n",
       "2               40         United-States  <=50K  \n",
       "3                6         United-States  <=50K  \n",
       "4               20         United-States  <=50K  \n",
       "5               16         United-States  <=50K  \n",
       "6               40         United-States  <=50K  \n",
       "7               31         United-States  <=50K  \n",
       "8               40         United-States  <=50K  \n",
       "9               32         United-States  <=50K  \n",
       "10              30         United-States  <=50K  \n",
       "11              40         United-States  <=50K  \n",
       "12              30  British-Commonwealth  <=50K  \n",
       "13              20         South-America  <=50K  \n",
       "14              60         United-States   >50K  \n",
       "15              40         United-States   >50K  \n",
       "16              40         United-States   >50K  \n",
       "17              75         United-States   >50K  \n",
       "18              37         United-States   >50K  \n",
       "19              72         United-States   >50K  "
      ]
     },
     "execution_count": 7,
     "metadata": {},
     "output_type": "execute_result"
    }
   ],
   "source": [
    "protos = summary.data['prototypes']\n",
    "protos_labels = summary.data['prototypes_labels']\n",
    "\n",
    "# display the prototypes in a human readable format\n",
    "display_table(X=protos, \n",
    "              y=protos_labels, \n",
    "              feature_names=adult.feature_names, \n",
    "              category_map=adult.category_map, \n",
    "              target_names=adult.target_names)"
   ]
  },
  {
   "cell_type": "markdown",
   "id": "cd10d5f1",
   "metadata": {},
   "source": [
    "By inspecting the prototypes, we can observe that features like `Education` and `Marital Status` can reveal some patterns. People with lower education level (e.g., `High School grad`, `Dropout`, etc.) and who don’t have a partner (e.g., `Never-Married`, `Separated`, `Widowed` etc.) tend to be classified as $\\leq 50K$. On the other hand, we have people that have a higher education level (e.g., `Bachelors`, `Masters`, `Doctorate`, etc.)  and who have a partner (e.g., `Married`) that are classified as $>50K$."
   ]
  },
  {
   "cell_type": "markdown",
   "id": "b0bd381e",
   "metadata": {},
   "source": [
    "### Train 1-KNN\n",
    "\n",
    "A standard procedure to check the quality of the prototypes is to train a 1-KNN classifier and evaluate its performance."
   ]
  },
  {
   "cell_type": "code",
   "execution_count": 8,
   "id": "bb01f511",
   "metadata": {},
   "outputs": [],
   "source": [
    "# train 1-knn classifier using the selected prototypes\n",
    "knn_proto = KNeighborsClassifier(n_neighbors=1, metric='euclidean')\n",
    "knn_proto = knn_proto.fit(X=preprocessor.transform(protos), y=protos_labels)"
   ]
  },
  {
   "cell_type": "markdown",
   "id": "a3666943",
   "metadata": {},
   "source": [
    "To verify that **ProtoSelect** returns better prototypes than a simple random selection, we randomly sample  multiple prototype sets, train a 1-KNN for each set, evaluate the classifiers, and return the average accuracy score."
   ]
  },
  {
   "cell_type": "code",
   "execution_count": 9,
   "id": "ab0133b7",
   "metadata": {},
   "outputs": [],
   "source": [
    "np.random.seed(0)\n",
    "scores = []\n",
    "\n",
    "for i in range(10):\n",
    "    rand_idx = np.random.choice(len(X_train), size=len(protos), replace=False)\n",
    "    rands, rands_labels = X_train[rand_idx], y_train[rand_idx]\n",
    "    \n",
    "    knn_rand = KNeighborsClassifier(n_neighbors=1, metric='euclidean')\n",
    "    knn_rand = knn_rand.fit(X=preprocessor.transform(rands), y=rands_labels)\n",
    "    scores.append(knn_rand.score(preprocessor.transform(X_test), y_test))"
   ]
  },
  {
   "cell_type": "markdown",
   "id": "7ea0f5b7",
   "metadata": {},
   "source": [
    "Compare the results returned by **ProtoSelect** and by the random sampling."
   ]
  },
  {
   "cell_type": "code",
   "execution_count": 10,
   "id": "87025b8d",
   "metadata": {},
   "outputs": [
    {
     "name": "stdout",
     "output_type": "stream",
     "text": [
      "ProtoSelect 1-KNN accuracy: 0.813\n",
      "Random 1-KNN mean accuracy: 0.723\n"
     ]
    }
   ],
   "source": [
    "# compare the scores obtained by ProtoSelect vs random choice\n",
    "print('ProtoSelect 1-KNN accuracy: %.3f' % (knn_proto.score(preprocessor.transform(X_test), y_test)))\n",
    "print('Random 1-KNN mean accuracy: %.3f' % (np.mean(scores)))"
   ]
  },
  {
   "cell_type": "markdown",
   "id": "89d3612a",
   "metadata": {},
   "source": [
    "We can observe that `ProtoSelect` chooses more representative instances than a naive random selection. The gap between the two should narrow as we increase the number of requested prototypes."
   ]
  },
  {
   "cell_type": "markdown",
   "id": "e12f0993",
   "metadata": {},
   "source": [
    "## CIFAR10 dataset"
   ]
  },
  {
   "cell_type": "markdown",
   "id": "a828e5ec",
   "metadata": {},
   "source": [
    "### Load dataset\n",
    "\n",
    "Fetch the *CIFAR10* dataset and perform train-test-validation split and standard preprocessing. For demonstrative purposes, we use a reduced dataset and remind the user about the memory limitation of pre-computing and storing the kernel matrix in memory."
   ]
  },
  {
   "cell_type": "code",
   "execution_count": 11,
   "id": "034a4b4e",
   "metadata": {},
   "outputs": [],
   "source": [
    "(X_train, y_train), (X_test, y_test) = tf.keras.datasets.cifar10.load_data()\n",
    "X_train = X_train.astype(np.float32) / 255.\n",
    "X_test = X_test.astype(np.float32) / 255.\n",
    "y_train, y_test = y_train.flatten(), y_test.flatten()\n",
    "\n",
    "\n",
    "# split the test into test-validation\n",
    "X_test, X_val, y_test, y_val = train_test_split(X_test, y_test, train_size=1000, test_size=1000, random_state=13)\n",
    "\n",
    "# subsample the datasets\n",
    "np.random.seed(13)\n",
    "train_idx = np.random.choice(len(X_train), size=1000, replace=False)\n",
    "X_train, y_train = X_train[train_idx], y_train[train_idx]"
   ]
  },
  {
   "cell_type": "markdown",
   "id": "c16be800",
   "metadata": {},
   "source": [
    "### Preprocessing function\n",
    "\n",
    "For *CIFAR10*, we use a hidden layer output from a pre-trained network as our feature representation of the input images. The network was trained on the CIFAR10 dataset. Note that one can use any feature representation of choice (e.g., used from some self-supervised task)."
   ]
  },
  {
   "cell_type": "code",
   "execution_count": 12,
   "id": "98cbd556",
   "metadata": {
    "scrolled": true
   },
   "outputs": [
    {
     "name": "stdout",
     "output_type": "stream",
     "text": [
      "--2022-05-06 14:34:00--  https://storage.googleapis.com/seldon-models/alibi/model_cifar10/checkpoint\n",
      "Resolving storage.googleapis.com (storage.googleapis.com)... 172.217.20.16, 142.251.39.80, 142.250.180.208, ...\n",
      "Connecting to storage.googleapis.com (storage.googleapis.com)|172.217.20.16|:443... connected.\n",
      "HTTP request sent, awaiting response... 200 OK\n",
      "Length: 81 [application/octet-stream]\n",
      "Saving to: ‘model_cifar10/checkpoint’\n",
      "\n",
      "checkpoint          100%[===================>]      81  --.-KB/s    in 0s      \n",
      "\n",
      "2022-05-06 14:34:00 (11,3 MB/s) - ‘model_cifar10/checkpoint’ saved [81/81]\n",
      "\n",
      "--2022-05-06 14:34:00--  https://storage.googleapis.com/seldon-models/alibi/model_cifar10/cifar10.ckpt.data-00000-of-00001\n",
      "Resolving storage.googleapis.com (storage.googleapis.com)... 172.217.20.16, 142.251.39.80, 142.250.180.208, ...\n",
      "Connecting to storage.googleapis.com (storage.googleapis.com)|172.217.20.16|:443... connected.\n",
      "HTTP request sent, awaiting response... 200 OK\n",
      "Length: 2218891 (2,1M) [application/octet-stream]\n",
      "Saving to: ‘model_cifar10/cifar10.ckpt.data-00000-of-00001’\n",
      "\n",
      "cifar10.ckpt.data-0 100%[===================>]   2,12M  4,26MB/s    in 0,5s    \n",
      "\n",
      "2022-05-06 14:34:01 (4,26 MB/s) - ‘model_cifar10/cifar10.ckpt.data-00000-of-00001’ saved [2218891/2218891]\n",
      "\n",
      "--2022-05-06 14:34:01--  https://storage.googleapis.com/seldon-models/alibi/model_cifar10/cifar10.ckpt.index\n",
      "Resolving storage.googleapis.com (storage.googleapis.com)... 172.217.20.16, 142.251.39.80, 142.250.180.208, ...\n",
      "Connecting to storage.googleapis.com (storage.googleapis.com)|172.217.20.16|:443... connected.\n",
      "HTTP request sent, awaiting response... 200 OK\n",
      "Length: 2828 (2,8K) [application/octet-stream]\n",
      "Saving to: ‘model_cifar10/cifar10.ckpt.index’\n",
      "\n",
      "cifar10.ckpt.index  100%[===================>]   2,76K  --.-KB/s    in 0s      \n",
      "\n",
      "2022-05-06 14:34:01 (20,6 MB/s) - ‘model_cifar10/cifar10.ckpt.index’ saved [2828/2828]\n",
      "\n"
     ]
    }
   ],
   "source": [
    "# download weights\n",
    "!wget https://storage.googleapis.com/seldon-models/alibi/model_cifar10/checkpoint -P model_cifar10\n",
    "!wget https://storage.googleapis.com/seldon-models/alibi/model_cifar10/cifar10.ckpt.data-00000-of-00001 -P model_cifar10\n",
    "!wget https://storage.googleapis.com/seldon-models/alibi/model_cifar10/cifar10.ckpt.index -P model_cifar10"
   ]
  },
  {
   "cell_type": "code",
   "execution_count": 13,
   "id": "f5aeedfd",
   "metadata": {},
   "outputs": [],
   "source": [
    "# define the network to be used.\n",
    "model = keras.Sequential([\n",
    "        layers.InputLayer(input_shape=(32, 32, 3)),\n",
    "        layers.Conv2D(32, (3, 3), kernel_initializer='he_uniform', padding='same'),\n",
    "        layers.ReLU(),\n",
    "        layers.BatchNormalization(),\n",
    "        layers.Conv2D(32, (3, 3), kernel_initializer='he_uniform', padding='same'),\n",
    "        layers.ReLU(),\n",
    "        layers.BatchNormalization(),\n",
    "        layers.MaxPooling2D((2, 2)),\n",
    "        layers.Dropout(0.2),\n",
    "        layers.Conv2D(64, (3, 3), kernel_initializer='he_uniform', padding='same'),\n",
    "        layers.ReLU(),\n",
    "        layers.BatchNormalization(),\n",
    "        layers.Conv2D(64, (3, 3), kernel_initializer='he_uniform', padding='same'),\n",
    "        layers.ReLU(),\n",
    "        layers.BatchNormalization(),\n",
    "        layers.MaxPooling2D((2, 2)),\n",
    "        layers.Dropout(0.3),\n",
    "        layers.Conv2D(128, (3, 3), kernel_initializer='he_uniform', padding='same'),\n",
    "        layers.ReLU(),\n",
    "        layers.BatchNormalization(),\n",
    "        layers.Conv2D(128, (3, 3), kernel_initializer='he_uniform', padding='same'),\n",
    "        layers.ReLU(),\n",
    "        layers.BatchNormalization(),\n",
    "        layers.MaxPooling2D((2, 2)),\n",
    "        layers.Dropout(0.4),\n",
    "        layers.Flatten(),\n",
    "        layers.Dense(128, kernel_initializer='he_uniform', name='feature_layer'),\n",
    "        layers.ReLU(),\n",
    "        layers.BatchNormalization(),\n",
    "        layers.Dropout(0.5),\n",
    "        layers.Dense(10)\n",
    "])\n",
    "\n",
    "# load the weights\n",
    "model.load_weights('model_cifar10/cifar10.ckpt');"
   ]
  },
  {
   "cell_type": "code",
   "execution_count": 14,
   "id": "65469245",
   "metadata": {},
   "outputs": [],
   "source": [
    "# define preprocessing function\n",
    "partial_model = keras.Model(\n",
    "    inputs=model.inputs,\n",
    "    outputs=model.get_layer(name='feature_layer').output\n",
    ")\n",
    "\n",
    "def preprocess_fn(x: np.ndarray):\n",
    "    return partial_model(x, training=False).numpy()"
   ]
  },
  {
   "cell_type": "markdown",
   "id": "91344529",
   "metadata": {},
   "source": [
    "### Prototypes selection\n",
    "\n",
    "To obtain the best results, we apply the same grid-search procedure as in the case of the tabular dataset."
   ]
  },
  {
   "cell_type": "code",
   "execution_count": 15,
   "id": "0ce5e203",
   "metadata": {},
   "outputs": [],
   "source": [
    "num_prototypes = 50\n",
    "grid_size = 50\n",
    "quantiles = (0.0, 0.5)\n",
    "\n",
    "# get best eps by cv\n",
    "cv = cv_protoselect_euclidean(refset=(X_train, y_train),\n",
    "                              protoset=(X_train,),\n",
    "                              valset=(X_val, y_val),\n",
    "                              num_prototypes=num_prototypes,\n",
    "                              quantiles=quantiles,\n",
    "                              grid_size=grid_size,\n",
    "                              preprocess_fn=preprocess_fn,\n",
    "                              batch_size=100)"
   ]
  },
  {
   "cell_type": "markdown",
   "id": "a57580b6",
   "metadata": {},
   "source": [
    "Once we have the optimum value of $\\epsilon$ we can instantiate **ProtoSelect** as follows:"
   ]
  },
  {
   "cell_type": "code",
   "execution_count": 16,
   "id": "9c62ae18",
   "metadata": {},
   "outputs": [
    {
     "name": "stdout",
     "output_type": "stream",
     "text": [
      "Found 31 prototypes.\n"
     ]
    }
   ],
   "source": [
    "summariser = ProtoSelect(kernel_distance=EuclideanDistance(), \n",
    "                         eps=cv['best_eps'], \n",
    "                         preprocess_fn=preprocess_fn)\n",
    "\n",
    "summariser = summariser.fit(X=X_train, y=y_train)\n",
    "summary = summariser.summarise(num_prototypes=num_prototypes)\n",
    "print(f\"Found {len(summary.data['prototypes'])} prototypes.\")"
   ]
  },
  {
   "cell_type": "markdown",
   "id": "63f68955",
   "metadata": {},
   "source": [
    "### Display prototypes"
   ]
  },
  {
   "cell_type": "code",
   "execution_count": null,
   "id": "b3a802d3",
   "metadata": {},
   "outputs": [],
   "source": [
    "!pip install umap-learn"
   ]
  },
  {
   "cell_type": "code",
   "execution_count": 17,
   "id": "59b42aba",
   "metadata": {},
   "outputs": [],
   "source": [
    "import umap\n",
    "\n",
    "# define 2D reducer\n",
    "reducer = umap.UMAP(random_state=26)\n",
    "reducer = reducer.fit(preprocess_fn(X_train))"
   ]
  },
  {
   "cell_type": "code",
   "execution_count": 18,
   "id": "750bf9da",
   "metadata": {},
   "outputs": [
    {
     "data": {
      "image/png": "[encoded data removed]",
      "text/plain": [
       "<Figure size 864x864 with 1 Axes>"
      ]
     },
     "metadata": {},
     "output_type": "display_data"
    }
   ],
   "source": [
    "# display prototypes in 2D\n",
    "ax = visualize_image_prototypes(summary=summary,\n",
    "                                refset=(X_train, y_train),\n",
    "                                reducer=reducer.transform,\n",
    "                                preprocess_fn=preprocess_fn,\n",
    "                                fig_kw={'figwidth': 12, 'figheight': 12})"
   ]
  },
  {
   "cell_type": "markdown",
   "id": "8f7b8eae",
   "metadata": {},
   "source": [
    "Besides visualizing the prototypes and their importance (i.e., larger images correspond to more important prototypes), one can also understand the diversity of each class. For example, within the current setup, we can observe that only two prototypes are required to cover the subset of the `airplane` instance.  On the other hand,  for the subset of the `car` instances, we need at least six prototypes. The visualization suggests that the `car` class has more diversity in the feature representation and implicitly requires more prototypes to cover its instances."
   ]
  },
  {
   "cell_type": "markdown",
   "id": "8571e190",
   "metadata": {},
   "source": [
    "### Train 1-KNN\n",
    "\n",
    "As before, we train a 1-KNN classifier to verify the quality of the prototypes returned by **ProtoSelect** against a random sampling."
   ]
  },
  {
   "cell_type": "code",
   "execution_count": 19,
   "id": "b552a5da",
   "metadata": {},
   "outputs": [],
   "source": [
    "# train 1-knn classifier using the selected prototypes\n",
    "protos = summary.data['prototypes']\n",
    "protos_labels = summary.data['prototypes_labels']\n",
    "knn_proto = KNeighborsClassifier(n_neighbors=1, metric='euclidean')\n",
    "knn_proto = knn_proto.fit(X=preprocess_fn(protos), y=protos_labels)"
   ]
  },
  {
   "cell_type": "code",
   "execution_count": 20,
   "id": "b81d47f8",
   "metadata": {},
   "outputs": [],
   "source": [
    "np.random.seed(0)\n",
    "scores = []\n",
    "\n",
    "for i in range(10):\n",
    "    rand_idx = np.random.choice(len(X_train), size=len(protos), replace=False)\n",
    "    rands, rands_labels = X_train[rand_idx], y_train[rand_idx]\n",
    "    \n",
    "    knn_rand = KNeighborsClassifier(n_neighbors=1, metric='euclidean')\n",
    "    knn_rand = knn_rand.fit(X=preprocess_fn(rands), y=rands_labels)\n",
    "    scores.append(knn_rand.score(preprocess_fn(X_test), y_test))"
   ]
  },
  {
   "cell_type": "code",
   "execution_count": 21,
   "id": "ce0dc492",
   "metadata": {},
   "outputs": [
    {
     "name": "stdout",
     "output_type": "stream",
     "text": [
      "ProtoSelect 1-KNN accuracy: 0.870\n",
      "Random 1-KNN mean accuracy: 0.773\n"
     ]
    }
   ],
   "source": [
    "print('ProtoSelect 1-KNN accuracy: %.3f' % (knn_proto.score(preprocess_fn(X_test), y_test)))\n",
    "print('Random 1-KNN mean accuracy: %.3f' % (np.mean(scores)))"
   ]
  }
 ],
 "metadata": {
  "kernelspec": {
   "display_name": "alibi",
   "language": "python",
   "name": "alibi"
  },
  "language_info": {
   "codemirror_mode": {
    "name": "ipython",
    "version": 3
   },
   "file_extension": ".py",
   "mimetype": "text/x-python",
   "name": "python",
   "nbconvert_exporter": "python",
   "pygments_lexer": "ipython3",
   "version": "3.8.13"
  }
 },
 "nbformat": 4,
 "nbformat_minor": 5
}
