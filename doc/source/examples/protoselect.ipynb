{
 "cells": [
  {
   "cell_type": "code",
   "execution_count": 5,
   "metadata": {},
   "outputs": [
    {
     "name": "stdout",
     "output_type": "stream",
     "text": [
      "The autoreload extension is already loaded. To reload it, use:\n",
      "  %reload_ext autoreload\n"
     ]
    }
   ],
   "source": [
    "import numpy as np\n",
    "import tensorflow as tf\n",
    "import tensorflow.keras as keras\n",
    "from alibi.prototypes import ProtoSelect\n",
    "from alibi.prototypes.protoselect import cv_protoselect_euclidean\n",
    "from alibi.utils.kernel import EuclideanDistance\n",
    "from sklearn.model_selection import train_test_split\n",
    "\n",
    "%load_ext autoreload\n",
    "%autoreload 2"
   ]
  },
  {
   "cell_type": "markdown",
   "metadata": {},
   "source": [
    "## Load MNIST dataset"
   ]
  },
  {
   "cell_type": "code",
   "execution_count": 2,
   "metadata": {},
   "outputs": [],
   "source": [
    "(X_train, Y_train), (X_test, Y_test) = keras.datasets.mnist.load_data()\n",
    "X_train = X_train.reshape(len(X_train), -1) / 255.\n",
    "X_test = X_test.reshape(len(X_test), -1) / 255.\n",
    "\n",
    "# get validation\n",
    "X_train, X_val, Y_train, Y_val = train_test_split(X_train, Y_train, test_size=1000, random_state=0)\n",
    "\n",
    "# select random samples from train an test\n",
    "size = 1000\n",
    "train_idx = np.random.choice(len(X_train), size=size, replace=False)\n",
    "test_idx = np.random.choice(len(X_test), size=size, replace=False)\n",
    "X_train, Y_train = X_train[train_idx], Y_train[train_idx]\n",
    "X_test, Y_test = X_test[test_idx], Y_test[test_idx]"
   ]
  },
  {
   "cell_type": "code",
   "execution_count": 102,
   "metadata": {},
   "outputs": [],
   "source": [
    "num_prototypes = 20\n",
    "grid_size = 50\n",
    "quantiles = (0.1, 0.9)\n",
    "\n",
    "# get best eps by cv\n",
    "eps = cv_protoselect_euclidean(refset=(X_train, Y_train),\n",
    "                               protoset=(X_test,),\n",
    "#                                valset=(X_val, Y_val),\n",
    "                               valset = None,\n",
    "                               num_splits=5,\n",
    "                               num_prototypes=num_prototypes,\n",
    "                               quantiles=quantiles,\n",
    "                               grid_size=grid_size)"
   ]
  },
  {
   "cell_type": "code",
   "execution_count": 103,
   "metadata": {},
   "outputs": [],
   "source": [
    "explainer = ProtoSelect(kernel_distance=EuclideanDistance(), eps=eps)\n",
    "explainer = explainer.fit(X=X_train, X_labels=Y_train, Y=X_test)"
   ]
  },
  {
   "cell_type": "code",
   "execution_count": 104,
   "metadata": {},
   "outputs": [],
   "source": [
    "explanation = explainer.explain(num_prototypes=num_prototypes)"
   ]
  },
  {
   "cell_type": "code",
   "execution_count": 105,
   "metadata": {},
   "outputs": [
    {
     "data": {
      "text/plain": [
       "0.726"
      ]
     },
     "execution_count": 105,
     "metadata": {},
     "output_type": "execute_result"
    }
   ],
   "source": [
    "from sklearn.neighbors import KNeighborsClassifier\n",
    "knn = KNeighborsClassifier(n_neighbors=1)\n",
    "knn = knn.fit(X=explanation.data['prototypes'], y=explanation.data['prototypes_labels'])\n",
    "knn.score(X_test, Y_test)"
   ]
  },
  {
   "cell_type": "code",
   "execution_count": 106,
   "metadata": {},
   "outputs": [
    {
     "data": {
      "text/plain": [
       "array([0, 0, 0, 1, 2, 2, 2, 3, 3, 4, 4, 5, 5, 6, 6, 7, 7, 8, 8, 9],\n",
       "      dtype=int32)"
      ]
     },
     "execution_count": 106,
     "metadata": {},
     "output_type": "execute_result"
    }
   ],
   "source": [
    "explanation.data['prototypes_labels']"
   ]
  },
  {
   "cell_type": "code",
   "execution_count": null,
   "metadata": {},
   "outputs": [],
   "source": []
  }
 ],
 "metadata": {
  "kernelspec": {
   "display_name": "alibi",
   "language": "python",
   "name": "alibi"
  },
  "language_info": {
   "codemirror_mode": {
    "name": "ipython",
    "version": 3
   },
   "file_extension": ".py",
   "mimetype": "text/x-python",
   "name": "python",
   "nbconvert_exporter": "python",
   "pygments_lexer": "ipython3",
   "version": "3.8.13"
  }
 },
 "nbformat": 4,
 "nbformat_minor": 2
}
