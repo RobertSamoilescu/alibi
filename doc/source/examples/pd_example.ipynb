{
 "cells": [
  {
   "cell_type": "code",
   "execution_count": 1,
   "id": "b81d796f",
   "metadata": {},
   "outputs": [],
   "source": [
    "import numpy as np\n",
    "\n",
    "from sklearn.datasets import load_iris, load_boston\n",
    "from sklearn.model_selection import train_test_split\n",
    "from sklearn.ensemble import RandomForestClassifier, RandomForestRegressor\n",
    "from sklearn.linear_model import LogisticRegression\n",
    "from sklearn.compose import ColumnTransformer\n",
    "from sklearn.preprocessing import StandardScaler, OneHotEncoder\n",
    "\n",
    "from alibi.explainers import PartialDependence, plot_pd\n",
    "from alibi.datasets import fetch_adult\n",
    "\n",
    "%load_ext autoreload\n",
    "%autoreload 2"
   ]
  },
  {
   "cell_type": "markdown",
   "id": "3005cf2d",
   "metadata": {},
   "source": [
    "### Iris dataset"
   ]
  },
  {
   "cell_type": "code",
   "execution_count": 2,
   "id": "7199f54f",
   "metadata": {},
   "outputs": [],
   "source": [
    "# load dataset\n",
    "dataset = load_iris()\n",
    "X, y = dataset['data'], dataset['target']\n",
    "X_train, X_test, y_train, y_test = train_test_split(X, y, test_size=0.2, random_state=0)"
   ]
  },
  {
   "cell_type": "code",
   "execution_count": null,
   "id": "a5c97294",
   "metadata": {},
   "outputs": [],
   "source": [
    "# train random forest classifier\n",
    "rf_classifier = RandomForestClassifier()\n",
    "rf_classifier.fit(X_train, y_train)\n",
    "\n",
    "print('Train accuracy: %.2f' % (rf_classifier.score(X_train, y_train)))\n",
    "print('Test accuracy: %.2f' % (rf_classifier.score(X_test, y_test)))"
   ]
  },
  {
   "cell_type": "code",
   "execution_count": null,
   "id": "2ed3dfe5",
   "metadata": {},
   "outputs": [],
   "source": [
    "np.unique(X_train[:, 1])"
   ]
  },
  {
   "cell_type": "code",
   "execution_count": null,
   "id": "e68faf50",
   "metadata": {},
   "outputs": [],
   "source": [
    "# compute partial dependence\n",
    "grid_points = {1: np.array([2, 2.5, 3, 3.5, 4, 4.5]), 2: np.array([1, 2])}\n",
    "print(np.array(list(grid_points.keys())))\n",
    "\n",
    "pd_classifier = PartialDependence(predictor=rf_classifier)\n",
    "exp_classifier = pd_classifier.explain(X=X_train,\n",
    "                                       features_list=[1],\n",
    "                                       kind='both',\n",
    "                                       grid_points=grid_points)"
   ]
  },
  {
   "cell_type": "code",
   "execution_count": null,
   "id": "264806e6",
   "metadata": {},
   "outputs": [],
   "source": [
    "np.isin(grid_points.keys(), [1,2,3])"
   ]
  },
  {
   "cell_type": "code",
   "execution_count": null,
   "id": "30bcec95",
   "metadata": {},
   "outputs": [],
   "source": [
    "# plot one way pd\n",
    "plot_pd(exp=exp_classifier,\n",
    "        features_list='all',\n",
    "        target_idx=0,\n",
    "        n_cols=2,\n",
    "        sharey='row',\n",
    "        centered=True,\n",
    "        fig_kw = {'figheight': 4, 'figwidth': 4});"
   ]
  },
  {
   "cell_type": "code",
   "execution_count": null,
   "id": "303c88a4",
   "metadata": {},
   "outputs": [],
   "source": [
    "# compute two way pd\n",
    "exp_classifier = pd_classifier.explain(X=X_train,\n",
    "                                       features_list=[(0, 1), (1, 2), (2, 3)],\n",
    "                                       kind='average')"
   ]
  },
  {
   "cell_type": "code",
   "execution_count": null,
   "id": "bd2da321",
   "metadata": {},
   "outputs": [],
   "source": [
    "# plot one way pd\n",
    "plot_pd(exp=exp_classifier,\n",
    "        features_list='all',\n",
    "        target_idx=0,\n",
    "        n_cols=2,\n",
    "        sharey='row',\n",
    "        fig_kw = {'figheight': 8, 'figwidth': 8});"
   ]
  },
  {
   "cell_type": "markdown",
   "id": "85ecb28d",
   "metadata": {},
   "source": [
    "### Boston dataset"
   ]
  },
  {
   "cell_type": "code",
   "execution_count": null,
   "id": "3cc82467",
   "metadata": {},
   "outputs": [],
   "source": [
    "# load dataset\n",
    "dataset = load_boston()\n",
    "X, y = dataset['data'], dataset['target']\n",
    "X_train, X_test, y_train, y_test = train_test_split(X, y, test_size=0.2, random_state=0)"
   ]
  },
  {
   "cell_type": "code",
   "execution_count": null,
   "id": "be37f356",
   "metadata": {},
   "outputs": [],
   "source": [
    "# train random forest classifier\n",
    "rf_regressor = RandomForestRegressor()\n",
    "rf_regressor.fit(X_train, y_train)\n",
    "\n",
    "print('Train accuracy: %.2f' % (rf_regressor.score(X_train, y_train)))\n",
    "print('Test accuracy: %.2f' % (rf_regressor.score(X_test, y_test)))"
   ]
  },
  {
   "cell_type": "code",
   "execution_count": null,
   "id": "eb8c7b4d",
   "metadata": {},
   "outputs": [],
   "source": [
    "# compute partial dependence\n",
    "pd_regressor = PartialDependence(predictor=rf_regressor)\n",
    "exp_regressor = pd_regressor.explain(X=X_train,\n",
    "                                     percentiles=(0, 1),\n",
    "                                     grid_resolution=20,\n",
    "                                     features_list=[0, 1, 2, 3, (0, 1), (2, 3)], \n",
    "                                     kind='average')"
   ]
  },
  {
   "cell_type": "code",
   "execution_count": null,
   "id": "b0f7222f",
   "metadata": {},
   "outputs": [],
   "source": [
    "# plot one way pd\n",
    "plot_pd(exp=exp_regressor,\n",
    "        features_list='all',\n",
    "        target_idx=0,\n",
    "        n_cols=3,\n",
    "        sharey=None,\n",
    "        fig_kw = {'figheight': 8, 'figwidth': 12});"
   ]
  },
  {
   "cell_type": "code",
   "execution_count": null,
   "id": "e89bbc93",
   "metadata": {},
   "outputs": [],
   "source": [
    "exp_regressor = pd_regressor.explain(X=X_train[:100],\n",
    "                                     percentiles=(0, 1),\n",
    "                                     grid_resolution=20,\n",
    "                                     features_list=[0, 1, 2, 3],\n",
    "                                     kind='both')"
   ]
  },
  {
   "cell_type": "code",
   "execution_count": null,
   "id": "d31deee5",
   "metadata": {},
   "outputs": [],
   "source": [
    "# plot one way pd\n",
    "plot_pd(exp=exp_regressor,\n",
    "        features_list='all',\n",
    "        target_idx=0,\n",
    "        n_cols=2,\n",
    "        centered=True,\n",
    "        sharey=None,\n",
    "        fig_kw = {'figheight': 8, 'figwidth': 8});"
   ]
  },
  {
   "cell_type": "markdown",
   "id": "03064bd5",
   "metadata": {},
   "source": [
    "### Black box - classifier"
   ]
  },
  {
   "cell_type": "code",
   "execution_count": null,
   "id": "9db57f5b",
   "metadata": {},
   "outputs": [],
   "source": [
    "# load dataset\n",
    "dataset = load_iris()\n",
    "X, y = dataset['data'], dataset['target']\n",
    "X_train, X_test, y_train, y_test = train_test_split(X, y, test_size=0.2, random_state=0)"
   ]
  },
  {
   "cell_type": "code",
   "execution_count": null,
   "id": "b2d1351f",
   "metadata": {},
   "outputs": [],
   "source": [
    "# train random forest classifier\n",
    "lr_classifier = LogisticRegression(max_iter=1000)\n",
    "lr_classifier.fit(X_train, y_train)\n",
    "\n",
    "print('Train accuracy: %.2f' % (lr_classifier.score(X_train, y_train)))\n",
    "print('Test accuracy: %.2f' % (lr_classifier.score(X_test, y_test)))"
   ]
  },
  {
   "cell_type": "code",
   "execution_count": null,
   "id": "738a882e",
   "metadata": {},
   "outputs": [],
   "source": [
    "# define black-box predictor\n",
    "predictor = lr_classifier.predict_proba"
   ]
  },
  {
   "cell_type": "code",
   "execution_count": null,
   "id": "8b9e465f",
   "metadata": {},
   "outputs": [],
   "source": [
    "# TODO: consider wrapping the functin inside?\n",
    "wrapped_predictor = PDEstimatorWrapper(predictor=predictor,\n",
    "                                       predictor_type='classifier',\n",
    "                                       prediction_fn='predict_proba',\n",
    "                                       num_classes=len(np.unique(y_train)))"
   ]
  },
  {
   "cell_type": "code",
   "execution_count": null,
   "id": "e6c9fcbd",
   "metadata": {},
   "outputs": [],
   "source": [
    "# compute partial dependence\n",
    "pd_blackbox = PartialDependence(predictor=wrapped_predictor)\n",
    "exp_blackbox = pd_blackbox.explain(X=X_train[:100],\n",
    "                                   percentiles=(0, 1),\n",
    "                                   grid_resolution=20,\n",
    "                                   features_list=[0, 1, 2, 3],\n",
    "                                   kind='both')"
   ]
  },
  {
   "cell_type": "code",
   "execution_count": null,
   "id": "758201ef",
   "metadata": {},
   "outputs": [],
   "source": [
    "# plot one way pd\n",
    "plot_pd(exp=exp_blackbox,\n",
    "        features_list='all',\n",
    "        target_idx=0,\n",
    "        n_cols=2,\n",
    "        sharey=None,\n",
    "        fig_kw = {'figheight': 8, 'figwidth': 8});"
   ]
  },
  {
   "cell_type": "markdown",
   "id": "c801f75c",
   "metadata": {},
   "source": [
    "### Adult dataset"
   ]
  },
  {
   "cell_type": "code",
   "execution_count": 3,
   "id": "d734bf9d",
   "metadata": {},
   "outputs": [],
   "source": [
    "# fetch adult datasets\n",
    "adult = fetch_adult()\n",
    "\n",
    "# split dataset into train-test-validation\n",
    "X, y = adult.data, adult.target\n",
    "X_train, X_test, y_train, y_test = train_test_split(X, y, train_size=1000, test_size=2000, random_state=13)\n",
    "X_test, X_val, y_test, y_val = train_test_split(X_test, y_test, test_size=0.5, random_state=13)\n",
    "\n",
    "# identify numerical and categorical columns\n",
    "categorical_ids = list(adult.category_map.keys())\n",
    "numerical_ids = [i for i in range(len(adult.feature_names)) if i not in adult.category_map]"
   ]
  },
  {
   "cell_type": "code",
   "execution_count": 4,
   "id": "a509dfea",
   "metadata": {},
   "outputs": [],
   "source": [
    "# define data preprocessor\n",
    "num_transf = StandardScaler()\n",
    "cat_transf = OneHotEncoder(\n",
    "    categories=[range(len(x)) for x in adult.category_map.values()],\n",
    "    drop='first',\n",
    ")\n",
    "preprocessor = ColumnTransformer(\n",
    "    transformers=[\n",
    "        ('cat', cat_transf, categorical_ids),\n",
    "        ('num', num_transf, numerical_ids)\n",
    "    ],\n",
    "    sparse_threshold=0\n",
    ")\n",
    "\n",
    "# fit data preprocessor\n",
    "preprocessor = preprocessor.fit(adult.data)"
   ]
  },
  {
   "cell_type": "code",
   "execution_count": 5,
   "id": "c67023b3",
   "metadata": {},
   "outputs": [],
   "source": [
    "X_train_ohe = preprocessor.transform(X_train)\n",
    "X_test_ohe = preprocessor.transform(X_test)"
   ]
  },
  {
   "cell_type": "code",
   "execution_count": 6,
   "id": "6337bc2b",
   "metadata": {},
   "outputs": [
    {
     "data": {
      "text/html": [
       "<style>#sk-container-id-1 {color: black;background-color: white;}#sk-container-id-1 pre{padding: 0;}#sk-container-id-1 div.sk-toggleable {background-color: white;}#sk-container-id-1 label.sk-toggleable__label {cursor: pointer;display: block;width: 100%;margin-bottom: 0;padding: 0.3em;box-sizing: border-box;text-align: center;}#sk-container-id-1 label.sk-toggleable__label-arrow:before {content: \"▸\";float: left;margin-right: 0.25em;color: #696969;}#sk-container-id-1 label.sk-toggleable__label-arrow:hover:before {color: black;}#sk-container-id-1 div.sk-estimator:hover label.sk-toggleable__label-arrow:before {color: black;}#sk-container-id-1 div.sk-toggleable__content {max-height: 0;max-width: 0;overflow: hidden;text-align: left;background-color: #f0f8ff;}#sk-container-id-1 div.sk-toggleable__content pre {margin: 0.2em;color: black;border-radius: 0.25em;background-color: #f0f8ff;}#sk-container-id-1 input.sk-toggleable__control:checked~div.sk-toggleable__content {max-height: 200px;max-width: 100%;overflow: auto;}#sk-container-id-1 input.sk-toggleable__control:checked~label.sk-toggleable__label-arrow:before {content: \"▾\";}#sk-container-id-1 div.sk-estimator input.sk-toggleable__control:checked~label.sk-toggleable__label {background-color: #d4ebff;}#sk-container-id-1 div.sk-label input.sk-toggleable__control:checked~label.sk-toggleable__label {background-color: #d4ebff;}#sk-container-id-1 input.sk-hidden--visually {border: 0;clip: rect(1px 1px 1px 1px);clip: rect(1px, 1px, 1px, 1px);height: 1px;margin: -1px;overflow: hidden;padding: 0;position: absolute;width: 1px;}#sk-container-id-1 div.sk-estimator {font-family: monospace;background-color: #f0f8ff;border: 1px dotted black;border-radius: 0.25em;box-sizing: border-box;margin-bottom: 0.5em;}#sk-container-id-1 div.sk-estimator:hover {background-color: #d4ebff;}#sk-container-id-1 div.sk-parallel-item::after {content: \"\";width: 100%;border-bottom: 1px solid gray;flex-grow: 1;}#sk-container-id-1 div.sk-label:hover label.sk-toggleable__label {background-color: #d4ebff;}#sk-container-id-1 div.sk-serial::before {content: \"\";position: absolute;border-left: 1px solid gray;box-sizing: border-box;top: 0;bottom: 0;left: 50%;z-index: 0;}#sk-container-id-1 div.sk-serial {display: flex;flex-direction: column;align-items: center;background-color: white;padding-right: 0.2em;padding-left: 0.2em;position: relative;}#sk-container-id-1 div.sk-item {position: relative;z-index: 1;}#sk-container-id-1 div.sk-parallel {display: flex;align-items: stretch;justify-content: center;background-color: white;position: relative;}#sk-container-id-1 div.sk-item::before, #sk-container-id-1 div.sk-parallel-item::before {content: \"\";position: absolute;border-left: 1px solid gray;box-sizing: border-box;top: 0;bottom: 0;left: 50%;z-index: -1;}#sk-container-id-1 div.sk-parallel-item {display: flex;flex-direction: column;z-index: 1;position: relative;background-color: white;}#sk-container-id-1 div.sk-parallel-item:first-child::after {align-self: flex-end;width: 50%;}#sk-container-id-1 div.sk-parallel-item:last-child::after {align-self: flex-start;width: 50%;}#sk-container-id-1 div.sk-parallel-item:only-child::after {width: 0;}#sk-container-id-1 div.sk-dashed-wrapped {border: 1px dashed gray;margin: 0 0.4em 0.5em 0.4em;box-sizing: border-box;padding-bottom: 0.4em;background-color: white;}#sk-container-id-1 div.sk-label label {font-family: monospace;font-weight: bold;display: inline-block;line-height: 1.2em;}#sk-container-id-1 div.sk-label-container {text-align: center;}#sk-container-id-1 div.sk-container {/* jupyter's `normalize.less` sets `[hidden] { display: none; }` but bootstrap.min.css set `[hidden] { display: none !important; }` so we also need the `!important` here to be able to override the default hidden behavior on the sphinx rendered scikit-learn.org. See: https://github.com/scikit-learn/scikit-learn/issues/21755 */display: inline-block !important;position: relative;}#sk-container-id-1 div.sk-text-repr-fallback {display: none;}</style><div id=\"sk-container-id-1\" class=\"sk-top-container\"><div class=\"sk-text-repr-fallback\"><pre>RandomForestClassifier()</pre><b>In a Jupyter environment, please rerun this cell to show the HTML representation or trust the notebook. <br />On GitHub, the HTML representation is unable to render, please try loading this page with nbviewer.org.</b></div><div class=\"sk-container\" hidden><div class=\"sk-item\"><div class=\"sk-estimator sk-toggleable\"><input class=\"sk-toggleable__control sk-hidden--visually\" id=\"sk-estimator-id-1\" type=\"checkbox\" checked><label for=\"sk-estimator-id-1\" class=\"sk-toggleable__label sk-toggleable__label-arrow\">RandomForestClassifier</label><div class=\"sk-toggleable__content\"><pre>RandomForestClassifier()</pre></div></div></div></div></div>"
      ],
      "text/plain": [
       "RandomForestClassifier()"
      ]
     },
     "execution_count": 6,
     "metadata": {},
     "output_type": "execute_result"
    }
   ],
   "source": [
    "rf_classifier = RandomForestClassifier()\n",
    "rf_classifier.fit(X_train_ohe, y_train)"
   ]
  },
  {
   "cell_type": "code",
   "execution_count": 7,
   "id": "b99f7187",
   "metadata": {},
   "outputs": [
    {
     "name": "stdout",
     "output_type": "stream",
     "text": [
      "Train accuracy: 1.00\n",
      "Test accuracy: 0.83\n"
     ]
    }
   ],
   "source": [
    "print('Train accuracy: %.2f' % (rf_classifier.score(X_train_ohe, y_train)))\n",
    "print('Test accuracy: %.2f' % (rf_classifier.score(X_test_ohe, y_test)))"
   ]
  },
  {
   "cell_type": "code",
   "execution_count": 8,
   "id": "81853689",
   "metadata": {},
   "outputs": [],
   "source": [
    "# TODO: do not support OHE for now\n",
    "def decorator(func):\n",
    "    def wrapper(X: np.ndarray, *args, **kwargs):\n",
    "        X_ohe = preprocessor.transform(X)\n",
    "        return func(X_ohe, *args, *kwargs)\n",
    "    return wrapper"
   ]
  },
  {
   "cell_type": "code",
   "execution_count": 9,
   "id": "8fdbd89d",
   "metadata": {},
   "outputs": [],
   "source": [
    "# decorate predict proba\n",
    "rf_classifier.predict_proba = decorator(rf_classifier.predict_proba)"
   ]
  },
  {
   "cell_type": "code",
   "execution_count": 10,
   "id": "a47e9bb1",
   "metadata": {},
   "outputs": [],
   "source": [
    "explainer = PartialDependence(predictor=rf_classifier,\n",
    "                              feature_names=adult.feature_names,\n",
    "                              categorical_names=adult.category_map)"
   ]
  },
  {
   "cell_type": "code",
   "execution_count": 108,
   "id": "d371b52e",
   "metadata": {},
   "outputs": [],
   "source": [
    "# adult.category_map"
   ]
  },
  {
   "cell_type": "code",
   "execution_count": 127,
   "id": "9b14f999",
   "metadata": {},
   "outputs": [],
   "source": [
    "exp1 = explainer.explain(X=X_train[:100], \n",
    "                        features_list=[0, 3], #[0, 1, (0, 1), (2, 3)],\n",
    "                        response_method='predict_proba',\n",
    "                        method='auto',\n",
    "                        kind='average')"
   ]
  },
  {
   "cell_type": "code",
   "execution_count": 128,
   "id": "9f69a521",
   "metadata": {},
   "outputs": [],
   "source": [
    "# from copy import deepcopy\n",
    "# exp1minus = deepcopy(exp1)\n",
    "# exp1minus.pd_values = [1 - v for v in exp1.pd_values]"
   ]
  },
  {
   "cell_type": "code",
   "execution_count": 129,
   "id": "a2c02ca2",
   "metadata": {},
   "outputs": [
    {
     "data": {
      "image/png": "[encoded data removed]",
      "text/plain": [
       "<Figure size 720x432 with 3 Axes>"
      ]
     },
     "metadata": {
      "needs_background": "light"
     },
     "output_type": "display_data"
    }
   ],
   "source": [
    "plot_pd(exp=exp1,\n",
    "        features_list='all',\n",
    "        target_idx=0,  # TODO: display for both targets in binary classification\n",
    "        n_cols=2,\n",
    "        centered=False,\n",
    "        sharey='row',\n",
    "        fig_kw={'figheight': 6, 'figwidth': 10});"
   ]
  },
  {
   "cell_type": "code",
   "execution_count": null,
   "id": "db028cca",
   "metadata": {},
   "outputs": [],
   "source": [
    "# plot_pd(exp=exp1minus,\n",
    "#         features_list='all',\n",
    "#         target_idx=0, \n",
    "#         n_cols=2,\n",
    "#         sharey='row',\n",
    "#         fig_kw={'figheight': 8, 'figwidth': 8});"
   ]
  },
  {
   "cell_type": "code",
   "execution_count": null,
   "id": "bcaa6196",
   "metadata": {},
   "outputs": [],
   "source": [
    "exp2 = explainer.explain(X=X_train[:100], \n",
    "                        features_list=numerical_ids,\n",
    "                        response_method='predict_proba',\n",
    "                        percentiles=(0, 1),\n",
    "                        method='auto',\n",
    "                        kind='both')"
   ]
  },
  {
   "cell_type": "code",
   "execution_count": null,
   "id": "e0baef5b",
   "metadata": {},
   "outputs": [],
   "source": [
    "plot_pd(exp=exp2,\n",
    "        features_list='all',\n",
    "        target_idx=0,\n",
    "        n_cols=2,\n",
    "        sharey='row',\n",
    "        fig_kw={'figheight': 8, 'figwidth': 10});"
   ]
  },
  {
   "cell_type": "code",
   "execution_count": null,
   "id": "d06da658",
   "metadata": {},
   "outputs": [],
   "source": [
    "exp3 = explainer.explain(X=X_train[:100], \n",
    "                        features_list=[3, 5, 7],\n",
    "                        response_method='predict_proba',\n",
    "                        percentiles=(0, 1),\n",
    "                        method='auto',\n",
    "                        kind='both')"
   ]
  },
  {
   "cell_type": "code",
   "execution_count": null,
   "id": "4972e0c4",
   "metadata": {},
   "outputs": [],
   "source": [
    "plot_pd(exp=exp3,\n",
    "        features_list='all',\n",
    "        target_idx=0,\n",
    "        n_cols=2,\n",
    "        sharey='row',\n",
    "        fig_kw={'figheight': 8, 'figwidth': 8});"
   ]
  },
  {
   "cell_type": "code",
   "execution_count": null,
   "id": "a7e17d18",
   "metadata": {},
   "outputs": [],
   "source": [
    "ft_list = [adult.feature_names.index('Education'), adult.feature_names.index('Marital Status')]\n",
    "ft_list"
   ]
  },
  {
   "cell_type": "code",
   "execution_count": null,
   "id": "647a1a89",
   "metadata": {},
   "outputs": [],
   "source": [
    "exp4 = explainer.explain(X=X_train[:100], \n",
    "                        features_list=[(2, 3), 2, 3],\n",
    "                        response_method='predict_proba',\n",
    "                        percentiles=(0, 1),\n",
    "                        method='auto',\n",
    "                        kind='average')"
   ]
  },
  {
   "cell_type": "code",
   "execution_count": null,
   "id": "c139f92e",
   "metadata": {},
   "outputs": [],
   "source": [
    "plot_pd(exp=exp4,\n",
    "        features_list='all',\n",
    "        target_idx=0,\n",
    "        n_cols=2,\n",
    "        sharey='row',\n",
    "        fig_kw={'figheight': 8, 'figwidth': 10});"
   ]
  },
  {
   "cell_type": "code",
   "execution_count": null,
   "id": "e0dfca66",
   "metadata": {},
   "outputs": [],
   "source": [
    "exp5 = explainer.explain(X=X_train[:5000], \n",
    "                        features_list=[(0, 10), 8, 10, 0],\n",
    "                        response_method='predict_proba',\n",
    "                        percentiles=(0, 1),\n",
    "                        grid_resolution=50,\n",
    "                        method='auto',\n",
    "                        kind='average')"
   ]
  },
  {
   "cell_type": "code",
   "execution_count": null,
   "id": "63b3a337",
   "metadata": {},
   "outputs": [],
   "source": [
    "plot_pd(exp=exp5,\n",
    "        features_list='all',\n",
    "        target_idx=0,\n",
    "        n_cols=2,\n",
    "        sharey='row',\n",
    "        fig_kw={'figheight': 8, 'figwidth': 10});"
   ]
  }
 ],
 "metadata": {
  "kernelspec": {
   "display_name": "alibi",
   "language": "python",
   "name": "alibi"
  },
  "language_info": {
   "codemirror_mode": {
    "name": "ipython",
    "version": 3
   },
   "file_extension": ".py",
   "mimetype": "text/x-python",
   "name": "python",
   "nbconvert_exporter": "python",
   "pygments_lexer": "ipython3",
   "version": "3.8.13"
  }
 },
 "nbformat": 4,
 "nbformat_minor": 5
}
