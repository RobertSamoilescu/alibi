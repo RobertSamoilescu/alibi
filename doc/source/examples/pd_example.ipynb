{
 "cells": [
  {
   "cell_type": "code",
   "execution_count": 2,
   "id": "3a11c7e6",
   "metadata": {},
   "outputs": [],
   "source": [
    "import numpy as np\n",
    "\n",
    "from sklearn.datasets import load_iris, load_boston\n",
    "from sklearn.model_selection import train_test_split\n",
    "from sklearn.ensemble import RandomForestClassifier, RandomForestRegressor\n",
    "from sklearn.linear_model import LogisticRegression\n",
    "from sklearn.compose import ColumnTransformer\n",
    "from sklearn.preprocessing import StandardScaler, OneHotEncoder\n",
    "\n",
    "from alibi.explainers import PartialDependence, plot_pd\n",
    "from alibi.datasets import fetch_adult\n",
    "\n",
    "%load_ext autoreload\n",
    "%autoreload 2"
   ]
  },
  {
   "cell_type": "markdown",
   "id": "28c0a760",
   "metadata": {},
   "source": [
    "### Iris dataset"
   ]
  },
  {
   "cell_type": "code",
   "execution_count": 3,
   "id": "1cce0f15",
   "metadata": {},
   "outputs": [],
   "source": [
    "# load dataset\n",
    "dataset = load_iris()\n",
    "X, y = dataset['data'], dataset['target']\n",
    "X_train, X_test, y_train, y_test = train_test_split(X, y, test_size=0.2, random_state=0)"
   ]
  },
  {
   "cell_type": "code",
   "execution_count": 4,
   "id": "2300f77d",
   "metadata": {},
   "outputs": [
    {
     "name": "stdout",
     "output_type": "stream",
     "text": [
      "Train accuracy: 1.00\n",
      "Test accuracy: 1.00\n"
     ]
    }
   ],
   "source": [
    "# train random forest classifier\n",
    "rf_classifier = RandomForestClassifier()\n",
    "rf_classifier.fit(X_train, y_train)\n",
    "\n",
    "print('Train accuracy: %.2f' % (rf_classifier.score(X_train, y_train)))\n",
    "print('Test accuracy: %.2f' % (rf_classifier.score(X_test, y_test)))"
   ]
  },
  {
   "cell_type": "code",
   "execution_count": 5,
   "id": "63369394",
   "metadata": {},
   "outputs": [
    {
     "data": {
      "text/plain": [
       "array([2. , 2.2, 2.3, 2.4, 2.5, 2.6, 2.7, 2.8, 2.9, 3. , 3.1, 3.2, 3.3,\n",
       "       3.4, 3.5, 3.6, 3.7, 3.8, 3.9, 4. , 4.1, 4.4])"
      ]
     },
     "execution_count": 5,
     "metadata": {},
     "output_type": "execute_result"
    }
   ],
   "source": [
    "np.unique(X_train[:, 1])"
   ]
  },
  {
   "cell_type": "code",
   "execution_count": 10,
   "id": "98e29f04",
   "metadata": {},
   "outputs": [],
   "source": [
    "# compute partial dependence\n",
    "grid_points = {1: np.array([2, 2.5, 3, 3.5, 4, 4.5]), 2: np.array([1, 2])}\n",
    "pd_classifier = PartialDependence(predictor=rf_classifier)\n",
    "exp_classifier = pd_classifier.explain(X=X_train,\n",
    "                                       features_list=[1, 2, (1, 2)],\n",
    "                                       kind='both',\n",
    "                                       grid_points=grid_points)"
   ]
  },
  {
   "cell_type": "code",
   "execution_count": 13,
   "id": "541e1c9c",
   "metadata": {},
   "outputs": [
    {
     "data": {
      "text/plain": [
       "(3, 120, 6)"
      ]
     },
     "execution_count": 13,
     "metadata": {},
     "output_type": "execute_result"
    }
   ],
   "source": [
    "exp_classifier.ice_values[0].shape"
   ]
  },
  {
   "cell_type": "code",
   "execution_count": null,
   "id": "7dd33880",
   "metadata": {},
   "outputs": [],
   "source": [
    "# plot one way pd\n",
    "plot_pd(exp=exp_classifier,\n",
    "        features_list='all',\n",
    "        target_idx=0,\n",
    "        n_cols=2,\n",
    "        sharey='row',\n",
    "        centered=True,\n",
    "        fig_kw = {'figheight': 8, 'figwidth': 8});"
   ]
  },
  {
   "cell_type": "code",
   "execution_count": null,
   "id": "87c7ed39",
   "metadata": {},
   "outputs": [],
   "source": [
    "# compute two way pd\n",
    "exp_classifier = pd_classifier.explain(X=X_train,\n",
    "                                       features_list=[(0, 1), (1, 2), (2, 3)],\n",
    "                                       kind='average')"
   ]
  },
  {
   "cell_type": "code",
   "execution_count": null,
   "id": "4b15103b",
   "metadata": {},
   "outputs": [],
   "source": [
    "# plot one way pd\n",
    "plot_pd(exp=exp_classifier,\n",
    "        features_list='all',\n",
    "        target_idx=0,\n",
    "        n_cols=2,\n",
    "        sharey='row',\n",
    "        fig_kw = {'figheight': 8, 'figwidth': 8});"
   ]
  },
  {
   "cell_type": "code",
   "execution_count": null,
   "id": "9da9d6c2",
   "metadata": {},
   "outputs": [],
   "source": [
    "# exp_classifier"
   ]
  },
  {
   "cell_type": "markdown",
   "id": "740c410d",
   "metadata": {},
   "source": [
    "### Boston dataset"
   ]
  },
  {
   "cell_type": "code",
   "execution_count": null,
   "id": "858a6a62",
   "metadata": {},
   "outputs": [],
   "source": [
    "# load dataset\n",
    "dataset = load_boston()\n",
    "X, y = dataset['data'], dataset['target']\n",
    "X_train, X_test, y_train, y_test = train_test_split(X, y, test_size=0.2, random_state=0)"
   ]
  },
  {
   "cell_type": "code",
   "execution_count": null,
   "id": "4f260929",
   "metadata": {},
   "outputs": [],
   "source": [
    "# train random forest classifier\n",
    "rf_regressor = RandomForestRegressor()\n",
    "rf_regressor.fit(X_train, y_train)\n",
    "\n",
    "print('Train accuracy: %.2f' % (rf_regressor.score(X_train, y_train)))\n",
    "print('Test accuracy: %.2f' % (rf_regressor.score(X_test, y_test)))"
   ]
  },
  {
   "cell_type": "code",
   "execution_count": null,
   "id": "642b0fbf",
   "metadata": {},
   "outputs": [],
   "source": [
    "# compute partial dependence\n",
    "pd_regressor = PartialDependence(predictor=rf_regressor)\n",
    "exp_regressor = pd_regressor.explain(X=X_train,\n",
    "                                     percentiles=(0, 1),\n",
    "                                     grid_resolution=20,\n",
    "                                     features_list=[0, 1, 2, 3, (0, 1), (2, 3)], \n",
    "                                     kind='average')"
   ]
  },
  {
   "cell_type": "code",
   "execution_count": null,
   "id": "e6677980",
   "metadata": {},
   "outputs": [],
   "source": [
    "# plot one way pd\n",
    "plot_pd(exp=exp_regressor,\n",
    "        features_list='all',\n",
    "        target_idx=0,\n",
    "        n_cols=3,\n",
    "        sharey=None,\n",
    "        fig_kw = {'figheight': 8, 'figwidth': 12});"
   ]
  },
  {
   "cell_type": "code",
   "execution_count": null,
   "id": "31fbf574",
   "metadata": {},
   "outputs": [],
   "source": [
    "exp_regressor = pd_regressor.explain(X=X_train[:100],\n",
    "                                     percentiles=(0, 1),\n",
    "                                     grid_resolution=20,\n",
    "                                     features_list=[0, 1, 2, 3],\n",
    "                                     kind='both')"
   ]
  },
  {
   "cell_type": "code",
   "execution_count": null,
   "id": "6cc86779",
   "metadata": {},
   "outputs": [],
   "source": [
    "# plot one way pd\n",
    "plot_pd(exp=exp_regressor,\n",
    "        features_list='all',\n",
    "        target_idx=0,\n",
    "        n_cols=2,\n",
    "        centered=True,\n",
    "        sharey=None,\n",
    "        fig_kw = {'figheight': 8, 'figwidth': 8});"
   ]
  },
  {
   "cell_type": "markdown",
   "id": "f9495a49",
   "metadata": {},
   "source": [
    "### Black box - classifier"
   ]
  },
  {
   "cell_type": "code",
   "execution_count": null,
   "id": "213e79a8",
   "metadata": {},
   "outputs": [],
   "source": [
    "# load dataset\n",
    "dataset = load_iris()\n",
    "X, y = dataset['data'], dataset['target']\n",
    "X_train, X_test, y_train, y_test = train_test_split(X, y, test_size=0.2, random_state=0)"
   ]
  },
  {
   "cell_type": "code",
   "execution_count": null,
   "id": "967ac91d",
   "metadata": {},
   "outputs": [],
   "source": [
    "# train random forest classifier\n",
    "lr_classifier = LogisticRegression(max_iter=1000)\n",
    "lr_classifier.fit(X_train, y_train)\n",
    "\n",
    "print('Train accuracy: %.2f' % (lr_classifier.score(X_train, y_train)))\n",
    "print('Test accuracy: %.2f' % (lr_classifier.score(X_test, y_test)))"
   ]
  },
  {
   "cell_type": "code",
   "execution_count": null,
   "id": "0d1d4057",
   "metadata": {},
   "outputs": [],
   "source": [
    "# define black-box predictor\n",
    "predictor = lr_classifier.predict_proba"
   ]
  },
  {
   "cell_type": "code",
   "execution_count": null,
   "id": "3c524b62",
   "metadata": {},
   "outputs": [],
   "source": [
    "# compute partial dependence\n",
    "pd_blackbox = PartialDependence(predictor=predictor, predictor_kw={'predictor_type': 'classifier', 'prediction_fn': 'predict_proba', 'num_classes': 3})\n",
    "exp_blackbox = pd_blackbox.explain(X=X_train[:100],\n",
    "                                   percentiles=(0, 1),\n",
    "                                   grid_resolution=20,\n",
    "                                   features_list=[0, 1, 2, 3],\n",
    "                                   kind='both')"
   ]
  },
  {
   "cell_type": "code",
   "execution_count": null,
   "id": "546dabbb",
   "metadata": {},
   "outputs": [],
   "source": [
    "# plot one way pd\n",
    "plot_pd(exp=exp_blackbox,\n",
    "        features_list='all',\n",
    "        target_idx=0,\n",
    "        n_cols=2,\n",
    "        sharey=None,\n",
    "        fig_kw = {'figheight': 8, 'figwidth': 8});"
   ]
  },
  {
   "cell_type": "markdown",
   "id": "2a209e10",
   "metadata": {},
   "source": [
    "### Adult dataset"
   ]
  },
  {
   "cell_type": "code",
   "execution_count": null,
   "id": "e887c818",
   "metadata": {},
   "outputs": [],
   "source": [
    "# fetch adult datasets\n",
    "adult = fetch_adult()\n",
    "\n",
    "# split dataset into train-test-validation\n",
    "X, y = adult.data, adult.target\n",
    "X_train, X_test, y_train, y_test = train_test_split(X, y, train_size=1000, test_size=2000, random_state=13)\n",
    "X_test, X_val, y_test, y_val = train_test_split(X_test, y_test, test_size=0.5, random_state=13)\n",
    "\n",
    "# identify numerical and categorical columns\n",
    "categorical_ids = list(adult.category_map.keys())\n",
    "numerical_ids = [i for i in range(len(adult.feature_names)) if i not in adult.category_map]"
   ]
  },
  {
   "cell_type": "code",
   "execution_count": null,
   "id": "8e50288f",
   "metadata": {},
   "outputs": [],
   "source": [
    "# define data preprocessor\n",
    "num_transf = StandardScaler()\n",
    "cat_transf = OneHotEncoder(\n",
    "    categories=[range(len(x)) for x in adult.category_map.values()],\n",
    "    drop='first',\n",
    ")\n",
    "preprocessor = ColumnTransformer(\n",
    "    transformers=[\n",
    "        ('cat', cat_transf, categorical_ids),\n",
    "        ('num', num_transf, numerical_ids)\n",
    "    ],\n",
    "    sparse_threshold=0\n",
    ")\n",
    "\n",
    "# fit data preprocessor\n",
    "preprocessor = preprocessor.fit(adult.data)"
   ]
  },
  {
   "cell_type": "code",
   "execution_count": null,
   "id": "7e48c925",
   "metadata": {},
   "outputs": [],
   "source": [
    "X_train_ohe = preprocessor.transform(X_train)\n",
    "X_test_ohe = preprocessor.transform(X_test)"
   ]
  },
  {
   "cell_type": "code",
   "execution_count": null,
   "id": "945883fb",
   "metadata": {},
   "outputs": [],
   "source": [
    "rf_classifier = RandomForestClassifier()\n",
    "rf_classifier.fit(X_train_ohe, y_train)"
   ]
  },
  {
   "cell_type": "code",
   "execution_count": null,
   "id": "fe058a80",
   "metadata": {},
   "outputs": [],
   "source": [
    "print('Train accuracy: %.2f' % (rf_classifier.score(X_train_ohe, y_train)))\n",
    "print('Test accuracy: %.2f' % (rf_classifier.score(X_test_ohe, y_test)))"
   ]
  },
  {
   "cell_type": "code",
   "execution_count": null,
   "id": "88403bac",
   "metadata": {},
   "outputs": [],
   "source": [
    "# TODO: do not support OHE for now\n",
    "def decorator(func):\n",
    "    def wrapper(X: np.ndarray, *args, **kwargs):\n",
    "        X_ohe = preprocessor.transform(X)\n",
    "        return func(X_ohe, *args, *kwargs)\n",
    "    return wrapper"
   ]
  },
  {
   "cell_type": "code",
   "execution_count": null,
   "id": "cc263d38",
   "metadata": {},
   "outputs": [],
   "source": [
    "# decorate predict proba\n",
    "rf_classifier.predict_proba = decorator(rf_classifier.predict_proba)"
   ]
  },
  {
   "cell_type": "code",
   "execution_count": null,
   "id": "8c6826f7",
   "metadata": {},
   "outputs": [],
   "source": [
    "explainer = PartialDependence(predictor=rf_classifier,\n",
    "                              feature_names=adult.feature_names,\n",
    "                              categorical_names=adult.category_map)"
   ]
  },
  {
   "cell_type": "code",
   "execution_count": null,
   "id": "1a5c4446",
   "metadata": {},
   "outputs": [],
   "source": [
    "# adult.category_map"
   ]
  },
  {
   "cell_type": "code",
   "execution_count": null,
   "id": "f825c7a4",
   "metadata": {},
   "outputs": [],
   "source": [
    "exp1 = explainer.explain(X=X_train[:100], \n",
    "                        features_list=[1, (1, 2), (2, 3)], #[0, 1, (0, 1), (2, 3)],\n",
    "                        response_method='predict_proba',\n",
    "                        method='auto',\n",
    "                        kind='average')"
   ]
  },
  {
   "cell_type": "code",
   "execution_count": null,
   "id": "21601b00",
   "metadata": {},
   "outputs": [],
   "source": [
    "plot_pd(exp=exp1,\n",
    "        features_list='all',\n",
    "        target_idx=1,  # TODO: display for both targets in binary classification\n",
    "        n_cols=2,\n",
    "        centered=False,\n",
    "        sharey=None,\n",
    "        fig_kw={'figheight': 10, 'figwidth': 10});"
   ]
  },
  {
   "cell_type": "code",
   "execution_count": null,
   "id": "335439a7",
   "metadata": {},
   "outputs": [],
   "source": [
    "# plot_pd(exp=exp1minus,\n",
    "#         features_list='all',\n",
    "#         target_idx=0, \n",
    "#         n_cols=2,\n",
    "#         sharey='row',\n",
    "#         fig_kw={'figheight': 8, 'figwidth': 8});"
   ]
  },
  {
   "cell_type": "code",
   "execution_count": null,
   "id": "b805e389",
   "metadata": {},
   "outputs": [],
   "source": [
    "exp2 = explainer.explain(X=X_train[:100], \n",
    "                        features_list=numerical_ids,\n",
    "                        response_method='predict_proba',\n",
    "                        percentiles=(0, 1),\n",
    "                        method='auto',\n",
    "                        kind='both')"
   ]
  },
  {
   "cell_type": "code",
   "execution_count": null,
   "id": "b7ce7d3b",
   "metadata": {},
   "outputs": [],
   "source": [
    "plot_pd(exp=exp2,\n",
    "        features_list='all',\n",
    "        target_idx=0,\n",
    "        n_cols=2,\n",
    "        sharey='row',\n",
    "        fig_kw={'figheight': 8, 'figwidth': 10});"
   ]
  },
  {
   "cell_type": "code",
   "execution_count": null,
   "id": "20380c1e",
   "metadata": {},
   "outputs": [],
   "source": [
    "exp3 = explainer.explain(X=X_train[:100], \n",
    "                        features_list=[3, 5, 7],\n",
    "                        response_method='predict_proba',\n",
    "                        percentiles=(0, 1),\n",
    "                        method='auto',\n",
    "                        kind='both')"
   ]
  },
  {
   "cell_type": "code",
   "execution_count": null,
   "id": "1c637ad9",
   "metadata": {},
   "outputs": [],
   "source": [
    "plot_pd(exp=exp3,\n",
    "        features_list='all',\n",
    "        target_idx=0,\n",
    "        n_cols=2,\n",
    "        sharey='row',\n",
    "        fig_kw={'figheight': 8, 'figwidth': 8});"
   ]
  },
  {
   "cell_type": "code",
   "execution_count": null,
   "id": "6b82fb5d",
   "metadata": {},
   "outputs": [],
   "source": [
    "ft_list = [adult.feature_names.index('Education'), adult.feature_names.index('Marital Status')]\n",
    "ft_list"
   ]
  },
  {
   "cell_type": "code",
   "execution_count": null,
   "id": "c66a2202",
   "metadata": {},
   "outputs": [],
   "source": [
    "exp4 = explainer.explain(X=X_train[:100], \n",
    "                        features_list=[(2, 3), 2, 3],\n",
    "                        response_method='predict_proba',\n",
    "                        percentiles=(0, 1),\n",
    "                        method='auto',\n",
    "                        kind='average')"
   ]
  },
  {
   "cell_type": "code",
   "execution_count": null,
   "id": "86dda135",
   "metadata": {},
   "outputs": [],
   "source": [
    "plot_pd(exp=exp4,\n",
    "        features_list='all',\n",
    "        target_idx=0,\n",
    "        n_cols=2,\n",
    "        sharey='row',\n",
    "        fig_kw={'figheight': 8, 'figwidth': 10});"
   ]
  },
  {
   "cell_type": "code",
   "execution_count": null,
   "id": "5e070c13",
   "metadata": {},
   "outputs": [],
   "source": [
    "exp5 = explainer.explain(X=X_train[:500], \n",
    "                        features_list=[(0, 10), 8, 10, 0],\n",
    "                        response_method='predict_proba',\n",
    "                        percentiles=(0, 1),\n",
    "                        grid_resolution=10,\n",
    "                        method='auto',\n",
    "                        kind='average')"
   ]
  },
  {
   "cell_type": "code",
   "execution_count": null,
   "id": "09d1c1f0",
   "metadata": {},
   "outputs": [],
   "source": [
    "plot_pd(exp=exp5,\n",
    "        features_list='all',\n",
    "        target_idx=0,\n",
    "        n_cols=2,\n",
    "        levels=10,\n",
    "        sharey='row',\n",
    "        fig_kw={'figheight': 8, 'figwidth': 10});"
   ]
  },
  {
   "cell_type": "code",
   "execution_count": null,
   "id": "cd345f63",
   "metadata": {},
   "outputs": [],
   "source": []
  }
 ],
 "metadata": {
  "kernelspec": {
   "display_name": "alibi",
   "language": "python",
   "name": "alibi"
  },
  "language_info": {
   "codemirror_mode": {
    "name": "ipython",
    "version": 3
   },
   "file_extension": ".py",
   "mimetype": "text/x-python",
   "name": "python",
   "nbconvert_exporter": "python",
   "pygments_lexer": "ipython3",
   "version": "3.8.13"
  }
 },
 "nbformat": 4,
 "nbformat_minor": 5
}
